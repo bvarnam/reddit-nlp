{
 "cells": [
  {
   "cell_type": "markdown",
   "id": "1767c978",
   "metadata": {},
   "source": [
    "# Project 3: Reddit Post Sorting\n",
    "\n",
    "- **ExplainLikeImFive (ELI5)** - Explain Like I'm Five is the best forum and archive on the internet for layperson-friendly explanations. Don't Panic!\n",
    "- **AskScience** - Ask a science question, get a science answer.\n",
    "\n",
    "\n",
    "---\n",
    "\n",
    "We will be analyzing a random collection of posts from two subReddits, **ExplainLikeImFive** and **AskScience**, in order to build a model to predict if an individual posts belong to ELI5 or AskScience; we will be analyzing the Title and Body of the Post.\n",
    "\n",
    "**What am I hoping to achieve with this?**\n",
    "> If ELI5 is distinguishable from AskScience.\n",
    "\n",
    "**Why?**\n",
    "> To see if a subreddit focused on explaining things in a simple manner is that much different than a subreddit that wants to explain it any way they can."
   ]
  },
  {
   "cell_type": "markdown",
   "id": "f3c78f2e",
   "metadata": {},
   "source": [
    "# Data Collection\n",
    "To collect our data we will be utilizing the Requests library. This library allows us to access websites and, in our case for this project, utilize the websites API to control and obtain desired information."
   ]
  },
  {
   "cell_type": "code",
   "execution_count": 1,
   "id": "b3380e87",
   "metadata": {},
   "outputs": [],
   "source": [
    "import requests\n",
    "import pandas as pd\n",
    "\n",
    "import time"
   ]
  },
  {
   "cell_type": "markdown",
   "id": "2f0e2abf",
   "metadata": {},
   "source": [
    "## Testing and Exploring the Pushshift API"
   ]
  },
  {
   "cell_type": "markdown",
   "id": "a55642d5",
   "metadata": {},
   "source": [
    "We will be using the pushshift API wrapper to access Reddit posts, obtained through the following url."
   ]
  },
  {
   "cell_type": "code",
   "execution_count": 2,
   "id": "fd98491f",
   "metadata": {},
   "outputs": [],
   "source": [
    "url = 'https://api.pushshift.io/reddit/search/submission'"
   ]
  },
  {
   "cell_type": "markdown",
   "id": "f2f1a784",
   "metadata": {},
   "source": [
    "Now we identify the subreddits we wish to access and what information we wish to pull."
   ]
  },
  {
   "cell_type": "code",
   "execution_count": 3,
   "id": "0246422c",
   "metadata": {},
   "outputs": [],
   "source": [
    "# params1 and params2 completes the url above according to the pushshift API.\n",
    "params1 = {\n",
    "    'subreddit': 'explainlikeimfive',\n",
    "    'size': 100,\n",
    "    'before': 1631249809\n",
    "}"
   ]
  },
  {
   "cell_type": "markdown",
   "id": "d5d6746d",
   "metadata": {},
   "source": [
    "We are ready to pull the data from the API, given our parameters. We then check to ensure it was connected successfully via status_code; 200 being successful."
   ]
  },
  {
   "cell_type": "code",
   "execution_count": 4,
   "id": "df95fdbd",
   "metadata": {},
   "outputs": [
    {
     "data": {
      "text/plain": [
       "200"
      ]
     },
     "execution_count": 4,
     "metadata": {},
     "output_type": "execute_result"
    }
   ],
   "source": [
    "res = requests.get(url, params1)\n",
    "res.status_code"
   ]
  },
  {
   "cell_type": "markdown",
   "id": "1e1efa25",
   "metadata": {},
   "source": [
    "Our requests.get() gives us a large text document that can be organized into a json format in what appears to be a dictionary of dictionaries. We can format this with the .json() method. Specifically we want the data section of the encompassing dictionary."
   ]
  },
  {
   "cell_type": "code",
   "execution_count": 5,
   "id": "f940817a",
   "metadata": {},
   "outputs": [],
   "source": [
    "posts = res.json()['data']"
   ]
  },
  {
   "cell_type": "code",
   "execution_count": 6,
   "id": "3f156498",
   "metadata": {},
   "outputs": [
    {
     "data": {
      "text/plain": [
       "100"
      ]
     },
     "execution_count": 6,
     "metadata": {},
     "output_type": "execute_result"
    }
   ],
   "source": [
    "len(posts)"
   ]
  },
  {
   "cell_type": "markdown",
   "id": "4dc82da7",
   "metadata": {},
   "source": [
    "We see that we were able to pull the 100 posts, as indicated by our 'size' param. This is also the maximum amount of posts we can pull in a single request.\n",
    "\n",
    "What kind of data does this represent?"
   ]
  },
  {
   "cell_type": "code",
   "execution_count": 7,
   "id": "8cb42101",
   "metadata": {},
   "outputs": [
    {
     "data": {
      "text/plain": [
       "dict_keys(['all_awardings', 'allow_live_comments', 'author', 'author_flair_css_class', 'author_flair_richtext', 'author_flair_text', 'author_flair_type', 'author_fullname', 'author_is_blocked', 'author_patreon_flair', 'author_premium', 'awarders', 'can_mod_post', 'contest_mode', 'created_utc', 'domain', 'full_link', 'gildings', 'id', 'is_created_from_ads_ui', 'is_crosspostable', 'is_meta', 'is_original_content', 'is_reddit_media_domain', 'is_robot_indexable', 'is_self', 'is_video', 'link_flair_background_color', 'link_flair_css_class', 'link_flair_richtext', 'link_flair_template_id', 'link_flair_text', 'link_flair_text_color', 'link_flair_type', 'locked', 'media_only', 'no_follow', 'num_comments', 'num_crossposts', 'over_18', 'parent_whitelist_status', 'permalink', 'pinned', 'pwls', 'removed_by_category', 'retrieved_on', 'score', 'selftext', 'send_replies', 'spoiler', 'stickied', 'subreddit', 'subreddit_id', 'subreddit_subscribers', 'subreddit_type', 'suggested_sort', 'thumbnail', 'title', 'total_awards_received', 'treatment_tags', 'upvote_ratio', 'url', 'whitelist_status', 'wls'])"
      ]
     },
     "execution_count": 7,
     "metadata": {},
     "output_type": "execute_result"
    }
   ],
   "source": [
    "posts[0].keys()"
   ]
  },
  {
   "cell_type": "markdown",
   "id": "a0fade1b",
   "metadata": {},
   "source": [
    "To make it more readable, we can turn our data into a dataframe. We don't need all of the informational categories from above, so let's pick what we believe would be most useful."
   ]
  },
  {
   "cell_type": "code",
   "execution_count": 8,
   "id": "c9011e9a",
   "metadata": {},
   "outputs": [
    {
     "data": {
      "text/html": [
       "<div>\n",
       "<style scoped>\n",
       "    .dataframe tbody tr th:only-of-type {\n",
       "        vertical-align: middle;\n",
       "    }\n",
       "\n",
       "    .dataframe tbody tr th {\n",
       "        vertical-align: top;\n",
       "    }\n",
       "\n",
       "    .dataframe thead th {\n",
       "        text-align: right;\n",
       "    }\n",
       "</style>\n",
       "<table border=\"1\" class=\"dataframe\">\n",
       "  <thead>\n",
       "    <tr style=\"text-align: right;\">\n",
       "      <th></th>\n",
       "      <th>id</th>\n",
       "      <th>subreddit</th>\n",
       "      <th>title</th>\n",
       "      <th>author</th>\n",
       "      <th>created_utc</th>\n",
       "      <th>selftext</th>\n",
       "      <th>created_utc</th>\n",
       "    </tr>\n",
       "  </thead>\n",
       "  <tbody>\n",
       "    <tr>\n",
       "      <th>0</th>\n",
       "      <td>plee4p</td>\n",
       "      <td>explainlikeimfive</td>\n",
       "      <td>ELI5: How long does it take for defensins on s...</td>\n",
       "      <td>alisensei</td>\n",
       "      <td>1631249765</td>\n",
       "      <td>[removed]</td>\n",
       "      <td>1631249765</td>\n",
       "    </tr>\n",
       "    <tr>\n",
       "      <th>1</th>\n",
       "      <td>pled6q</td>\n",
       "      <td>explainlikeimfive</td>\n",
       "      <td>ELI5: What is the difference between the words...</td>\n",
       "      <td>Danaaerys</td>\n",
       "      <td>1631249646</td>\n",
       "      <td></td>\n",
       "      <td>1631249646</td>\n",
       "    </tr>\n",
       "    <tr>\n",
       "      <th>2</th>\n",
       "      <td>plebya</td>\n",
       "      <td>explainlikeimfive</td>\n",
       "      <td>ELi5: Why can I seemingly breathe out two diff...</td>\n",
       "      <td>KingRexxi</td>\n",
       "      <td>1631249494</td>\n",
       "      <td>[removed]</td>\n",
       "      <td>1631249494</td>\n",
       "    </tr>\n",
       "    <tr>\n",
       "      <th>3</th>\n",
       "      <td>ple9hy</td>\n",
       "      <td>explainlikeimfive</td>\n",
       "      <td>ELI5: Why is it impossible to get comfortable ...</td>\n",
       "      <td>smore-phine</td>\n",
       "      <td>1631249200</td>\n",
       "      <td>Have to be up in six hours for work but my min...</td>\n",
       "      <td>1631249200</td>\n",
       "    </tr>\n",
       "    <tr>\n",
       "      <th>4</th>\n",
       "      <td>ple8i3</td>\n",
       "      <td>explainlikeimfive</td>\n",
       "      <td>ELI5: How are ideas formed?</td>\n",
       "      <td>Mjosaphine</td>\n",
       "      <td>1631249085</td>\n",
       "      <td></td>\n",
       "      <td>1631249085</td>\n",
       "    </tr>\n",
       "  </tbody>\n",
       "</table>\n",
       "</div>"
      ],
      "text/plain": [
       "       id          subreddit  \\\n",
       "0  plee4p  explainlikeimfive   \n",
       "1  pled6q  explainlikeimfive   \n",
       "2  plebya  explainlikeimfive   \n",
       "3  ple9hy  explainlikeimfive   \n",
       "4  ple8i3  explainlikeimfive   \n",
       "\n",
       "                                               title       author  \\\n",
       "0  ELI5: How long does it take for defensins on s...    alisensei   \n",
       "1  ELI5: What is the difference between the words...    Danaaerys   \n",
       "2  ELi5: Why can I seemingly breathe out two diff...    KingRexxi   \n",
       "3  ELI5: Why is it impossible to get comfortable ...  smore-phine   \n",
       "4                        ELI5: How are ideas formed?   Mjosaphine   \n",
       "\n",
       "   created_utc                                           selftext  created_utc  \n",
       "0   1631249765                                          [removed]   1631249765  \n",
       "1   1631249646                                                      1631249646  \n",
       "2   1631249494                                          [removed]   1631249494  \n",
       "3   1631249200  Have to be up in six hours for work but my min...   1631249200  \n",
       "4   1631249085                                                      1631249085  "
      ]
     },
     "execution_count": 8,
     "metadata": {},
     "output_type": "execute_result"
    }
   ],
   "source": [
    "df = pd.DataFrame(posts)[['id','subreddit', 'title', 'author', 'created_utc', 'selftext', 'created_utc']]\n",
    "df.head()"
   ]
  },
  {
   "cell_type": "code",
   "execution_count": 9,
   "id": "8b6edec0",
   "metadata": {
    "scrolled": true
   },
   "outputs": [
    {
     "data": {
      "text/html": [
       "<div>\n",
       "<style scoped>\n",
       "    .dataframe tbody tr th:only-of-type {\n",
       "        vertical-align: middle;\n",
       "    }\n",
       "\n",
       "    .dataframe tbody tr th {\n",
       "        vertical-align: top;\n",
       "    }\n",
       "\n",
       "    .dataframe thead th {\n",
       "        text-align: right;\n",
       "    }\n",
       "</style>\n",
       "<table border=\"1\" class=\"dataframe\">\n",
       "  <thead>\n",
       "    <tr style=\"text-align: right;\">\n",
       "      <th></th>\n",
       "      <th>id</th>\n",
       "      <th>subreddit</th>\n",
       "      <th>title</th>\n",
       "      <th>author</th>\n",
       "      <th>created_utc</th>\n",
       "      <th>selftext</th>\n",
       "      <th>created_utc</th>\n",
       "    </tr>\n",
       "  </thead>\n",
       "  <tbody>\n",
       "    <tr>\n",
       "      <th>95</th>\n",
       "      <td>pl6ihz</td>\n",
       "      <td>explainlikeimfive</td>\n",
       "      <td>Eli5 How can the skin regenerate but a cut off...</td>\n",
       "      <td>klusterxx</td>\n",
       "      <td>1631221154</td>\n",
       "      <td></td>\n",
       "      <td>1631221154</td>\n",
       "    </tr>\n",
       "    <tr>\n",
       "      <th>96</th>\n",
       "      <td>pl6e4z</td>\n",
       "      <td>explainlikeimfive</td>\n",
       "      <td>ELI5: How do wind turbines work?</td>\n",
       "      <td>urfavefilipina</td>\n",
       "      <td>1631220760</td>\n",
       "      <td>How does each significant part of the turbine ...</td>\n",
       "      <td>1631220760</td>\n",
       "    </tr>\n",
       "    <tr>\n",
       "      <th>97</th>\n",
       "      <td>pl6cgb</td>\n",
       "      <td>explainlikeimfive</td>\n",
       "      <td>ELI5: What is particle horizon?</td>\n",
       "      <td>iahimide</td>\n",
       "      <td>1631220606</td>\n",
       "      <td></td>\n",
       "      <td>1631220606</td>\n",
       "    </tr>\n",
       "    <tr>\n",
       "      <th>98</th>\n",
       "      <td>pl6ah2</td>\n",
       "      <td>explainlikeimfive</td>\n",
       "      <td>ELI5: how do colorblind glasses work?</td>\n",
       "      <td>Jhams3</td>\n",
       "      <td>1631220429</td>\n",
       "      <td>[removed]</td>\n",
       "      <td>1631220429</td>\n",
       "    </tr>\n",
       "    <tr>\n",
       "      <th>99</th>\n",
       "      <td>pl68us</td>\n",
       "      <td>explainlikeimfive</td>\n",
       "      <td>ELI5: What is the difference between the dot p...</td>\n",
       "      <td>camthedps</td>\n",
       "      <td>1631220288</td>\n",
       "      <td></td>\n",
       "      <td>1631220288</td>\n",
       "    </tr>\n",
       "  </tbody>\n",
       "</table>\n",
       "</div>"
      ],
      "text/plain": [
       "        id          subreddit  \\\n",
       "95  pl6ihz  explainlikeimfive   \n",
       "96  pl6e4z  explainlikeimfive   \n",
       "97  pl6cgb  explainlikeimfive   \n",
       "98  pl6ah2  explainlikeimfive   \n",
       "99  pl68us  explainlikeimfive   \n",
       "\n",
       "                                                title          author  \\\n",
       "95  Eli5 How can the skin regenerate but a cut off...       klusterxx   \n",
       "96                   ELI5: How do wind turbines work?  urfavefilipina   \n",
       "97                    ELI5: What is particle horizon?        iahimide   \n",
       "98              ELI5: how do colorblind glasses work?          Jhams3   \n",
       "99  ELI5: What is the difference between the dot p...       camthedps   \n",
       "\n",
       "    created_utc                                           selftext  \\\n",
       "95   1631221154                                                      \n",
       "96   1631220760  How does each significant part of the turbine ...   \n",
       "97   1631220606                                                      \n",
       "98   1631220429                                          [removed]   \n",
       "99   1631220288                                                      \n",
       "\n",
       "    created_utc  \n",
       "95   1631221154  \n",
       "96   1631220760  \n",
       "97   1631220606  \n",
       "98   1631220429  \n",
       "99   1631220288  "
      ]
     },
     "execution_count": 9,
     "metadata": {},
     "output_type": "execute_result"
    }
   ],
   "source": [
    "df.tail()"
   ]
  },
  {
   "cell_type": "markdown",
   "id": "b1da81d9",
   "metadata": {},
   "source": [
    "**Note: 'metadata' is a good way to check total posts to see if the subreddit is a feasible choice for the project.**\n",
    "\n",
    "Also, use time.sleep(x) between subsequent pulls in order to get past the max size of 100 per request without getting blocked."
   ]
  },
  {
   "cell_type": "code",
   "execution_count": 10,
   "id": "e005569c",
   "metadata": {},
   "outputs": [],
   "source": [
    "params2 = {\n",
    "    'subreddit': 'explainlikeimfive',\n",
    "    'metadata': 'true'\n",
    "}"
   ]
  },
  {
   "cell_type": "code",
   "execution_count": 11,
   "id": "dbc5c34f",
   "metadata": {},
   "outputs": [
    {
     "data": {
      "text/plain": [
       "200"
      ]
     },
     "execution_count": 11,
     "metadata": {},
     "output_type": "execute_result"
    }
   ],
   "source": [
    "res2 = requests.get(url, params2)\n",
    "res2.status_code"
   ]
  },
  {
   "cell_type": "code",
   "execution_count": 12,
   "id": "0844fb6c",
   "metadata": {
    "scrolled": false
   },
   "outputs": [
    {
     "data": {
      "text/plain": [
       "{'after': None,\n",
       " 'agg_size': 100,\n",
       " 'api_version': '3.0',\n",
       " 'before': None,\n",
       " 'es_query': {'query': {'bool': {'filter': {'bool': {'must': [{'terms': {'subreddit': ['explainlikeimfive']}}],\n",
       "      'should': []}},\n",
       "    'must_not': []}},\n",
       "  'size': 25,\n",
       "  'sort': {'created_utc': 'desc'}},\n",
       " 'execution_time_milliseconds': 30.36,\n",
       " 'index': 'rs',\n",
       " 'metadata': 'true',\n",
       " 'ranges': [],\n",
       " 'results_returned': 25,\n",
       " 'shards': {'failed': 0, 'skipped': 0, 'successful': 20, 'total': 24},\n",
       " 'size': 25,\n",
       " 'sort': 'desc',\n",
       " 'sort_type': 'created_utc',\n",
       " 'subreddit': ['explainlikeimfive'],\n",
       " 'timed_out': False,\n",
       " 'total_results': 1329080}"
      ]
     },
     "execution_count": 12,
     "metadata": {},
     "output_type": "execute_result"
    }
   ],
   "source": [
    "res2.json()['metadata']"
   ]
  },
  {
   "cell_type": "markdown",
   "id": "a59dbf12",
   "metadata": {},
   "source": [
    "**1.3 million posts should be enough. ExplainLikeImFive will be an acceptable choice.**"
   ]
  },
  {
   "cell_type": "code",
   "execution_count": 13,
   "id": "c4474472",
   "metadata": {},
   "outputs": [],
   "source": [
    "params3 = {\n",
    "    'subreddit': 'askscience',\n",
    "    'metadata': 'true'\n",
    "}"
   ]
  },
  {
   "cell_type": "code",
   "execution_count": 14,
   "id": "6bc1be27",
   "metadata": {},
   "outputs": [
    {
     "data": {
      "text/plain": [
       "200"
      ]
     },
     "execution_count": 14,
     "metadata": {},
     "output_type": "execute_result"
    }
   ],
   "source": [
    "res3 = requests.get(url, params3)\n",
    "res3.status_code"
   ]
  },
  {
   "cell_type": "code",
   "execution_count": 15,
   "id": "1bd2e184",
   "metadata": {},
   "outputs": [
    {
     "data": {
      "text/plain": [
       "1129348"
      ]
     },
     "execution_count": 15,
     "metadata": {},
     "output_type": "execute_result"
    }
   ],
   "source": [
    "res3.json()['metadata']['total_results']"
   ]
  },
  {
   "cell_type": "markdown",
   "id": "70f43310",
   "metadata": {},
   "source": [
    "**1.1 million posts should be enough. AskScience will be an acceptable choice.**"
   ]
  },
  {
   "cell_type": "markdown",
   "id": "f53bfea4",
   "metadata": {},
   "source": [
    "---\n",
    "\n",
    "## Data Collection\n",
    "\n",
    "Now that we have done some exploration on our SubReddits and found what is available to us through Pushshift's API, let's pull enough data to perform an analysis."
   ]
  },
  {
   "cell_type": "code",
   "execution_count": 16,
   "id": "e2025619",
   "metadata": {},
   "outputs": [],
   "source": [
    "def pull_data(subreddit):\n",
    "    '''\n",
    "    This function will attempt to pull 10,000 posts from the provided subreddit in chunks of 100.\n",
    "    \n",
    "    Parameter 'subreddit' should be a str, referring to the portion of the url that represents the subreddit.\n",
    "    '''\n",
    "    \n",
    "    # Used to initial our dataframe\n",
    "    i=0\n",
    "    big_df = [[]]\n",
    "    \n",
    "    # We will be finding new posts by using the 'before' paramater available to us by pushshift api.\n",
    "    # Initially, we do not want there to be any 'before' parameter.\n",
    "    set_time = 1631249809\n",
    "    \n",
    "    # Keep running until we have 10,000 posts\n",
    "    while len(big_df) < 10_000:\n",
    "    \n",
    "        # The parameters we pass to the pushshift api to pull data. size=100 is the maximum available \n",
    "        #and we only require data from the listed columns in 'fields'\n",
    "        params = {\n",
    "            'subreddit': subreddit,\n",
    "            'size': 100,\n",
    "            'fields': ['id', 'subreddit', 'title', 'author', 'created_utc', 'selftext', 'body'],\n",
    "            'selftext:not': '[removed]',\n",
    "            'title:not': 'AMA Series',\n",
    "            'num_comments': '>5',\n",
    "            'before': set_time\n",
    "        }\n",
    "\n",
    "        # Access the api through our requests library\n",
    "        res = requests.get(url, params)\n",
    "\n",
    "        # Ensure that our connection was successful (=200); if it isnt, exit and tell us the code it got.\n",
    "        if res.status_code != 200:\n",
    "            return print('There as been an error: res.status_code =', res.status_code)\n",
    "\n",
    "        # Continue with our cycling program if status_code == 200\n",
    "        else:\n",
    "            \n",
    "            # Pull in our data into a variable 'posts'\n",
    "            posts = res.json()['data']\n",
    "            \n",
    "            # Find the post that was submitted at the farthest time from present and set it to 'set_time'\n",
    "            set_time = posts[-1]['created_utc']\n",
    "            \n",
    "            # Initialize our dataframe that will be holding all of the posts for this subreddit\n",
    "            # Grab our first 100 posts\n",
    "            if i == 0:\n",
    "                big_df = pd.DataFrame(posts)\n",
    "                \n",
    "                # Change i so this will not be ran again\n",
    "                i = 1\n",
    "                \n",
    "                # Set a pause time so we don't get blocked by Reddit for abusing the API\n",
    "                time.sleep(0.25)\n",
    "            \n",
    "            # After our first 100 posts, grab each subsequent 100 posts and concat onto our dataframe\n",
    "            else:\n",
    "                df = pd.DataFrame(posts)\n",
    "                big_df = pd.concat([big_df, df])\n",
    "\n",
    "                # Set a pause time so we don't get blocked by Reddit for abusing the API\n",
    "                time.sleep(1)\n",
    "                \n",
    "    return big_df"
   ]
  },
  {
   "cell_type": "code",
   "execution_count": 32,
   "id": "e31eaa36",
   "metadata": {
    "scrolled": true
   },
   "outputs": [
    {
     "name": "stdout",
     "output_type": "stream",
     "text": [
      "10093\n"
     ]
    },
    {
     "data": {
      "text/html": [
       "<div>\n",
       "<style scoped>\n",
       "    .dataframe tbody tr th:only-of-type {\n",
       "        vertical-align: middle;\n",
       "    }\n",
       "\n",
       "    .dataframe tbody tr th {\n",
       "        vertical-align: top;\n",
       "    }\n",
       "\n",
       "    .dataframe thead th {\n",
       "        text-align: right;\n",
       "    }\n",
       "</style>\n",
       "<table border=\"1\" class=\"dataframe\">\n",
       "  <thead>\n",
       "    <tr style=\"text-align: right;\">\n",
       "      <th></th>\n",
       "      <th>author</th>\n",
       "      <th>created_utc</th>\n",
       "      <th>id</th>\n",
       "      <th>selftext</th>\n",
       "      <th>subreddit</th>\n",
       "      <th>title</th>\n",
       "    </tr>\n",
       "  </thead>\n",
       "  <tbody>\n",
       "    <tr>\n",
       "      <th>0</th>\n",
       "      <td>ChrisGnam</td>\n",
       "      <td>1630428742</td>\n",
       "      <td>pf9tvb</td>\n",
       "      <td>So most of my peers (26 y/o and older) don't h...</td>\n",
       "      <td>askscience</td>\n",
       "      <td>Are there physiological or psychological diffe...</td>\n",
       "    </tr>\n",
       "    <tr>\n",
       "      <th>1</th>\n",
       "      <td>MaoGo</td>\n",
       "      <td>1629571284</td>\n",
       "      <td>p8wued</td>\n",
       "      <td>Neutrinos are neutrally charged particles that...</td>\n",
       "      <td>askscience</td>\n",
       "      <td>How do we know that the neutrinos have spin?</td>\n",
       "    </tr>\n",
       "    <tr>\n",
       "      <th>2</th>\n",
       "      <td>the_protagonist</td>\n",
       "      <td>1629571059</td>\n",
       "      <td>p8ws1c</td>\n",
       "      <td>How does that “memory” work?  \\n\\nThis comes f...</td>\n",
       "      <td>askscience</td>\n",
       "      <td>If white blood cells are constantly dying and ...</td>\n",
       "    </tr>\n",
       "    <tr>\n",
       "      <th>3</th>\n",
       "      <td>CyKii</td>\n",
       "      <td>1629567841</td>\n",
       "      <td>p8vtoe</td>\n",
       "      <td>Obviously it's best to be careful about these ...</td>\n",
       "      <td>askscience</td>\n",
       "      <td>If mRNA vaccines remain proven safe, is it act...</td>\n",
       "    </tr>\n",
       "    <tr>\n",
       "      <th>4</th>\n",
       "      <td>hairycoo</td>\n",
       "      <td>1629566821</td>\n",
       "      <td>p8vinv</td>\n",
       "      <td></td>\n",
       "      <td>askscience</td>\n",
       "      <td>Can't we include multiple virus traits rather ...</td>\n",
       "    </tr>\n",
       "  </tbody>\n",
       "</table>\n",
       "</div>"
      ],
      "text/plain": [
       "            author  created_utc      id  \\\n",
       "0        ChrisGnam   1630428742  pf9tvb   \n",
       "1            MaoGo   1629571284  p8wued   \n",
       "2  the_protagonist   1629571059  p8ws1c   \n",
       "3            CyKii   1629567841  p8vtoe   \n",
       "4         hairycoo   1629566821  p8vinv   \n",
       "\n",
       "                                            selftext   subreddit  \\\n",
       "0  So most of my peers (26 y/o and older) don't h...  askscience   \n",
       "1  Neutrinos are neutrally charged particles that...  askscience   \n",
       "2  How does that “memory” work?  \\n\\nThis comes f...  askscience   \n",
       "3  Obviously it's best to be careful about these ...  askscience   \n",
       "4                                                     askscience   \n",
       "\n",
       "                                               title  \n",
       "0  Are there physiological or psychological diffe...  \n",
       "1       How do we know that the neutrinos have spin?  \n",
       "2  If white blood cells are constantly dying and ...  \n",
       "3  If mRNA vaccines remain proven safe, is it act...  \n",
       "4  Can't we include multiple virus traits rather ...  "
      ]
     },
     "execution_count": 32,
     "metadata": {},
     "output_type": "execute_result"
    }
   ],
   "source": [
    "ask_df = pull_data('askscience')\n",
    "print(len(ask_df))\n",
    "ask_df.head()"
   ]
  },
  {
   "cell_type": "code",
   "execution_count": 33,
   "id": "8a18101a",
   "metadata": {},
   "outputs": [
    {
     "name": "stdout",
     "output_type": "stream",
     "text": [
      "10096\n"
     ]
    },
    {
     "data": {
      "text/html": [
       "<div>\n",
       "<style scoped>\n",
       "    .dataframe tbody tr th:only-of-type {\n",
       "        vertical-align: middle;\n",
       "    }\n",
       "\n",
       "    .dataframe tbody tr th {\n",
       "        vertical-align: top;\n",
       "    }\n",
       "\n",
       "    .dataframe thead th {\n",
       "        text-align: right;\n",
       "    }\n",
       "</style>\n",
       "<table border=\"1\" class=\"dataframe\">\n",
       "  <thead>\n",
       "    <tr style=\"text-align: right;\">\n",
       "      <th></th>\n",
       "      <th>author</th>\n",
       "      <th>created_utc</th>\n",
       "      <th>id</th>\n",
       "      <th>selftext</th>\n",
       "      <th>subreddit</th>\n",
       "      <th>title</th>\n",
       "    </tr>\n",
       "  </thead>\n",
       "  <tbody>\n",
       "    <tr>\n",
       "      <th>0</th>\n",
       "      <td>j_d0tnet</td>\n",
       "      <td>1631248750</td>\n",
       "      <td>ple5nz</td>\n",
       "      <td>Disclaimer: I did see a previous question touc...</td>\n",
       "      <td>explainlikeimfive</td>\n",
       "      <td>ELI5: Seriously, WTF is up with surface area a...</td>\n",
       "    </tr>\n",
       "    <tr>\n",
       "      <th>1</th>\n",
       "      <td>ImpossibleZero</td>\n",
       "      <td>1631247022</td>\n",
       "      <td>pldqkn</td>\n",
       "      <td>I have a 30 year VA loan at 3.75% and my prope...</td>\n",
       "      <td>explainlikeimfive</td>\n",
       "      <td>ELI5: What does Refinancing a Mortgage Mean an...</td>\n",
       "    </tr>\n",
       "    <tr>\n",
       "      <th>2</th>\n",
       "      <td>80sKidCA</td>\n",
       "      <td>1631246964</td>\n",
       "      <td>pldq29</td>\n",
       "      <td></td>\n",
       "      <td>explainlikeimfive</td>\n",
       "      <td>ELI5: Why and how does your body store tension...</td>\n",
       "    </tr>\n",
       "    <tr>\n",
       "      <th>3</th>\n",
       "      <td>Chardington</td>\n",
       "      <td>1631244279</td>\n",
       "      <td>pld1sd</td>\n",
       "      <td>I’ve been getting into finance, stonks and cry...</td>\n",
       "      <td>explainlikeimfive</td>\n",
       "      <td>ELI5: What exactly is “liquidity”?</td>\n",
       "    </tr>\n",
       "    <tr>\n",
       "      <th>4</th>\n",
       "      <td>DentonJoe</td>\n",
       "      <td>1631244183</td>\n",
       "      <td>pld0wi</td>\n",
       "      <td>Always wondered why it doesn’t make sense to u...</td>\n",
       "      <td>explainlikeimfive</td>\n",
       "      <td>Eli5 why are diesel/electric powertrains econo...</td>\n",
       "    </tr>\n",
       "  </tbody>\n",
       "</table>\n",
       "</div>"
      ],
      "text/plain": [
       "           author  created_utc      id  \\\n",
       "0        j_d0tnet   1631248750  ple5nz   \n",
       "1  ImpossibleZero   1631247022  pldqkn   \n",
       "2        80sKidCA   1631246964  pldq29   \n",
       "3     Chardington   1631244279  pld1sd   \n",
       "4       DentonJoe   1631244183  pld0wi   \n",
       "\n",
       "                                            selftext          subreddit  \\\n",
       "0  Disclaimer: I did see a previous question touc...  explainlikeimfive   \n",
       "1  I have a 30 year VA loan at 3.75% and my prope...  explainlikeimfive   \n",
       "2                                                     explainlikeimfive   \n",
       "3  I’ve been getting into finance, stonks and cry...  explainlikeimfive   \n",
       "4  Always wondered why it doesn’t make sense to u...  explainlikeimfive   \n",
       "\n",
       "                                               title  \n",
       "0  ELI5: Seriously, WTF is up with surface area a...  \n",
       "1  ELI5: What does Refinancing a Mortgage Mean an...  \n",
       "2  ELI5: Why and how does your body store tension...  \n",
       "3                 ELI5: What exactly is “liquidity”?  \n",
       "4  Eli5 why are diesel/electric powertrains econo...  "
      ]
     },
     "execution_count": 33,
     "metadata": {},
     "output_type": "execute_result"
    }
   ],
   "source": [
    "ex_df = pull_data('explainlikeimfive')\n",
    "print(len(ex_df))\n",
    "ex_df.head()"
   ]
  },
  {
   "cell_type": "markdown",
   "id": "80d806c2",
   "metadata": {},
   "source": [
    "### Check unique ID's to ensure we pulled our data correctly using the 'before' parameters.\n",
    "\n",
    "The number of unique IDs should equal the length of our dataframe."
   ]
  },
  {
   "cell_type": "code",
   "execution_count": 34,
   "id": "b4c70ff1",
   "metadata": {},
   "outputs": [],
   "source": [
    "assert len(ask_df['id'].unique()) == len(ask_df)"
   ]
  },
  {
   "cell_type": "code",
   "execution_count": 35,
   "id": "f455ed1a",
   "metadata": {},
   "outputs": [],
   "source": [
    "assert len(ex_df['id'].unique()) == len(ex_df)"
   ]
  },
  {
   "cell_type": "markdown",
   "id": "48d19b00",
   "metadata": {},
   "source": [
    "**Make sure we don't have any deleted or removed posts**"
   ]
  },
  {
   "cell_type": "code",
   "execution_count": 36,
   "id": "e0610fe0",
   "metadata": {},
   "outputs": [
    {
     "data": {
      "text/plain": [
       "(10096, 6)"
      ]
     },
     "execution_count": 36,
     "metadata": {},
     "output_type": "execute_result"
    }
   ],
   "source": [
    "ex_df[ex_df['selftext']!= '[removed]'].shape"
   ]
  },
  {
   "cell_type": "code",
   "execution_count": 37,
   "id": "bc1a89e1",
   "metadata": {},
   "outputs": [
    {
     "data": {
      "text/plain": [
       "(10093, 6)"
      ]
     },
     "execution_count": 37,
     "metadata": {},
     "output_type": "execute_result"
    }
   ],
   "source": [
    "ask_df[ask_df['selftext']!= '[removed]'].shape"
   ]
  },
  {
   "cell_type": "markdown",
   "id": "60f9fe1e",
   "metadata": {},
   "source": [
    "**Success!**\n",
    "\n",
    "Now let's save these dataframes into csv's and utilize pandas default null value parameters to see how many null values our dataset contains."
   ]
  },
  {
   "cell_type": "code",
   "execution_count": 38,
   "id": "306823fe",
   "metadata": {},
   "outputs": [],
   "source": [
    "ask_df.to_csv('../data/ask_df.csv', index=False)\n",
    "ex_df.to_csv('../data/ex_df.csv', index=False)"
   ]
  },
  {
   "cell_type": "code",
   "execution_count": 39,
   "id": "aee1c80e",
   "metadata": {},
   "outputs": [
    {
     "name": "stdout",
     "output_type": "stream",
     "text": [
      "(10096, 6)\n"
     ]
    },
    {
     "data": {
      "text/html": [
       "<div>\n",
       "<style scoped>\n",
       "    .dataframe tbody tr th:only-of-type {\n",
       "        vertical-align: middle;\n",
       "    }\n",
       "\n",
       "    .dataframe tbody tr th {\n",
       "        vertical-align: top;\n",
       "    }\n",
       "\n",
       "    .dataframe thead th {\n",
       "        text-align: right;\n",
       "    }\n",
       "</style>\n",
       "<table border=\"1\" class=\"dataframe\">\n",
       "  <thead>\n",
       "    <tr style=\"text-align: right;\">\n",
       "      <th></th>\n",
       "      <th>author</th>\n",
       "      <th>created_utc</th>\n",
       "      <th>id</th>\n",
       "      <th>selftext</th>\n",
       "      <th>subreddit</th>\n",
       "      <th>title</th>\n",
       "    </tr>\n",
       "  </thead>\n",
       "  <tbody>\n",
       "    <tr>\n",
       "      <th>0</th>\n",
       "      <td>j_d0tnet</td>\n",
       "      <td>1631248750</td>\n",
       "      <td>ple5nz</td>\n",
       "      <td>Disclaimer: I did see a previous question touc...</td>\n",
       "      <td>explainlikeimfive</td>\n",
       "      <td>ELI5: Seriously, WTF is up with surface area a...</td>\n",
       "    </tr>\n",
       "    <tr>\n",
       "      <th>1</th>\n",
       "      <td>ImpossibleZero</td>\n",
       "      <td>1631247022</td>\n",
       "      <td>pldqkn</td>\n",
       "      <td>I have a 30 year VA loan at 3.75% and my prope...</td>\n",
       "      <td>explainlikeimfive</td>\n",
       "      <td>ELI5: What does Refinancing a Mortgage Mean an...</td>\n",
       "    </tr>\n",
       "    <tr>\n",
       "      <th>2</th>\n",
       "      <td>80sKidCA</td>\n",
       "      <td>1631246964</td>\n",
       "      <td>pldq29</td>\n",
       "      <td>NaN</td>\n",
       "      <td>explainlikeimfive</td>\n",
       "      <td>ELI5: Why and how does your body store tension...</td>\n",
       "    </tr>\n",
       "    <tr>\n",
       "      <th>3</th>\n",
       "      <td>Chardington</td>\n",
       "      <td>1631244279</td>\n",
       "      <td>pld1sd</td>\n",
       "      <td>I’ve been getting into finance, stonks and cry...</td>\n",
       "      <td>explainlikeimfive</td>\n",
       "      <td>ELI5: What exactly is “liquidity”?</td>\n",
       "    </tr>\n",
       "    <tr>\n",
       "      <th>4</th>\n",
       "      <td>DentonJoe</td>\n",
       "      <td>1631244183</td>\n",
       "      <td>pld0wi</td>\n",
       "      <td>Always wondered why it doesn’t make sense to u...</td>\n",
       "      <td>explainlikeimfive</td>\n",
       "      <td>Eli5 why are diesel/electric powertrains econo...</td>\n",
       "    </tr>\n",
       "  </tbody>\n",
       "</table>\n",
       "</div>"
      ],
      "text/plain": [
       "           author  created_utc      id  \\\n",
       "0        j_d0tnet   1631248750  ple5nz   \n",
       "1  ImpossibleZero   1631247022  pldqkn   \n",
       "2        80sKidCA   1631246964  pldq29   \n",
       "3     Chardington   1631244279  pld1sd   \n",
       "4       DentonJoe   1631244183  pld0wi   \n",
       "\n",
       "                                            selftext          subreddit  \\\n",
       "0  Disclaimer: I did see a previous question touc...  explainlikeimfive   \n",
       "1  I have a 30 year VA loan at 3.75% and my prope...  explainlikeimfive   \n",
       "2                                                NaN  explainlikeimfive   \n",
       "3  I’ve been getting into finance, stonks and cry...  explainlikeimfive   \n",
       "4  Always wondered why it doesn’t make sense to u...  explainlikeimfive   \n",
       "\n",
       "                                               title  \n",
       "0  ELI5: Seriously, WTF is up with surface area a...  \n",
       "1  ELI5: What does Refinancing a Mortgage Mean an...  \n",
       "2  ELI5: Why and how does your body store tension...  \n",
       "3                 ELI5: What exactly is “liquidity”?  \n",
       "4  Eli5 why are diesel/electric powertrains econo...  "
      ]
     },
     "execution_count": 39,
     "metadata": {},
     "output_type": "execute_result"
    }
   ],
   "source": [
    "ex_df = pd.read_csv('../data/ex_df.csv')\n",
    "print(ex_df.shape)\n",
    "ex_df.head()"
   ]
  },
  {
   "cell_type": "code",
   "execution_count": 40,
   "id": "a87a2fb6",
   "metadata": {},
   "outputs": [
    {
     "name": "stdout",
     "output_type": "stream",
     "text": [
      "(10093, 6)\n"
     ]
    },
    {
     "data": {
      "text/html": [
       "<div>\n",
       "<style scoped>\n",
       "    .dataframe tbody tr th:only-of-type {\n",
       "        vertical-align: middle;\n",
       "    }\n",
       "\n",
       "    .dataframe tbody tr th {\n",
       "        vertical-align: top;\n",
       "    }\n",
       "\n",
       "    .dataframe thead th {\n",
       "        text-align: right;\n",
       "    }\n",
       "</style>\n",
       "<table border=\"1\" class=\"dataframe\">\n",
       "  <thead>\n",
       "    <tr style=\"text-align: right;\">\n",
       "      <th></th>\n",
       "      <th>author</th>\n",
       "      <th>created_utc</th>\n",
       "      <th>id</th>\n",
       "      <th>selftext</th>\n",
       "      <th>subreddit</th>\n",
       "      <th>title</th>\n",
       "    </tr>\n",
       "  </thead>\n",
       "  <tbody>\n",
       "    <tr>\n",
       "      <th>0</th>\n",
       "      <td>ChrisGnam</td>\n",
       "      <td>1630428742</td>\n",
       "      <td>pf9tvb</td>\n",
       "      <td>So most of my peers (26 y/o and older) don't h...</td>\n",
       "      <td>askscience</td>\n",
       "      <td>Are there physiological or psychological diffe...</td>\n",
       "    </tr>\n",
       "    <tr>\n",
       "      <th>1</th>\n",
       "      <td>MaoGo</td>\n",
       "      <td>1629571284</td>\n",
       "      <td>p8wued</td>\n",
       "      <td>Neutrinos are neutrally charged particles that...</td>\n",
       "      <td>askscience</td>\n",
       "      <td>How do we know that the neutrinos have spin?</td>\n",
       "    </tr>\n",
       "    <tr>\n",
       "      <th>2</th>\n",
       "      <td>the_protagonist</td>\n",
       "      <td>1629571059</td>\n",
       "      <td>p8ws1c</td>\n",
       "      <td>How does that “memory” work?  \\n\\nThis comes f...</td>\n",
       "      <td>askscience</td>\n",
       "      <td>If white blood cells are constantly dying and ...</td>\n",
       "    </tr>\n",
       "    <tr>\n",
       "      <th>3</th>\n",
       "      <td>CyKii</td>\n",
       "      <td>1629567841</td>\n",
       "      <td>p8vtoe</td>\n",
       "      <td>Obviously it's best to be careful about these ...</td>\n",
       "      <td>askscience</td>\n",
       "      <td>If mRNA vaccines remain proven safe, is it act...</td>\n",
       "    </tr>\n",
       "    <tr>\n",
       "      <th>4</th>\n",
       "      <td>hairycoo</td>\n",
       "      <td>1629566821</td>\n",
       "      <td>p8vinv</td>\n",
       "      <td>NaN</td>\n",
       "      <td>askscience</td>\n",
       "      <td>Can't we include multiple virus traits rather ...</td>\n",
       "    </tr>\n",
       "  </tbody>\n",
       "</table>\n",
       "</div>"
      ],
      "text/plain": [
       "            author  created_utc      id  \\\n",
       "0        ChrisGnam   1630428742  pf9tvb   \n",
       "1            MaoGo   1629571284  p8wued   \n",
       "2  the_protagonist   1629571059  p8ws1c   \n",
       "3            CyKii   1629567841  p8vtoe   \n",
       "4         hairycoo   1629566821  p8vinv   \n",
       "\n",
       "                                            selftext   subreddit  \\\n",
       "0  So most of my peers (26 y/o and older) don't h...  askscience   \n",
       "1  Neutrinos are neutrally charged particles that...  askscience   \n",
       "2  How does that “memory” work?  \\n\\nThis comes f...  askscience   \n",
       "3  Obviously it's best to be careful about these ...  askscience   \n",
       "4                                                NaN  askscience   \n",
       "\n",
       "                                               title  \n",
       "0  Are there physiological or psychological diffe...  \n",
       "1       How do we know that the neutrinos have spin?  \n",
       "2  If white blood cells are constantly dying and ...  \n",
       "3  If mRNA vaccines remain proven safe, is it act...  \n",
       "4  Can't we include multiple virus traits rather ...  "
      ]
     },
     "execution_count": 40,
     "metadata": {},
     "output_type": "execute_result"
    }
   ],
   "source": [
    "ask_df = pd.read_csv('../data/ask_df.csv')\n",
    "print(ask_df.shape)\n",
    "ask_df.head()"
   ]
  },
  {
   "cell_type": "markdown",
   "id": "df4045a0",
   "metadata": {},
   "source": [
    "## Data Cleaning"
   ]
  },
  {
   "cell_type": "code",
   "execution_count": 41,
   "id": "a6881bb9",
   "metadata": {},
   "outputs": [
    {
     "name": "stdout",
     "output_type": "stream",
     "text": [
      "<class 'pandas.core.frame.DataFrame'>\n",
      "RangeIndex: 10096 entries, 0 to 10095\n",
      "Data columns (total 6 columns):\n",
      " #   Column       Non-Null Count  Dtype \n",
      "---  ------       --------------  ----- \n",
      " 0   author       10096 non-null  object\n",
      " 1   created_utc  10096 non-null  int64 \n",
      " 2   id           10096 non-null  object\n",
      " 3   selftext     5154 non-null   object\n",
      " 4   subreddit    10096 non-null  object\n",
      " 5   title        10096 non-null  object\n",
      "dtypes: int64(1), object(5)\n",
      "memory usage: 473.4+ KB\n"
     ]
    }
   ],
   "source": [
    "ex_df.info()"
   ]
  },
  {
   "cell_type": "code",
   "execution_count": 42,
   "id": "e2f21ef9",
   "metadata": {},
   "outputs": [
    {
     "name": "stdout",
     "output_type": "stream",
     "text": [
      "<class 'pandas.core.frame.DataFrame'>\n",
      "RangeIndex: 10093 entries, 0 to 10092\n",
      "Data columns (total 6 columns):\n",
      " #   Column       Non-Null Count  Dtype \n",
      "---  ------       --------------  ----- \n",
      " 0   author       10093 non-null  object\n",
      " 1   created_utc  10093 non-null  int64 \n",
      " 2   id           10093 non-null  object\n",
      " 3   selftext     6801 non-null   object\n",
      " 4   subreddit    10093 non-null  object\n",
      " 5   title        10093 non-null  object\n",
      "dtypes: int64(1), object(5)\n",
      "memory usage: 473.2+ KB\n"
     ]
    }
   ],
   "source": [
    "ask_df.info()"
   ]
  },
  {
   "cell_type": "markdown",
   "id": "be0b4fc9",
   "metadata": {},
   "source": [
    "**We appear to have some empty selftext variables, which represent the body of the post. These posts without any selftext would only provide value through the title, and may be difficult for our model to analyze.**\n",
    "> Since we still have a significant amount of data without these posts, we will remove posts without selftext."
   ]
  },
  {
   "cell_type": "code",
   "execution_count": 43,
   "id": "21378baf",
   "metadata": {},
   "outputs": [],
   "source": [
    "ex_df.dropna(inplace=True)\n",
    "ask_df.dropna(inplace=True)"
   ]
  },
  {
   "cell_type": "code",
   "execution_count": 114,
   "id": "a3005d26",
   "metadata": {},
   "outputs": [
    {
     "name": "stdout",
     "output_type": "stream",
     "text": [
      "<class 'pandas.core.frame.DataFrame'>\n",
      "Int64Index: 5154 entries, 0 to 10095\n",
      "Data columns (total 6 columns):\n",
      " #   Column       Non-Null Count  Dtype \n",
      "---  ------       --------------  ----- \n",
      " 0   author       5154 non-null   object\n",
      " 1   created_utc  5154 non-null   int64 \n",
      " 2   id           5154 non-null   object\n",
      " 3   selftext     5154 non-null   object\n",
      " 4   subreddit    5154 non-null   object\n",
      " 5   title        5154 non-null   object\n",
      "dtypes: int64(1), object(5)\n",
      "memory usage: 410.9+ KB\n"
     ]
    }
   ],
   "source": [
    "ex_df.info()"
   ]
  },
  {
   "cell_type": "code",
   "execution_count": 115,
   "id": "890b072a",
   "metadata": {},
   "outputs": [
    {
     "name": "stdout",
     "output_type": "stream",
     "text": [
      "<class 'pandas.core.frame.DataFrame'>\n",
      "Int64Index: 6801 entries, 0 to 10089\n",
      "Data columns (total 6 columns):\n",
      " #   Column       Non-Null Count  Dtype \n",
      "---  ------       --------------  ----- \n",
      " 0   author       6801 non-null   object\n",
      " 1   created_utc  6801 non-null   int64 \n",
      " 2   id           6801 non-null   object\n",
      " 3   selftext     6801 non-null   object\n",
      " 4   subreddit    6801 non-null   object\n",
      " 5   title        6801 non-null   object\n",
      "dtypes: int64(1), object(5)\n",
      "memory usage: 371.9+ KB\n"
     ]
    }
   ],
   "source": [
    "ask_df.info()"
   ]
  },
  {
   "cell_type": "markdown",
   "id": "30c3a795",
   "metadata": {},
   "source": [
    "**Beyond this simple cleaning, we want to keep everything we possibly can for our model. If variables happen to cause issue while modeling, they will be handled at that time.**"
   ]
  },
  {
   "cell_type": "markdown",
   "id": "f70c9df2",
   "metadata": {},
   "source": [
    "# Comment Extraction"
   ]
  },
  {
   "cell_type": "markdown",
   "id": "fde524ef",
   "metadata": {},
   "source": [
    "**Responses to the questions asked in these threads are largely the point of the subreddits, and this data science project. We really want to know how different the answers are and the top comment is typically the best answer to the posted question.**"
   ]
  },
  {
   "cell_type": "markdown",
   "id": "010fada3",
   "metadata": {},
   "source": [
    "We want to go through our remaining submissions obtained above and retrieve the comments associated with these submissions. \n",
    "\n",
    "We have to do this in 2 steps:\n",
    "1. We will grab comment ids as well as the number of comments on that submission.\n",
    "2. We look up the individual comments associated with each submission and keep only the comment with the most upvotes, disgarding the rest."
   ]
  },
  {
   "cell_type": "markdown",
   "id": "5a3fdcd9",
   "metadata": {},
   "source": [
    "## 1. Get Commend IDs and Number of Comments for each Submission"
   ]
  },
  {
   "cell_type": "code",
   "execution_count": 122,
   "id": "560ef25f",
   "metadata": {},
   "outputs": [],
   "source": [
    "def get_comments_list(dataframe):\n",
    "        \n",
    "    new_df = dataframe.copy()\n",
    "    comment_ids = []\n",
    "    comment_amnt = []\n",
    "    \n",
    "    for j, Id in enumerate(new_df['id']):\n",
    "        \n",
    "        comment_url = 'https://api.pushshift.io/reddit/submission/comment_ids/' + str(Id)\n",
    "\n",
    "        # Access the api through our requests library\n",
    "        res = requests.get(comment_url)\n",
    "\n",
    "        # Ensure successful connection (=200); if it isnt, exit and print code.\n",
    "        if res.status_code != 200:\n",
    "            print('There as been an error: res.status_code =', res.status_code)\n",
    "            \n",
    "            # Fill the rest of the lists with 0's in order to add it to our dataframe\n",
    "            for i in range(new_df.shape[0] - len(comment_amnt)):\n",
    "                comment_ids.append(0)\n",
    "                comment_amnt.append(0)\n",
    "            \n",
    "            new_df['comment_ids'] = comment_ids\n",
    "            new_df['comment_amnt'] = comment_amnt\n",
    "            return new_df\n",
    "\n",
    "        # Continue with our cycling program if status_code == 200\n",
    "        else:\n",
    "            \n",
    "            # Pull in our data into a variable 'posts'\n",
    "            posts = res.json()['data']\n",
    "            temp = pd.DataFrame(posts)         \n",
    "            \n",
    "            if posts != []:\n",
    "                comment_ids.append(temp.values)\n",
    "                comment_amnt.append(temp.shape[0])\n",
    "            \n",
    "            else:\n",
    "                comment_ids.append(0)\n",
    "                comment_amnt.append(0)\n",
    "            \n",
    "            # Set a pause time so we don't get blocked by Reddit for abusing the API\n",
    "            time.sleep(0.25)\n",
    "\n",
    "    # add our created columns to the dataframe\n",
    "    new_df['comment_ids'] = comment_ids\n",
    "    new_df['comment_amnt'] = comment_amnt\n",
    "    \n",
    "    # Return the new dataframed with its 2 new columns\n",
    "    return new_df"
   ]
  },
  {
   "cell_type": "markdown",
   "id": "972bae02",
   "metadata": {},
   "source": [
    "## Comment IDs for ELI5"
   ]
  },
  {
   "cell_type": "code",
   "execution_count": 123,
   "id": "844066d7",
   "metadata": {
    "scrolled": false
   },
   "outputs": [
    {
     "name": "stdout",
     "output_type": "stream",
     "text": [
      "There as been an error: res.status_code = 500\n"
     ]
    }
   ],
   "source": [
    "new_ex_df = get_comments_list(ex_df)"
   ]
  },
  {
   "cell_type": "code",
   "execution_count": 124,
   "id": "e19bc959",
   "metadata": {},
   "outputs": [
    {
     "data": {
      "text/html": [
       "<div>\n",
       "<style scoped>\n",
       "    .dataframe tbody tr th:only-of-type {\n",
       "        vertical-align: middle;\n",
       "    }\n",
       "\n",
       "    .dataframe tbody tr th {\n",
       "        vertical-align: top;\n",
       "    }\n",
       "\n",
       "    .dataframe thead th {\n",
       "        text-align: right;\n",
       "    }\n",
       "</style>\n",
       "<table border=\"1\" class=\"dataframe\">\n",
       "  <thead>\n",
       "    <tr style=\"text-align: right;\">\n",
       "      <th></th>\n",
       "      <th>author</th>\n",
       "      <th>created_utc</th>\n",
       "      <th>id</th>\n",
       "      <th>selftext</th>\n",
       "      <th>subreddit</th>\n",
       "      <th>title</th>\n",
       "      <th>comment_ids</th>\n",
       "      <th>comment_amnt</th>\n",
       "    </tr>\n",
       "  </thead>\n",
       "  <tbody>\n",
       "    <tr>\n",
       "      <th>0</th>\n",
       "      <td>j_d0tnet</td>\n",
       "      <td>1631248750</td>\n",
       "      <td>ple5nz</td>\n",
       "      <td>Disclaimer: I did see a previous question touc...</td>\n",
       "      <td>explainlikeimfive</td>\n",
       "      <td>ELI5: Seriously, WTF is up with surface area a...</td>\n",
       "      <td>[[hc9xp88], [hc9xubv], [hc9y66a], [hc9ybwi], [...</td>\n",
       "      <td>13</td>\n",
       "    </tr>\n",
       "    <tr>\n",
       "      <th>1</th>\n",
       "      <td>ImpossibleZero</td>\n",
       "      <td>1631247022</td>\n",
       "      <td>pldqkn</td>\n",
       "      <td>I have a 30 year VA loan at 3.75% and my prope...</td>\n",
       "      <td>explainlikeimfive</td>\n",
       "      <td>ELI5: What does Refinancing a Mortgage Mean an...</td>\n",
       "      <td>[[hc9uc6o], [hc9umen], [hc9usj0], [hc9uxi7], [...</td>\n",
       "      <td>6</td>\n",
       "    </tr>\n",
       "    <tr>\n",
       "      <th>3</th>\n",
       "      <td>Chardington</td>\n",
       "      <td>1631244279</td>\n",
       "      <td>pld1sd</td>\n",
       "      <td>I’ve been getting into finance, stonks and cry...</td>\n",
       "      <td>explainlikeimfive</td>\n",
       "      <td>ELI5: What exactly is “liquidity”?</td>\n",
       "      <td>[[hc9om2y], [hc9ortz], [hc9osmq], [hc9osnr], [...</td>\n",
       "      <td>10</td>\n",
       "    </tr>\n",
       "    <tr>\n",
       "      <th>4</th>\n",
       "      <td>DentonJoe</td>\n",
       "      <td>1631244183</td>\n",
       "      <td>pld0wi</td>\n",
       "      <td>Always wondered why it doesn’t make sense to u...</td>\n",
       "      <td>explainlikeimfive</td>\n",
       "      <td>Eli5 why are diesel/electric powertrains econo...</td>\n",
       "      <td>[[hc9okcf], [hc9pkte], [hc9r0vn], [hc9rl2i], [...</td>\n",
       "      <td>17</td>\n",
       "    </tr>\n",
       "    <tr>\n",
       "      <th>5</th>\n",
       "      <td>Aleitei</td>\n",
       "      <td>1631243837</td>\n",
       "      <td>plcxn4</td>\n",
       "      <td>Having trouble grasping this, I know time and ...</td>\n",
       "      <td>explainlikeimfive</td>\n",
       "      <td>ELI5: Why does time slow down near stronger gr...</td>\n",
       "      <td>[[hc9nq9s], [hc9omqr], [hc9thei], [hc9ti4w], [...</td>\n",
       "      <td>17</td>\n",
       "    </tr>\n",
       "  </tbody>\n",
       "</table>\n",
       "</div>"
      ],
      "text/plain": [
       "           author  created_utc      id  \\\n",
       "0        j_d0tnet   1631248750  ple5nz   \n",
       "1  ImpossibleZero   1631247022  pldqkn   \n",
       "3     Chardington   1631244279  pld1sd   \n",
       "4       DentonJoe   1631244183  pld0wi   \n",
       "5         Aleitei   1631243837  plcxn4   \n",
       "\n",
       "                                            selftext          subreddit  \\\n",
       "0  Disclaimer: I did see a previous question touc...  explainlikeimfive   \n",
       "1  I have a 30 year VA loan at 3.75% and my prope...  explainlikeimfive   \n",
       "3  I’ve been getting into finance, stonks and cry...  explainlikeimfive   \n",
       "4  Always wondered why it doesn’t make sense to u...  explainlikeimfive   \n",
       "5  Having trouble grasping this, I know time and ...  explainlikeimfive   \n",
       "\n",
       "                                               title  \\\n",
       "0  ELI5: Seriously, WTF is up with surface area a...   \n",
       "1  ELI5: What does Refinancing a Mortgage Mean an...   \n",
       "3                 ELI5: What exactly is “liquidity”?   \n",
       "4  Eli5 why are diesel/electric powertrains econo...   \n",
       "5  ELI5: Why does time slow down near stronger gr...   \n",
       "\n",
       "                                         comment_ids  comment_amnt  \n",
       "0  [[hc9xp88], [hc9xubv], [hc9y66a], [hc9ybwi], [...            13  \n",
       "1  [[hc9uc6o], [hc9umen], [hc9usj0], [hc9uxi7], [...             6  \n",
       "3  [[hc9om2y], [hc9ortz], [hc9osmq], [hc9osnr], [...            10  \n",
       "4  [[hc9okcf], [hc9pkte], [hc9r0vn], [hc9rl2i], [...            17  \n",
       "5  [[hc9nq9s], [hc9omqr], [hc9thei], [hc9ti4w], [...            17  "
      ]
     },
     "execution_count": 124,
     "metadata": {},
     "output_type": "execute_result"
    }
   ],
   "source": [
    "new_ex_df.head()"
   ]
  },
  {
   "cell_type": "code",
   "execution_count": 126,
   "id": "4194ce35",
   "metadata": {},
   "outputs": [
    {
     "data": {
      "text/plain": [
       "(5154, 8)"
      ]
     },
     "execution_count": 126,
     "metadata": {},
     "output_type": "execute_result"
    }
   ],
   "source": [
    "new_ex_df.shape"
   ]
  },
  {
   "cell_type": "markdown",
   "id": "e26bf436",
   "metadata": {},
   "source": [
    "**These took a very long time to run, so we are saving them immediately.**"
   ]
  },
  {
   "cell_type": "code",
   "execution_count": 128,
   "id": "99f7bda1",
   "metadata": {},
   "outputs": [],
   "source": [
    "#checkpoint \n",
    "new_ex_df.to_csv('../data/ex_df_comments.csv', index=False)"
   ]
  },
  {
   "cell_type": "markdown",
   "id": "3290f251",
   "metadata": {},
   "source": [
    "## Comment IDs for AskScience"
   ]
  },
  {
   "cell_type": "code",
   "execution_count": 129,
   "id": "254da2b7",
   "metadata": {},
   "outputs": [
    {
     "name": "stdout",
     "output_type": "stream",
     "text": [
      "There as been an error: res.status_code = 500\n"
     ]
    }
   ],
   "source": [
    "new_ask_df = get_comments_list(ask_df)"
   ]
  },
  {
   "cell_type": "code",
   "execution_count": 130,
   "id": "7a4ba2ac",
   "metadata": {},
   "outputs": [
    {
     "data": {
      "text/html": [
       "<div>\n",
       "<style scoped>\n",
       "    .dataframe tbody tr th:only-of-type {\n",
       "        vertical-align: middle;\n",
       "    }\n",
       "\n",
       "    .dataframe tbody tr th {\n",
       "        vertical-align: top;\n",
       "    }\n",
       "\n",
       "    .dataframe thead th {\n",
       "        text-align: right;\n",
       "    }\n",
       "</style>\n",
       "<table border=\"1\" class=\"dataframe\">\n",
       "  <thead>\n",
       "    <tr style=\"text-align: right;\">\n",
       "      <th></th>\n",
       "      <th>author</th>\n",
       "      <th>created_utc</th>\n",
       "      <th>id</th>\n",
       "      <th>selftext</th>\n",
       "      <th>subreddit</th>\n",
       "      <th>title</th>\n",
       "      <th>comment_ids</th>\n",
       "      <th>comment_amnt</th>\n",
       "    </tr>\n",
       "  </thead>\n",
       "  <tbody>\n",
       "    <tr>\n",
       "      <th>0</th>\n",
       "      <td>ChrisGnam</td>\n",
       "      <td>1630428742</td>\n",
       "      <td>pf9tvb</td>\n",
       "      <td>So most of my peers (26 y/o and older) don't h...</td>\n",
       "      <td>askscience</td>\n",
       "      <td>Are there physiological or psychological diffe...</td>\n",
       "      <td>[[hb2u26q], [hb2w2r6], [hb2xjpe], [hb2zvcg], [...</td>\n",
       "      <td>20</td>\n",
       "    </tr>\n",
       "    <tr>\n",
       "      <th>1</th>\n",
       "      <td>MaoGo</td>\n",
       "      <td>1629571284</td>\n",
       "      <td>p8wued</td>\n",
       "      <td>Neutrinos are neutrally charged particles that...</td>\n",
       "      <td>askscience</td>\n",
       "      <td>How do we know that the neutrinos have spin?</td>\n",
       "      <td>[[h9tnotf], [h9tq6r5], [h9tuejy], [h9u1ubp], [...</td>\n",
       "      <td>12</td>\n",
       "    </tr>\n",
       "    <tr>\n",
       "      <th>2</th>\n",
       "      <td>the_protagonist</td>\n",
       "      <td>1629571059</td>\n",
       "      <td>p8ws1c</td>\n",
       "      <td>How does that “memory” work?  \\n\\nThis comes f...</td>\n",
       "      <td>askscience</td>\n",
       "      <td>If white blood cells are constantly dying and ...</td>\n",
       "      <td>[[h9tuq0p], [h9tuuqg], [h9u10c7], [h9umpe1], [...</td>\n",
       "      <td>12</td>\n",
       "    </tr>\n",
       "    <tr>\n",
       "      <th>3</th>\n",
       "      <td>CyKii</td>\n",
       "      <td>1629567841</td>\n",
       "      <td>p8vtoe</td>\n",
       "      <td>Obviously it's best to be careful about these ...</td>\n",
       "      <td>askscience</td>\n",
       "      <td>If mRNA vaccines remain proven safe, is it act...</td>\n",
       "      <td>[[h9tem11], [h9tfbjt], [h9tfk2j], [h9tfspy], [...</td>\n",
       "      <td>292</td>\n",
       "    </tr>\n",
       "    <tr>\n",
       "      <th>5</th>\n",
       "      <td>Comprehensive_Lead41</td>\n",
       "      <td>1629564364</td>\n",
       "      <td>p8ushd</td>\n",
       "      <td>Why does it look like this? https://images.app...</td>\n",
       "      <td>askscience</td>\n",
       "      <td>Why is the floor of the Uyuni salt desert part...</td>\n",
       "      <td>[[h9t8m72], [h9t8rg2], [h9t9h9s], [h9t9zht], [...</td>\n",
       "      <td>94</td>\n",
       "    </tr>\n",
       "  </tbody>\n",
       "</table>\n",
       "</div>"
      ],
      "text/plain": [
       "                 author  created_utc      id  \\\n",
       "0             ChrisGnam   1630428742  pf9tvb   \n",
       "1                 MaoGo   1629571284  p8wued   \n",
       "2       the_protagonist   1629571059  p8ws1c   \n",
       "3                 CyKii   1629567841  p8vtoe   \n",
       "5  Comprehensive_Lead41   1629564364  p8ushd   \n",
       "\n",
       "                                            selftext   subreddit  \\\n",
       "0  So most of my peers (26 y/o and older) don't h...  askscience   \n",
       "1  Neutrinos are neutrally charged particles that...  askscience   \n",
       "2  How does that “memory” work?  \\n\\nThis comes f...  askscience   \n",
       "3  Obviously it's best to be careful about these ...  askscience   \n",
       "5  Why does it look like this? https://images.app...  askscience   \n",
       "\n",
       "                                               title  \\\n",
       "0  Are there physiological or psychological diffe...   \n",
       "1       How do we know that the neutrinos have spin?   \n",
       "2  If white blood cells are constantly dying and ...   \n",
       "3  If mRNA vaccines remain proven safe, is it act...   \n",
       "5  Why is the floor of the Uyuni salt desert part...   \n",
       "\n",
       "                                         comment_ids  comment_amnt  \n",
       "0  [[hb2u26q], [hb2w2r6], [hb2xjpe], [hb2zvcg], [...            20  \n",
       "1  [[h9tnotf], [h9tq6r5], [h9tuejy], [h9u1ubp], [...            12  \n",
       "2  [[h9tuq0p], [h9tuuqg], [h9u10c7], [h9umpe1], [...            12  \n",
       "3  [[h9tem11], [h9tfbjt], [h9tfk2j], [h9tfspy], [...           292  \n",
       "5  [[h9t8m72], [h9t8rg2], [h9t9h9s], [h9t9zht], [...            94  "
      ]
     },
     "execution_count": 130,
     "metadata": {},
     "output_type": "execute_result"
    }
   ],
   "source": [
    "new_ask_df.head()"
   ]
  },
  {
   "cell_type": "code",
   "execution_count": 132,
   "id": "90b994c2",
   "metadata": {},
   "outputs": [
    {
     "data": {
      "text/plain": [
       "(6801, 8)"
      ]
     },
     "execution_count": 132,
     "metadata": {},
     "output_type": "execute_result"
    }
   ],
   "source": [
    "new_ask_df.shape"
   ]
  },
  {
   "cell_type": "markdown",
   "id": "b3f80874",
   "metadata": {},
   "source": [
    "**These took a very long time to run, so we are saving them immediately.**"
   ]
  },
  {
   "cell_type": "code",
   "execution_count": 131,
   "id": "820d7c7a",
   "metadata": {},
   "outputs": [],
   "source": [
    "#checkpoint \n",
    "new_ask_df.to_csv('../data/ask_df_comments.csv', index=False)"
   ]
  },
  {
   "cell_type": "markdown",
   "id": "186e1512",
   "metadata": {},
   "source": [
    "### Load in saved comment datasets"
   ]
  },
  {
   "cell_type": "code",
   "execution_count": 4,
   "id": "5cfa25fd",
   "metadata": {
    "scrolled": false
   },
   "outputs": [
    {
     "data": {
      "text/html": [
       "<div>\n",
       "<style scoped>\n",
       "    .dataframe tbody tr th:only-of-type {\n",
       "        vertical-align: middle;\n",
       "    }\n",
       "\n",
       "    .dataframe tbody tr th {\n",
       "        vertical-align: top;\n",
       "    }\n",
       "\n",
       "    .dataframe thead th {\n",
       "        text-align: right;\n",
       "    }\n",
       "</style>\n",
       "<table border=\"1\" class=\"dataframe\">\n",
       "  <thead>\n",
       "    <tr style=\"text-align: right;\">\n",
       "      <th></th>\n",
       "      <th>author</th>\n",
       "      <th>created_utc</th>\n",
       "      <th>id</th>\n",
       "      <th>selftext</th>\n",
       "      <th>subreddit</th>\n",
       "      <th>title</th>\n",
       "      <th>comment_ids</th>\n",
       "      <th>comment_amnt</th>\n",
       "    </tr>\n",
       "  </thead>\n",
       "  <tbody>\n",
       "    <tr>\n",
       "      <th>0</th>\n",
       "      <td>j_d0tnet</td>\n",
       "      <td>1631248750</td>\n",
       "      <td>ple5nz</td>\n",
       "      <td>Disclaimer: I did see a previous question touc...</td>\n",
       "      <td>explainlikeimfive</td>\n",
       "      <td>ELI5: Seriously, WTF is up with surface area a...</td>\n",
       "      <td>[['hc9xp88']\\n ['hc9xubv']\\n ['hc9y66a']\\n ['h...</td>\n",
       "      <td>13</td>\n",
       "    </tr>\n",
       "    <tr>\n",
       "      <th>1</th>\n",
       "      <td>ImpossibleZero</td>\n",
       "      <td>1631247022</td>\n",
       "      <td>pldqkn</td>\n",
       "      <td>I have a 30 year VA loan at 3.75% and my prope...</td>\n",
       "      <td>explainlikeimfive</td>\n",
       "      <td>ELI5: What does Refinancing a Mortgage Mean an...</td>\n",
       "      <td>[['hc9uc6o']\\n ['hc9umen']\\n ['hc9usj0']\\n ['h...</td>\n",
       "      <td>6</td>\n",
       "    </tr>\n",
       "    <tr>\n",
       "      <th>2</th>\n",
       "      <td>Chardington</td>\n",
       "      <td>1631244279</td>\n",
       "      <td>pld1sd</td>\n",
       "      <td>I’ve been getting into finance, stonks and cry...</td>\n",
       "      <td>explainlikeimfive</td>\n",
       "      <td>ELI5: What exactly is “liquidity”?</td>\n",
       "      <td>[['hc9om2y']\\n ['hc9ortz']\\n ['hc9osmq']\\n ['h...</td>\n",
       "      <td>10</td>\n",
       "    </tr>\n",
       "    <tr>\n",
       "      <th>3</th>\n",
       "      <td>DentonJoe</td>\n",
       "      <td>1631244183</td>\n",
       "      <td>pld0wi</td>\n",
       "      <td>Always wondered why it doesn’t make sense to u...</td>\n",
       "      <td>explainlikeimfive</td>\n",
       "      <td>Eli5 why are diesel/electric powertrains econo...</td>\n",
       "      <td>[['hc9okcf']\\n ['hc9pkte']\\n ['hc9r0vn']\\n ['h...</td>\n",
       "      <td>17</td>\n",
       "    </tr>\n",
       "    <tr>\n",
       "      <th>4</th>\n",
       "      <td>Aleitei</td>\n",
       "      <td>1631243837</td>\n",
       "      <td>plcxn4</td>\n",
       "      <td>Having trouble grasping this, I know time and ...</td>\n",
       "      <td>explainlikeimfive</td>\n",
       "      <td>ELI5: Why does time slow down near stronger gr...</td>\n",
       "      <td>[['hc9nq9s']\\n ['hc9omqr']\\n ['hc9thei']\\n ['h...</td>\n",
       "      <td>17</td>\n",
       "    </tr>\n",
       "  </tbody>\n",
       "</table>\n",
       "</div>"
      ],
      "text/plain": [
       "           author  created_utc      id  \\\n",
       "0        j_d0tnet   1631248750  ple5nz   \n",
       "1  ImpossibleZero   1631247022  pldqkn   \n",
       "2     Chardington   1631244279  pld1sd   \n",
       "3       DentonJoe   1631244183  pld0wi   \n",
       "4         Aleitei   1631243837  plcxn4   \n",
       "\n",
       "                                            selftext          subreddit  \\\n",
       "0  Disclaimer: I did see a previous question touc...  explainlikeimfive   \n",
       "1  I have a 30 year VA loan at 3.75% and my prope...  explainlikeimfive   \n",
       "2  I’ve been getting into finance, stonks and cry...  explainlikeimfive   \n",
       "3  Always wondered why it doesn’t make sense to u...  explainlikeimfive   \n",
       "4  Having trouble grasping this, I know time and ...  explainlikeimfive   \n",
       "\n",
       "                                               title  \\\n",
       "0  ELI5: Seriously, WTF is up with surface area a...   \n",
       "1  ELI5: What does Refinancing a Mortgage Mean an...   \n",
       "2                 ELI5: What exactly is “liquidity”?   \n",
       "3  Eli5 why are diesel/electric powertrains econo...   \n",
       "4  ELI5: Why does time slow down near stronger gr...   \n",
       "\n",
       "                                         comment_ids  comment_amnt  \n",
       "0  [['hc9xp88']\\n ['hc9xubv']\\n ['hc9y66a']\\n ['h...            13  \n",
       "1  [['hc9uc6o']\\n ['hc9umen']\\n ['hc9usj0']\\n ['h...             6  \n",
       "2  [['hc9om2y']\\n ['hc9ortz']\\n ['hc9osmq']\\n ['h...            10  \n",
       "3  [['hc9okcf']\\n ['hc9pkte']\\n ['hc9r0vn']\\n ['h...            17  \n",
       "4  [['hc9nq9s']\\n ['hc9omqr']\\n ['hc9thei']\\n ['h...            17  "
      ]
     },
     "execution_count": 4,
     "metadata": {},
     "output_type": "execute_result"
    }
   ],
   "source": [
    "new_ex_df = pd.read_csv('../data/ex_df_comments.csv')\n",
    "new_ex_df.head()"
   ]
  },
  {
   "cell_type": "code",
   "execution_count": 5,
   "id": "d29a4681",
   "metadata": {
    "scrolled": false
   },
   "outputs": [
    {
     "data": {
      "text/html": [
       "<div>\n",
       "<style scoped>\n",
       "    .dataframe tbody tr th:only-of-type {\n",
       "        vertical-align: middle;\n",
       "    }\n",
       "\n",
       "    .dataframe tbody tr th {\n",
       "        vertical-align: top;\n",
       "    }\n",
       "\n",
       "    .dataframe thead th {\n",
       "        text-align: right;\n",
       "    }\n",
       "</style>\n",
       "<table border=\"1\" class=\"dataframe\">\n",
       "  <thead>\n",
       "    <tr style=\"text-align: right;\">\n",
       "      <th></th>\n",
       "      <th>author</th>\n",
       "      <th>created_utc</th>\n",
       "      <th>id</th>\n",
       "      <th>selftext</th>\n",
       "      <th>subreddit</th>\n",
       "      <th>title</th>\n",
       "      <th>comment_ids</th>\n",
       "      <th>comment_amnt</th>\n",
       "    </tr>\n",
       "  </thead>\n",
       "  <tbody>\n",
       "    <tr>\n",
       "      <th>0</th>\n",
       "      <td>ChrisGnam</td>\n",
       "      <td>1630428742</td>\n",
       "      <td>pf9tvb</td>\n",
       "      <td>So most of my peers (26 y/o and older) don't h...</td>\n",
       "      <td>askscience</td>\n",
       "      <td>Are there physiological or psychological diffe...</td>\n",
       "      <td>[['hb2u26q']\\n ['hb2w2r6']\\n ['hb2xjpe']\\n ['h...</td>\n",
       "      <td>20</td>\n",
       "    </tr>\n",
       "    <tr>\n",
       "      <th>1</th>\n",
       "      <td>MaoGo</td>\n",
       "      <td>1629571284</td>\n",
       "      <td>p8wued</td>\n",
       "      <td>Neutrinos are neutrally charged particles that...</td>\n",
       "      <td>askscience</td>\n",
       "      <td>How do we know that the neutrinos have spin?</td>\n",
       "      <td>[['h9tnotf']\\n ['h9tq6r5']\\n ['h9tuejy']\\n ['h...</td>\n",
       "      <td>12</td>\n",
       "    </tr>\n",
       "    <tr>\n",
       "      <th>2</th>\n",
       "      <td>the_protagonist</td>\n",
       "      <td>1629571059</td>\n",
       "      <td>p8ws1c</td>\n",
       "      <td>How does that “memory” work?  \\n\\nThis comes f...</td>\n",
       "      <td>askscience</td>\n",
       "      <td>If white blood cells are constantly dying and ...</td>\n",
       "      <td>[['h9tuq0p']\\n ['h9tuuqg']\\n ['h9u10c7']\\n ['h...</td>\n",
       "      <td>12</td>\n",
       "    </tr>\n",
       "    <tr>\n",
       "      <th>3</th>\n",
       "      <td>CyKii</td>\n",
       "      <td>1629567841</td>\n",
       "      <td>p8vtoe</td>\n",
       "      <td>Obviously it's best to be careful about these ...</td>\n",
       "      <td>askscience</td>\n",
       "      <td>If mRNA vaccines remain proven safe, is it act...</td>\n",
       "      <td>[['h9tem11']\\n ['h9tfbjt']\\n ['h9tfk2j']\\n ['h...</td>\n",
       "      <td>292</td>\n",
       "    </tr>\n",
       "    <tr>\n",
       "      <th>4</th>\n",
       "      <td>Comprehensive_Lead41</td>\n",
       "      <td>1629564364</td>\n",
       "      <td>p8ushd</td>\n",
       "      <td>Why does it look like this? https://images.app...</td>\n",
       "      <td>askscience</td>\n",
       "      <td>Why is the floor of the Uyuni salt desert part...</td>\n",
       "      <td>[['h9t8m72']\\n ['h9t8rg2']\\n ['h9t9h9s']\\n ['h...</td>\n",
       "      <td>94</td>\n",
       "    </tr>\n",
       "  </tbody>\n",
       "</table>\n",
       "</div>"
      ],
      "text/plain": [
       "                 author  created_utc      id  \\\n",
       "0             ChrisGnam   1630428742  pf9tvb   \n",
       "1                 MaoGo   1629571284  p8wued   \n",
       "2       the_protagonist   1629571059  p8ws1c   \n",
       "3                 CyKii   1629567841  p8vtoe   \n",
       "4  Comprehensive_Lead41   1629564364  p8ushd   \n",
       "\n",
       "                                            selftext   subreddit  \\\n",
       "0  So most of my peers (26 y/o and older) don't h...  askscience   \n",
       "1  Neutrinos are neutrally charged particles that...  askscience   \n",
       "2  How does that “memory” work?  \\n\\nThis comes f...  askscience   \n",
       "3  Obviously it's best to be careful about these ...  askscience   \n",
       "4  Why does it look like this? https://images.app...  askscience   \n",
       "\n",
       "                                               title  \\\n",
       "0  Are there physiological or psychological diffe...   \n",
       "1       How do we know that the neutrinos have spin?   \n",
       "2  If white blood cells are constantly dying and ...   \n",
       "3  If mRNA vaccines remain proven safe, is it act...   \n",
       "4  Why is the floor of the Uyuni salt desert part...   \n",
       "\n",
       "                                         comment_ids  comment_amnt  \n",
       "0  [['hb2u26q']\\n ['hb2w2r6']\\n ['hb2xjpe']\\n ['h...            20  \n",
       "1  [['h9tnotf']\\n ['h9tq6r5']\\n ['h9tuejy']\\n ['h...            12  \n",
       "2  [['h9tuq0p']\\n ['h9tuuqg']\\n ['h9u10c7']\\n ['h...            12  \n",
       "3  [['h9tem11']\\n ['h9tfbjt']\\n ['h9tfk2j']\\n ['h...           292  \n",
       "4  [['h9t8m72']\\n ['h9t8rg2']\\n ['h9t9h9s']\\n ['h...            94  "
      ]
     },
     "execution_count": 5,
     "metadata": {},
     "output_type": "execute_result"
    }
   ],
   "source": [
    "new_ask_df = pd.read_csv('../data/ask_df_comments.csv')\n",
    "new_ask_df.head()"
   ]
  },
  {
   "cell_type": "markdown",
   "id": "20e0477a",
   "metadata": {},
   "source": [
    "### Iterate through ```comment_ids``` and make it a cleaner list"
   ]
  },
  {
   "cell_type": "code",
   "execution_count": 22,
   "id": "7a6185fc",
   "metadata": {},
   "outputs": [],
   "source": [
    "def clean_comment_ids(dataframe):\n",
    "    \n",
    "    new_df = dataframe.copy()\n",
    "    new_comment_ids = []\n",
    "    \n",
    "    for lists in new_df['comment_ids']:\n",
    "        temp = lists.replace('\\n', ',').replace('[','').replace(']','')\n",
    "        new_comment_ids.append(temp)\n",
    "    \n",
    "    new_df['comment_ids'] = new_comment_ids\n",
    "    return new_df"
   ]
  },
  {
   "cell_type": "code",
   "execution_count": 23,
   "id": "d6de14ca",
   "metadata": {},
   "outputs": [
    {
     "data": {
      "text/html": [
       "<div>\n",
       "<style scoped>\n",
       "    .dataframe tbody tr th:only-of-type {\n",
       "        vertical-align: middle;\n",
       "    }\n",
       "\n",
       "    .dataframe tbody tr th {\n",
       "        vertical-align: top;\n",
       "    }\n",
       "\n",
       "    .dataframe thead th {\n",
       "        text-align: right;\n",
       "    }\n",
       "</style>\n",
       "<table border=\"1\" class=\"dataframe\">\n",
       "  <thead>\n",
       "    <tr style=\"text-align: right;\">\n",
       "      <th></th>\n",
       "      <th>author</th>\n",
       "      <th>created_utc</th>\n",
       "      <th>id</th>\n",
       "      <th>selftext</th>\n",
       "      <th>subreddit</th>\n",
       "      <th>title</th>\n",
       "      <th>comment_ids</th>\n",
       "      <th>comment_amnt</th>\n",
       "    </tr>\n",
       "  </thead>\n",
       "  <tbody>\n",
       "    <tr>\n",
       "      <th>0</th>\n",
       "      <td>j_d0tnet</td>\n",
       "      <td>1631248750</td>\n",
       "      <td>ple5nz</td>\n",
       "      <td>Disclaimer: I did see a previous question touc...</td>\n",
       "      <td>explainlikeimfive</td>\n",
       "      <td>ELI5: Seriously, WTF is up with surface area a...</td>\n",
       "      <td>'hc9xp88', 'hc9xubv', 'hc9y66a', 'hc9ybwi', 'h...</td>\n",
       "      <td>13</td>\n",
       "    </tr>\n",
       "    <tr>\n",
       "      <th>1</th>\n",
       "      <td>ImpossibleZero</td>\n",
       "      <td>1631247022</td>\n",
       "      <td>pldqkn</td>\n",
       "      <td>I have a 30 year VA loan at 3.75% and my prope...</td>\n",
       "      <td>explainlikeimfive</td>\n",
       "      <td>ELI5: What does Refinancing a Mortgage Mean an...</td>\n",
       "      <td>'hc9uc6o', 'hc9umen', 'hc9usj0', 'hc9uxi7', 'h...</td>\n",
       "      <td>6</td>\n",
       "    </tr>\n",
       "    <tr>\n",
       "      <th>2</th>\n",
       "      <td>Chardington</td>\n",
       "      <td>1631244279</td>\n",
       "      <td>pld1sd</td>\n",
       "      <td>I’ve been getting into finance, stonks and cry...</td>\n",
       "      <td>explainlikeimfive</td>\n",
       "      <td>ELI5: What exactly is “liquidity”?</td>\n",
       "      <td>'hc9om2y', 'hc9ortz', 'hc9osmq', 'hc9osnr', 'h...</td>\n",
       "      <td>10</td>\n",
       "    </tr>\n",
       "    <tr>\n",
       "      <th>3</th>\n",
       "      <td>DentonJoe</td>\n",
       "      <td>1631244183</td>\n",
       "      <td>pld0wi</td>\n",
       "      <td>Always wondered why it doesn’t make sense to u...</td>\n",
       "      <td>explainlikeimfive</td>\n",
       "      <td>Eli5 why are diesel/electric powertrains econo...</td>\n",
       "      <td>'hc9okcf', 'hc9pkte', 'hc9r0vn', 'hc9rl2i', 'h...</td>\n",
       "      <td>17</td>\n",
       "    </tr>\n",
       "    <tr>\n",
       "      <th>4</th>\n",
       "      <td>Aleitei</td>\n",
       "      <td>1631243837</td>\n",
       "      <td>plcxn4</td>\n",
       "      <td>Having trouble grasping this, I know time and ...</td>\n",
       "      <td>explainlikeimfive</td>\n",
       "      <td>ELI5: Why does time slow down near stronger gr...</td>\n",
       "      <td>'hc9nq9s', 'hc9omqr', 'hc9thei', 'hc9ti4w', 'h...</td>\n",
       "      <td>17</td>\n",
       "    </tr>\n",
       "  </tbody>\n",
       "</table>\n",
       "</div>"
      ],
      "text/plain": [
       "           author  created_utc      id  \\\n",
       "0        j_d0tnet   1631248750  ple5nz   \n",
       "1  ImpossibleZero   1631247022  pldqkn   \n",
       "2     Chardington   1631244279  pld1sd   \n",
       "3       DentonJoe   1631244183  pld0wi   \n",
       "4         Aleitei   1631243837  plcxn4   \n",
       "\n",
       "                                            selftext          subreddit  \\\n",
       "0  Disclaimer: I did see a previous question touc...  explainlikeimfive   \n",
       "1  I have a 30 year VA loan at 3.75% and my prope...  explainlikeimfive   \n",
       "2  I’ve been getting into finance, stonks and cry...  explainlikeimfive   \n",
       "3  Always wondered why it doesn’t make sense to u...  explainlikeimfive   \n",
       "4  Having trouble grasping this, I know time and ...  explainlikeimfive   \n",
       "\n",
       "                                               title  \\\n",
       "0  ELI5: Seriously, WTF is up with surface area a...   \n",
       "1  ELI5: What does Refinancing a Mortgage Mean an...   \n",
       "2                 ELI5: What exactly is “liquidity”?   \n",
       "3  Eli5 why are diesel/electric powertrains econo...   \n",
       "4  ELI5: Why does time slow down near stronger gr...   \n",
       "\n",
       "                                         comment_ids  comment_amnt  \n",
       "0  'hc9xp88', 'hc9xubv', 'hc9y66a', 'hc9ybwi', 'h...            13  \n",
       "1  'hc9uc6o', 'hc9umen', 'hc9usj0', 'hc9uxi7', 'h...             6  \n",
       "2  'hc9om2y', 'hc9ortz', 'hc9osmq', 'hc9osnr', 'h...            10  \n",
       "3  'hc9okcf', 'hc9pkte', 'hc9r0vn', 'hc9rl2i', 'h...            17  \n",
       "4  'hc9nq9s', 'hc9omqr', 'hc9thei', 'hc9ti4w', 'h...            17  "
      ]
     },
     "execution_count": 23,
     "metadata": {},
     "output_type": "execute_result"
    }
   ],
   "source": [
    "new_ex_df = clean_comment_ids(new_ex_df)\n",
    "new_ex_df.head()"
   ]
  },
  {
   "cell_type": "code",
   "execution_count": 24,
   "id": "4ac19363",
   "metadata": {
    "scrolled": false
   },
   "outputs": [
    {
     "data": {
      "text/html": [
       "<div>\n",
       "<style scoped>\n",
       "    .dataframe tbody tr th:only-of-type {\n",
       "        vertical-align: middle;\n",
       "    }\n",
       "\n",
       "    .dataframe tbody tr th {\n",
       "        vertical-align: top;\n",
       "    }\n",
       "\n",
       "    .dataframe thead th {\n",
       "        text-align: right;\n",
       "    }\n",
       "</style>\n",
       "<table border=\"1\" class=\"dataframe\">\n",
       "  <thead>\n",
       "    <tr style=\"text-align: right;\">\n",
       "      <th></th>\n",
       "      <th>author</th>\n",
       "      <th>created_utc</th>\n",
       "      <th>id</th>\n",
       "      <th>selftext</th>\n",
       "      <th>subreddit</th>\n",
       "      <th>title</th>\n",
       "      <th>comment_ids</th>\n",
       "      <th>comment_amnt</th>\n",
       "    </tr>\n",
       "  </thead>\n",
       "  <tbody>\n",
       "    <tr>\n",
       "      <th>0</th>\n",
       "      <td>ChrisGnam</td>\n",
       "      <td>1630428742</td>\n",
       "      <td>pf9tvb</td>\n",
       "      <td>So most of my peers (26 y/o and older) don't h...</td>\n",
       "      <td>askscience</td>\n",
       "      <td>Are there physiological or psychological diffe...</td>\n",
       "      <td>'hb2u26q', 'hb2w2r6', 'hb2xjpe', 'hb2zvcg', 'h...</td>\n",
       "      <td>20</td>\n",
       "    </tr>\n",
       "    <tr>\n",
       "      <th>1</th>\n",
       "      <td>MaoGo</td>\n",
       "      <td>1629571284</td>\n",
       "      <td>p8wued</td>\n",
       "      <td>Neutrinos are neutrally charged particles that...</td>\n",
       "      <td>askscience</td>\n",
       "      <td>How do we know that the neutrinos have spin?</td>\n",
       "      <td>'h9tnotf', 'h9tq6r5', 'h9tuejy', 'h9u1ubp', 'h...</td>\n",
       "      <td>12</td>\n",
       "    </tr>\n",
       "    <tr>\n",
       "      <th>2</th>\n",
       "      <td>the_protagonist</td>\n",
       "      <td>1629571059</td>\n",
       "      <td>p8ws1c</td>\n",
       "      <td>How does that “memory” work?  \\n\\nThis comes f...</td>\n",
       "      <td>askscience</td>\n",
       "      <td>If white blood cells are constantly dying and ...</td>\n",
       "      <td>'h9tuq0p', 'h9tuuqg', 'h9u10c7', 'h9umpe1', 'h...</td>\n",
       "      <td>12</td>\n",
       "    </tr>\n",
       "    <tr>\n",
       "      <th>3</th>\n",
       "      <td>CyKii</td>\n",
       "      <td>1629567841</td>\n",
       "      <td>p8vtoe</td>\n",
       "      <td>Obviously it's best to be careful about these ...</td>\n",
       "      <td>askscience</td>\n",
       "      <td>If mRNA vaccines remain proven safe, is it act...</td>\n",
       "      <td>'h9tem11', 'h9tfbjt', 'h9tfk2j', 'h9tfspy', 'h...</td>\n",
       "      <td>292</td>\n",
       "    </tr>\n",
       "    <tr>\n",
       "      <th>4</th>\n",
       "      <td>Comprehensive_Lead41</td>\n",
       "      <td>1629564364</td>\n",
       "      <td>p8ushd</td>\n",
       "      <td>Why does it look like this? https://images.app...</td>\n",
       "      <td>askscience</td>\n",
       "      <td>Why is the floor of the Uyuni salt desert part...</td>\n",
       "      <td>'h9t8m72', 'h9t8rg2', 'h9t9h9s', 'h9t9zht', 'h...</td>\n",
       "      <td>94</td>\n",
       "    </tr>\n",
       "  </tbody>\n",
       "</table>\n",
       "</div>"
      ],
      "text/plain": [
       "                 author  created_utc      id  \\\n",
       "0             ChrisGnam   1630428742  pf9tvb   \n",
       "1                 MaoGo   1629571284  p8wued   \n",
       "2       the_protagonist   1629571059  p8ws1c   \n",
       "3                 CyKii   1629567841  p8vtoe   \n",
       "4  Comprehensive_Lead41   1629564364  p8ushd   \n",
       "\n",
       "                                            selftext   subreddit  \\\n",
       "0  So most of my peers (26 y/o and older) don't h...  askscience   \n",
       "1  Neutrinos are neutrally charged particles that...  askscience   \n",
       "2  How does that “memory” work?  \\n\\nThis comes f...  askscience   \n",
       "3  Obviously it's best to be careful about these ...  askscience   \n",
       "4  Why does it look like this? https://images.app...  askscience   \n",
       "\n",
       "                                               title  \\\n",
       "0  Are there physiological or psychological diffe...   \n",
       "1       How do we know that the neutrinos have spin?   \n",
       "2  If white blood cells are constantly dying and ...   \n",
       "3  If mRNA vaccines remain proven safe, is it act...   \n",
       "4  Why is the floor of the Uyuni salt desert part...   \n",
       "\n",
       "                                         comment_ids  comment_amnt  \n",
       "0  'hb2u26q', 'hb2w2r6', 'hb2xjpe', 'hb2zvcg', 'h...            20  \n",
       "1  'h9tnotf', 'h9tq6r5', 'h9tuejy', 'h9u1ubp', 'h...            12  \n",
       "2  'h9tuq0p', 'h9tuuqg', 'h9u10c7', 'h9umpe1', 'h...            12  \n",
       "3  'h9tem11', 'h9tfbjt', 'h9tfk2j', 'h9tfspy', 'h...           292  \n",
       "4  'h9t8m72', 'h9t8rg2', 'h9t9h9s', 'h9t9zht', 'h...            94  "
      ]
     },
     "execution_count": 24,
     "metadata": {},
     "output_type": "execute_result"
    }
   ],
   "source": [
    "new_ask_df = clean_comment_ids(new_ask_df)\n",
    "new_ask_df.head()"
   ]
  },
  {
   "cell_type": "code",
   "execution_count": 135,
   "id": "a5ee491b",
   "metadata": {},
   "outputs": [],
   "source": [
    "new_ask_df.to_csv('../data/ask_df_comments.csv', index=False)\n",
    "new_ex_df.to_csv('../data/ex_df_comments.csv', index=False)"
   ]
  },
  {
   "cell_type": "markdown",
   "id": "be7e3dd3",
   "metadata": {},
   "source": [
    "## 2. Find Top Comment for each Submission"
   ]
  },
  {
   "cell_type": "markdown",
   "id": "9b3fe626",
   "metadata": {},
   "source": [
    "**Brief overview of this process:**\n",
    "- We pass our list of comment_ids into the api call to bring up all comments for a submission.\n",
    "- We then sort by score and keep that top submissiong\n",
    "\n",
    "**Issues:**\n",
    "- The maximum number of rows the api can pull at once is 500, when comment_amnt is > 500, the program fails and all remaining top_comments are set to 0.\n",
    "- Sometimes the top comment is 'removed'.\n",
    "\n",
    "**Fixes:**\n",
    "- Skip all submissions with > 500 comments. Each subreddit has <150 of these types of submissions.\n",
    "- Drop all submissions with top_comment = 'removed'. This is also a small number of submissions."
   ]
  },
  {
   "cell_type": "code",
   "execution_count": 18,
   "id": "6a4584c4",
   "metadata": {},
   "outputs": [],
   "source": [
    "new_ask_df = pd.read_csv('../data/ask_df_comments.csv')\n",
    "new_ex_df = pd.read_csv('../data/ex_df_comments.csv')"
   ]
  },
  {
   "cell_type": "code",
   "execution_count": 59,
   "id": "c71046af",
   "metadata": {},
   "outputs": [],
   "source": [
    "def find_top_comment(dataframe):\n",
    "    \n",
    "    new_df = dataframe.copy()\n",
    "    top_comment = []\n",
    "    \n",
    "    for j, ids in enumerate(new_df['comment_ids']):\n",
    "        #print(j)\n",
    "        if j >= new_df.shape[0]:\n",
    "            new_df['top_comment'] = top_comment\n",
    "            return new_df\n",
    "        \n",
    "        if new_df['comment_amnt'].iloc[j] > 500:\n",
    "            top_comment.append(0)\n",
    "            \n",
    "        else:\n",
    "            comment_url = 'https://api.pushshift.io/reddit/comment/search?ids=' + ids.replace(\"'\",'').replace(' ','')\n",
    "\n",
    "            # Access the api through our requests library\n",
    "            res = requests.get(comment_url)\n",
    "\n",
    "            # Ensure successful connection (=200); if it isnt, exit and print code.\n",
    "            if res.status_code != 200:\n",
    "                print('There as been an error: res.status_code =', res.status_code)\n",
    "\n",
    "                # Fill the rest of the lists with 0's in order to add it to our dataframe\n",
    "                for i in range(new_df.shape[0] - len(top_comment)):\n",
    "                    top_comment.append(1)\n",
    "\n",
    "                new_df['top_comment'] = top_comment\n",
    "                return new_df\n",
    "\n",
    "            # Continue with our cycling program if status_code == 200\n",
    "            else:\n",
    "                if new_df['comment_amnt'].iloc[j] == 0:\n",
    "                    top_comment.append(0)\n",
    "                \n",
    "                else:\n",
    "                    # Pull in our data into a variable 'posts'\n",
    "                    posts = res.json()['data']\n",
    "                    temp = pd.DataFrame(posts)       \n",
    "                    temp = temp[['score','body']].sort_values(by='score', ascending=False)\n",
    "                    temp = temp.iloc[0]['body']\n",
    "\n",
    "                    if posts != []:\n",
    "                        top_comment.append(temp)\n",
    "\n",
    "                    else:\n",
    "                        top_comment.append(0)\n",
    "\n",
    "                    # Set a pause time so we don't get blocked by Reddit for abusing the API\n",
    "                    time.sleep(0.1)\n",
    "\n",
    "    # add our created columns to the dataframe\n",
    "    new_df['top_comment'] = top_comment\n",
    "    \n",
    "    # Return the new dataframed with its 2 new columns\n",
    "    return new_df"
   ]
  },
  {
   "cell_type": "markdown",
   "id": "031d287d",
   "metadata": {},
   "source": [
    "## Top Comments for ELI5"
   ]
  },
  {
   "cell_type": "code",
   "execution_count": 50,
   "id": "988bf824",
   "metadata": {
    "scrolled": false
   },
   "outputs": [],
   "source": [
    "new_ex_df2 = find_top_comment(new_ex_df)"
   ]
  },
  {
   "cell_type": "code",
   "execution_count": 51,
   "id": "9003ba9b",
   "metadata": {
    "scrolled": false
   },
   "outputs": [
    {
     "data": {
      "text/html": [
       "<div>\n",
       "<style scoped>\n",
       "    .dataframe tbody tr th:only-of-type {\n",
       "        vertical-align: middle;\n",
       "    }\n",
       "\n",
       "    .dataframe tbody tr th {\n",
       "        vertical-align: top;\n",
       "    }\n",
       "\n",
       "    .dataframe thead th {\n",
       "        text-align: right;\n",
       "    }\n",
       "</style>\n",
       "<table border=\"1\" class=\"dataframe\">\n",
       "  <thead>\n",
       "    <tr style=\"text-align: right;\">\n",
       "      <th></th>\n",
       "      <th>author</th>\n",
       "      <th>created_utc</th>\n",
       "      <th>id</th>\n",
       "      <th>selftext</th>\n",
       "      <th>subreddit</th>\n",
       "      <th>title</th>\n",
       "      <th>comment_ids</th>\n",
       "      <th>comment_amnt</th>\n",
       "      <th>top_comment</th>\n",
       "    </tr>\n",
       "  </thead>\n",
       "  <tbody>\n",
       "    <tr>\n",
       "      <th>0</th>\n",
       "      <td>j_d0tnet</td>\n",
       "      <td>1631248750</td>\n",
       "      <td>ple5nz</td>\n",
       "      <td>Disclaimer: I did see a previous question touc...</td>\n",
       "      <td>explainlikeimfive</td>\n",
       "      <td>ELI5: Seriously, WTF is up with surface area a...</td>\n",
       "      <td>'hc9xp88', 'hc9xubv', 'hc9y66a', 'hc9ybwi', 'h...</td>\n",
       "      <td>13</td>\n",
       "      <td>The surface area to volume ratio is unit-indep...</td>\n",
       "    </tr>\n",
       "    <tr>\n",
       "      <th>1</th>\n",
       "      <td>ImpossibleZero</td>\n",
       "      <td>1631247022</td>\n",
       "      <td>pldqkn</td>\n",
       "      <td>I have a 30 year VA loan at 3.75% and my prope...</td>\n",
       "      <td>explainlikeimfive</td>\n",
       "      <td>ELI5: What does Refinancing a Mortgage Mean an...</td>\n",
       "      <td>'hc9uc6o', 'hc9umen', 'hc9usj0', 'hc9uxi7', 'h...</td>\n",
       "      <td>6</td>\n",
       "      <td>I just refinanced mine to get a lower interest...</td>\n",
       "    </tr>\n",
       "    <tr>\n",
       "      <th>2</th>\n",
       "      <td>Chardington</td>\n",
       "      <td>1631244279</td>\n",
       "      <td>pld1sd</td>\n",
       "      <td>I’ve been getting into finance, stonks and cry...</td>\n",
       "      <td>explainlikeimfive</td>\n",
       "      <td>ELI5: What exactly is “liquidity”?</td>\n",
       "      <td>'hc9om2y', 'hc9ortz', 'hc9osmq', 'hc9osnr', 'h...</td>\n",
       "      <td>10</td>\n",
       "      <td>Liquidity is how quickly an asset you possess ...</td>\n",
       "    </tr>\n",
       "    <tr>\n",
       "      <th>3</th>\n",
       "      <td>DentonJoe</td>\n",
       "      <td>1631244183</td>\n",
       "      <td>pld0wi</td>\n",
       "      <td>Always wondered why it doesn’t make sense to u...</td>\n",
       "      <td>explainlikeimfive</td>\n",
       "      <td>Eli5 why are diesel/electric powertrains econo...</td>\n",
       "      <td>'hc9okcf', 'hc9pkte', 'hc9r0vn', 'hc9rl2i', 'h...</td>\n",
       "      <td>17</td>\n",
       "      <td>Diesel electric drivelines in a locomotive are...</td>\n",
       "    </tr>\n",
       "    <tr>\n",
       "      <th>4</th>\n",
       "      <td>Aleitei</td>\n",
       "      <td>1631243837</td>\n",
       "      <td>plcxn4</td>\n",
       "      <td>Having trouble grasping this, I know time and ...</td>\n",
       "      <td>explainlikeimfive</td>\n",
       "      <td>ELI5: Why does time slow down near stronger gr...</td>\n",
       "      <td>'hc9nq9s', 'hc9omqr', 'hc9thei', 'hc9ti4w', 'h...</td>\n",
       "      <td>17</td>\n",
       "      <td>This is ELI5 so bare with me with a made up ex...</td>\n",
       "    </tr>\n",
       "  </tbody>\n",
       "</table>\n",
       "</div>"
      ],
      "text/plain": [
       "           author  created_utc      id  \\\n",
       "0        j_d0tnet   1631248750  ple5nz   \n",
       "1  ImpossibleZero   1631247022  pldqkn   \n",
       "2     Chardington   1631244279  pld1sd   \n",
       "3       DentonJoe   1631244183  pld0wi   \n",
       "4         Aleitei   1631243837  plcxn4   \n",
       "\n",
       "                                            selftext          subreddit  \\\n",
       "0  Disclaimer: I did see a previous question touc...  explainlikeimfive   \n",
       "1  I have a 30 year VA loan at 3.75% and my prope...  explainlikeimfive   \n",
       "2  I’ve been getting into finance, stonks and cry...  explainlikeimfive   \n",
       "3  Always wondered why it doesn’t make sense to u...  explainlikeimfive   \n",
       "4  Having trouble grasping this, I know time and ...  explainlikeimfive   \n",
       "\n",
       "                                               title  \\\n",
       "0  ELI5: Seriously, WTF is up with surface area a...   \n",
       "1  ELI5: What does Refinancing a Mortgage Mean an...   \n",
       "2                 ELI5: What exactly is “liquidity”?   \n",
       "3  Eli5 why are diesel/electric powertrains econo...   \n",
       "4  ELI5: Why does time slow down near stronger gr...   \n",
       "\n",
       "                                         comment_ids  comment_amnt  \\\n",
       "0  'hc9xp88', 'hc9xubv', 'hc9y66a', 'hc9ybwi', 'h...            13   \n",
       "1  'hc9uc6o', 'hc9umen', 'hc9usj0', 'hc9uxi7', 'h...             6   \n",
       "2  'hc9om2y', 'hc9ortz', 'hc9osmq', 'hc9osnr', 'h...            10   \n",
       "3  'hc9okcf', 'hc9pkte', 'hc9r0vn', 'hc9rl2i', 'h...            17   \n",
       "4  'hc9nq9s', 'hc9omqr', 'hc9thei', 'hc9ti4w', 'h...            17   \n",
       "\n",
       "                                         top_comment  \n",
       "0  The surface area to volume ratio is unit-indep...  \n",
       "1  I just refinanced mine to get a lower interest...  \n",
       "2  Liquidity is how quickly an asset you possess ...  \n",
       "3  Diesel electric drivelines in a locomotive are...  \n",
       "4  This is ELI5 so bare with me with a made up ex...  "
      ]
     },
     "execution_count": 51,
     "metadata": {},
     "output_type": "execute_result"
    }
   ],
   "source": [
    "new_ex_df2.head()"
   ]
  },
  {
   "cell_type": "code",
   "execution_count": 52,
   "id": "16f4abae",
   "metadata": {},
   "outputs": [
    {
     "data": {
      "text/plain": [
       "(5154, 8)"
      ]
     },
     "execution_count": 52,
     "metadata": {},
     "output_type": "execute_result"
    }
   ],
   "source": [
    "new_ex_df.shape"
   ]
  },
  {
   "cell_type": "code",
   "execution_count": 44,
   "id": "f02fd38d",
   "metadata": {},
   "outputs": [
    {
     "data": {
      "text/plain": [
       "(5154, 9)"
      ]
     },
     "execution_count": 44,
     "metadata": {},
     "output_type": "execute_result"
    }
   ],
   "source": [
    "new_ex_df2.shape"
   ]
  },
  {
   "cell_type": "code",
   "execution_count": 46,
   "id": "a62ca259",
   "metadata": {},
   "outputs": [
    {
     "data": {
      "text/plain": [
       "(3776, 9)"
      ]
     },
     "execution_count": 46,
     "metadata": {},
     "output_type": "execute_result"
    }
   ],
   "source": [
    "new_ex_df2[new_ex_df2['top_comment'] != 0].shape"
   ]
  },
  {
   "cell_type": "code",
   "execution_count": 47,
   "id": "4df7108d",
   "metadata": {},
   "outputs": [],
   "source": [
    "new_ex_df2 = new_ex_df2[new_ex_df2['top_comment'] != 0]"
   ]
  },
  {
   "cell_type": "code",
   "execution_count": 48,
   "id": "3c307b2b",
   "metadata": {
    "scrolled": true
   },
   "outputs": [
    {
     "data": {
      "text/plain": [
       "(3776, 9)"
      ]
     },
     "execution_count": 48,
     "metadata": {},
     "output_type": "execute_result"
    }
   ],
   "source": [
    "new_ex_df2[new_ex_df2['top_comment'] != 1].shape"
   ]
  },
  {
   "cell_type": "code",
   "execution_count": 49,
   "id": "5c513281",
   "metadata": {},
   "outputs": [],
   "source": [
    "new_ex_df2 = new_ex_df2[new_ex_df2['top_comment'] != 1]"
   ]
  },
  {
   "cell_type": "code",
   "execution_count": 50,
   "id": "81d6d1a3",
   "metadata": {},
   "outputs": [],
   "source": [
    "new_ex_df2.to_csv('../data/ex_df_final.csv', index=False)"
   ]
  },
  {
   "cell_type": "markdown",
   "id": "9acb871b",
   "metadata": {},
   "source": [
    "## Top Comments for AskScience"
   ]
  },
  {
   "cell_type": "markdown",
   "id": "829adb5c",
   "metadata": {},
   "source": [
    "The original function, which worked well for ELI5, had issues with AskScience, so we will modify it to deal with the specific issues it encountered on the ask_df dataset."
   ]
  },
  {
   "cell_type": "code",
   "execution_count": 29,
   "id": "16e9a9e8",
   "metadata": {},
   "outputs": [],
   "source": [
    "def find_top_comment2(dataframe):\n",
    "    \n",
    "    new_df = dataframe.copy()\n",
    "    top_comment = []\n",
    "    error_check = 0\n",
    "    \n",
    "    for j, ids in enumerate(new_df['comment_ids']):\n",
    "\n",
    "        if j >= new_df.shape[0]:\n",
    "            new_df['top_comment'] = top_comment\n",
    "            return new_df\n",
    "        \n",
    "        if new_df['comment_amnt'].iloc[j] > 500:\n",
    "            top_comment.append(0)\n",
    "            \n",
    "        else:\n",
    "            comment_url = 'https://api.pushshift.io/reddit/comment/search?ids=' + ids.replace(\"'\",'').replace(' ','')\n",
    "\n",
    "            # Access the api through our requests library\n",
    "            res = requests.get(comment_url)\n",
    "\n",
    "            # Ensure successful connection (=200); if it isnt, exit and print code.\n",
    "            if res.status_code != 200:\n",
    "                print('There as been an error: res.status_code =', res.status_code)\n",
    "                \n",
    "                if error_check < 5:\n",
    "                    error_check+=1\n",
    "                    top_comment.append(1)\n",
    "                    time.sleep(0.2)\n",
    "                    \n",
    "                else: \n",
    "                    \n",
    "                    if (new_df.shape[0] - len(top_comment)) != 0:\n",
    "                        # Fill the rest of the lists with 0's in order to add it to our dataframe\n",
    "                        for i in range(new_df.shape[0] - len(top_comment)):\n",
    "                            top_comment.append(2)\n",
    "\n",
    "                        new_df['top_comment'] = top_comment\n",
    "                        return new_df\n",
    "                    \n",
    "                    else:\n",
    "                        new_df['top_comment'] = top_comment\n",
    "                        return new_df\n",
    "\n",
    "            # Continue with our cycling program if status_code == 200\n",
    "            else:\n",
    "                error_check = 0\n",
    "                \n",
    "                if new_df['comment_amnt'].iloc[j] == 0:\n",
    "                    top_comment.append(0)\n",
    "                \n",
    "                else:\n",
    "                    # Pull in our data into a variable 'posts'\n",
    "                    posts = res.json()['data']\n",
    "                    temp = pd.DataFrame(posts)\n",
    "                    \n",
    "                    if 'score' in temp.columns and 'body' in temp.columns:\n",
    "                        temp = temp[['score','body']].sort_values(by='score', ascending=False)\n",
    "                        temp = temp.iloc[0]['body']\n",
    "\n",
    "                        if posts != []:\n",
    "                            top_comment.append(temp)\n",
    "\n",
    "                        else:\n",
    "                            top_comment.append(0)\n",
    "                            \n",
    "                    else:\n",
    "                        top_comment.append(3)\n",
    "\n",
    "                    # Set a pause time so we don't get blocked by Reddit for abusing the API\n",
    "                    time.sleep(0.2)\n",
    "\n",
    "    # add our created columns to the dataframe\n",
    "    new_df['top_comment'] = top_comment\n",
    "    \n",
    "    # Return the new dataframed with its 2 new columns\n",
    "    return new_df"
   ]
  },
  {
   "cell_type": "code",
   "execution_count": 51,
   "id": "d84ac6c4",
   "metadata": {
    "scrolled": true
   },
   "outputs": [
    {
     "name": "stdout",
     "output_type": "stream",
     "text": [
      "There as been an error: res.status_code = 500\n",
      "There as been an error: res.status_code = 502\n",
      "There as been an error: res.status_code = 500\n",
      "There as been an error: res.status_code = 500\n"
     ]
    }
   ],
   "source": [
    "new_ask_df2 = find_top_comment2(new_ask_df)"
   ]
  },
  {
   "cell_type": "code",
   "execution_count": 21,
   "id": "07bb642f",
   "metadata": {
    "scrolled": false
   },
   "outputs": [
    {
     "data": {
      "text/html": [
       "<div>\n",
       "<style scoped>\n",
       "    .dataframe tbody tr th:only-of-type {\n",
       "        vertical-align: middle;\n",
       "    }\n",
       "\n",
       "    .dataframe tbody tr th {\n",
       "        vertical-align: top;\n",
       "    }\n",
       "\n",
       "    .dataframe thead th {\n",
       "        text-align: right;\n",
       "    }\n",
       "</style>\n",
       "<table border=\"1\" class=\"dataframe\">\n",
       "  <thead>\n",
       "    <tr style=\"text-align: right;\">\n",
       "      <th></th>\n",
       "      <th>author</th>\n",
       "      <th>created_utc</th>\n",
       "      <th>id</th>\n",
       "      <th>selftext</th>\n",
       "      <th>subreddit</th>\n",
       "      <th>title</th>\n",
       "      <th>comment_ids</th>\n",
       "      <th>comment_amnt</th>\n",
       "      <th>top_comment</th>\n",
       "    </tr>\n",
       "  </thead>\n",
       "  <tbody>\n",
       "    <tr>\n",
       "      <th>0</th>\n",
       "      <td>ChrisGnam</td>\n",
       "      <td>1630428742</td>\n",
       "      <td>pf9tvb</td>\n",
       "      <td>So most of my peers (26 y/o and older) don't h...</td>\n",
       "      <td>askscience</td>\n",
       "      <td>Are there physiological or psychological diffe...</td>\n",
       "      <td>'hb2u26q', 'hb2w2r6', 'hb2xjpe', 'hb2zvcg', 'h...</td>\n",
       "      <td>20</td>\n",
       "      <td>Have you ruled out synaesthesia? \\n\\nhttps://e...</td>\n",
       "    </tr>\n",
       "    <tr>\n",
       "      <th>1</th>\n",
       "      <td>MaoGo</td>\n",
       "      <td>1629571284</td>\n",
       "      <td>p8wued</td>\n",
       "      <td>Neutrinos are neutrally charged particles that...</td>\n",
       "      <td>askscience</td>\n",
       "      <td>How do we know that the neutrinos have spin?</td>\n",
       "      <td>'h9tnotf', 'h9tq6r5', 'h9tuejy', 'h9u1ubp', 'h...</td>\n",
       "      <td>12</td>\n",
       "      <td>Neutrinos were originally proposed as a way to...</td>\n",
       "    </tr>\n",
       "    <tr>\n",
       "      <th>2</th>\n",
       "      <td>the_protagonist</td>\n",
       "      <td>1629571059</td>\n",
       "      <td>p8ws1c</td>\n",
       "      <td>How does that “memory” work?  \\n\\nThis comes f...</td>\n",
       "      <td>askscience</td>\n",
       "      <td>If white blood cells are constantly dying and ...</td>\n",
       "      <td>'h9tuq0p', 'h9tuuqg', 'h9u10c7', 'h9umpe1', 'h...</td>\n",
       "      <td>12</td>\n",
       "      <td>When a T- or B-cell is activated by it's assoc...</td>\n",
       "    </tr>\n",
       "    <tr>\n",
       "      <th>3</th>\n",
       "      <td>CyKii</td>\n",
       "      <td>1629567841</td>\n",
       "      <td>p8vtoe</td>\n",
       "      <td>Obviously it's best to be careful about these ...</td>\n",
       "      <td>askscience</td>\n",
       "      <td>If mRNA vaccines remain proven safe, is it act...</td>\n",
       "      <td>'h9tem11', 'h9tfbjt', 'h9tfk2j', 'h9tfspy', 'h...</td>\n",
       "      <td>292</td>\n",
       "      <td>For a completely new virus, sure - you'd defin...</td>\n",
       "    </tr>\n",
       "    <tr>\n",
       "      <th>4</th>\n",
       "      <td>Comprehensive_Lead41</td>\n",
       "      <td>1629564364</td>\n",
       "      <td>p8ushd</td>\n",
       "      <td>Why does it look like this? https://images.app...</td>\n",
       "      <td>askscience</td>\n",
       "      <td>Why is the floor of the Uyuni salt desert part...</td>\n",
       "      <td>'h9t8m72', 'h9t8rg2', 'h9t9h9s', 'h9t9zht', 'h...</td>\n",
       "      <td>94</td>\n",
       "      <td>[Convective currents in the evaporating surfac...</td>\n",
       "    </tr>\n",
       "  </tbody>\n",
       "</table>\n",
       "</div>"
      ],
      "text/plain": [
       "                 author  created_utc      id  \\\n",
       "0             ChrisGnam   1630428742  pf9tvb   \n",
       "1                 MaoGo   1629571284  p8wued   \n",
       "2       the_protagonist   1629571059  p8ws1c   \n",
       "3                 CyKii   1629567841  p8vtoe   \n",
       "4  Comprehensive_Lead41   1629564364  p8ushd   \n",
       "\n",
       "                                            selftext   subreddit  \\\n",
       "0  So most of my peers (26 y/o and older) don't h...  askscience   \n",
       "1  Neutrinos are neutrally charged particles that...  askscience   \n",
       "2  How does that “memory” work?  \\n\\nThis comes f...  askscience   \n",
       "3  Obviously it's best to be careful about these ...  askscience   \n",
       "4  Why does it look like this? https://images.app...  askscience   \n",
       "\n",
       "                                               title  \\\n",
       "0  Are there physiological or psychological diffe...   \n",
       "1       How do we know that the neutrinos have spin?   \n",
       "2  If white blood cells are constantly dying and ...   \n",
       "3  If mRNA vaccines remain proven safe, is it act...   \n",
       "4  Why is the floor of the Uyuni salt desert part...   \n",
       "\n",
       "                                         comment_ids  comment_amnt  \\\n",
       "0  'hb2u26q', 'hb2w2r6', 'hb2xjpe', 'hb2zvcg', 'h...            20   \n",
       "1  'h9tnotf', 'h9tq6r5', 'h9tuejy', 'h9u1ubp', 'h...            12   \n",
       "2  'h9tuq0p', 'h9tuuqg', 'h9u10c7', 'h9umpe1', 'h...            12   \n",
       "3  'h9tem11', 'h9tfbjt', 'h9tfk2j', 'h9tfspy', 'h...           292   \n",
       "4  'h9t8m72', 'h9t8rg2', 'h9t9h9s', 'h9t9zht', 'h...            94   \n",
       "\n",
       "                                         top_comment  \n",
       "0  Have you ruled out synaesthesia? \\n\\nhttps://e...  \n",
       "1  Neutrinos were originally proposed as a way to...  \n",
       "2  When a T- or B-cell is activated by it's assoc...  \n",
       "3  For a completely new virus, sure - you'd defin...  \n",
       "4  [Convective currents in the evaporating surfac...  "
      ]
     },
     "execution_count": 21,
     "metadata": {},
     "output_type": "execute_result"
    }
   ],
   "source": [
    "new_ask_df2.head()"
   ]
  },
  {
   "cell_type": "code",
   "execution_count": 31,
   "id": "f833f1dc",
   "metadata": {},
   "outputs": [
    {
     "data": {
      "text/plain": [
       "(6801, 8)"
      ]
     },
     "execution_count": 31,
     "metadata": {},
     "output_type": "execute_result"
    }
   ],
   "source": [
    "new_ask_df.shape"
   ]
  },
  {
   "cell_type": "code",
   "execution_count": 23,
   "id": "35988dac",
   "metadata": {},
   "outputs": [
    {
     "data": {
      "text/plain": [
       "(6801, 9)"
      ]
     },
     "execution_count": 23,
     "metadata": {},
     "output_type": "execute_result"
    }
   ],
   "source": [
    "new_ask_df2.shape"
   ]
  },
  {
   "cell_type": "code",
   "execution_count": 32,
   "id": "3a95de64",
   "metadata": {},
   "outputs": [
    {
     "data": {
      "text/plain": [
       "(3916, 9)"
      ]
     },
     "execution_count": 32,
     "metadata": {},
     "output_type": "execute_result"
    }
   ],
   "source": [
    "new_ask_df2[new_ask_df2['top_comment'] != 0].shape"
   ]
  },
  {
   "cell_type": "code",
   "execution_count": 33,
   "id": "b0ff064b",
   "metadata": {},
   "outputs": [],
   "source": [
    "new_ask_df2 = new_ask_df2[new_ask_df2['top_comment'] != 0]"
   ]
  },
  {
   "cell_type": "code",
   "execution_count": 25,
   "id": "1d8640aa",
   "metadata": {
    "scrolled": true
   },
   "outputs": [
    {
     "data": {
      "text/plain": [
       "(6792, 9)"
      ]
     },
     "execution_count": 25,
     "metadata": {},
     "output_type": "execute_result"
    }
   ],
   "source": [
    "new_ask_df2[new_ask_df2['top_comment'] != 1].shape"
   ]
  },
  {
   "cell_type": "code",
   "execution_count": 34,
   "id": "669e8849",
   "metadata": {},
   "outputs": [],
   "source": [
    "new_ask_df2 = new_ask_df2[new_ask_df2['top_comment'] != 1]"
   ]
  },
  {
   "cell_type": "code",
   "execution_count": 35,
   "id": "19cd0e7c",
   "metadata": {},
   "outputs": [
    {
     "data": {
      "text/plain": [
       "(3907, 9)"
      ]
     },
     "execution_count": 35,
     "metadata": {},
     "output_type": "execute_result"
    }
   ],
   "source": [
    "new_ask_df2[new_ask_df2['top_comment'] != 2].shape"
   ]
  },
  {
   "cell_type": "code",
   "execution_count": 36,
   "id": "dbdd2740",
   "metadata": {},
   "outputs": [],
   "source": [
    "new_ask_df2 = new_ask_df2[new_ask_df2['top_comment'] != 2]"
   ]
  },
  {
   "cell_type": "code",
   "execution_count": 37,
   "id": "ee7586cf",
   "metadata": {},
   "outputs": [
    {
     "data": {
      "text/plain": [
       "(3360, 9)"
      ]
     },
     "execution_count": 37,
     "metadata": {},
     "output_type": "execute_result"
    }
   ],
   "source": [
    "new_ask_df2[new_ask_df2['top_comment'] != 3].shape"
   ]
  },
  {
   "cell_type": "code",
   "execution_count": 38,
   "id": "b3db1d04",
   "metadata": {},
   "outputs": [],
   "source": [
    "new_ask_df2 = new_ask_df2[new_ask_df2['top_comment'] != 3]"
   ]
  },
  {
   "cell_type": "code",
   "execution_count": 39,
   "id": "857d3dd4",
   "metadata": {},
   "outputs": [],
   "source": [
    "new_ask_df2.to_csv('../data/ask_df_final.csv', index=False)"
   ]
  },
  {
   "cell_type": "markdown",
   "id": "34b398b0",
   "metadata": {},
   "source": [
    "# Summary\n",
    "\n",
    "We were able to pull submissions and their top comment. Some comments we were unable to pull either due to the API call malfunctioning or a faulty pathway and other comments were empty, but we are left with approximately **3400 entries for AskScience** and **3800 entries for ELI5**."
   ]
  },
  {
   "cell_type": "code",
   "execution_count": null,
   "id": "4404b7c6",
   "metadata": {},
   "outputs": [],
   "source": []
  }
 ],
 "metadata": {
  "kernelspec": {
   "display_name": "Python 3",
   "language": "python",
   "name": "python3"
  },
  "language_info": {
   "codemirror_mode": {
    "name": "ipython",
    "version": 3
   },
   "file_extension": ".py",
   "mimetype": "text/x-python",
   "name": "python",
   "nbconvert_exporter": "python",
   "pygments_lexer": "ipython3",
   "version": "3.8.8"
  }
 },
 "nbformat": 4,
 "nbformat_minor": 5
}
