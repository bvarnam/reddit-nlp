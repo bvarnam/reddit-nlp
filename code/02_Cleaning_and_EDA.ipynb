{
 "cells": [
  {
   "attachments": {},
   "cell_type": "markdown",
   "id": "b31fde1e",
   "metadata": {},
   "source": [
    "# Project 3: Reddit Post Sorting\n",
    "\n",
    "- **ExplainLikeImFive (ELI5)** - Explain Like I'm Five is the best forum and archive on the internet for layperson-friendly explanations. Don't Panic!\n",
    "- **AskScience** - Ask a science question, get a science answer.\n",
    "\n",
    "\n",
    "---\n",
    "\n",
    "We will be analyzing a random collection of posts from two subReddits, **ExplainLikeImFive** and **AskScience**, in order to build a model to predict if an individual posts belong to ELI5 or AskScience; we will be analyzing the Title and Body of the Post.\n",
    "\n",
    "**What am I hoping to achieve with this?**\n",
    "> If ELI5 is distinguishable from AskScience.\n",
    "\n",
    "**Why?**\n",
    "> To see if a subreddit focused on explaining things in a simple manner is that much different than a subreddit that wants to explain it any way they can."
   ]
  },
  {
   "cell_type": "markdown",
   "id": "b51e1d4c",
   "metadata": {},
   "source": [
    "# Data Cleaning and Exploratory Data Analysis"
   ]
  },
  {
   "cell_type": "code",
   "execution_count": 1,
   "id": "2a3a7d8f",
   "metadata": {},
   "outputs": [],
   "source": [
    "import pandas as pd\n",
    "import numpy as np\n",
    "import matplotlib.pyplot as plt\n",
    "import seaborn as sns\n",
    "%matplotlib inline\n",
    "\n",
    "from sklearn.feature_extraction.text import CountVectorizer\n",
    "from nltk.corpus import stopwords\n",
    "\n",
    "from nltk.sentiment.vader import SentimentIntensityAnalyzer"
   ]
  },
  {
   "cell_type": "code",
   "execution_count": 2,
   "id": "6ca013ce",
   "metadata": {},
   "outputs": [
    {
     "data": {
      "text/html": [
       "<div>\n",
       "<style scoped>\n",
       "    .dataframe tbody tr th:only-of-type {\n",
       "        vertical-align: middle;\n",
       "    }\n",
       "\n",
       "    .dataframe tbody tr th {\n",
       "        vertical-align: top;\n",
       "    }\n",
       "\n",
       "    .dataframe thead th {\n",
       "        text-align: right;\n",
       "    }\n",
       "</style>\n",
       "<table border=\"1\" class=\"dataframe\">\n",
       "  <thead>\n",
       "    <tr style=\"text-align: right;\">\n",
       "      <th></th>\n",
       "      <th>author</th>\n",
       "      <th>created_utc</th>\n",
       "      <th>id</th>\n",
       "      <th>selftext</th>\n",
       "      <th>subreddit</th>\n",
       "      <th>title</th>\n",
       "    </tr>\n",
       "  </thead>\n",
       "  <tbody>\n",
       "    <tr>\n",
       "      <th>0</th>\n",
       "      <td>j_d0tnet</td>\n",
       "      <td>1631248750</td>\n",
       "      <td>ple5nz</td>\n",
       "      <td>Disclaimer: I did see a previous question touc...</td>\n",
       "      <td>explainlikeimfive</td>\n",
       "      <td>ELI5: Seriously, WTF is up with surface area a...</td>\n",
       "    </tr>\n",
       "    <tr>\n",
       "      <th>1</th>\n",
       "      <td>ImpossibleZero</td>\n",
       "      <td>1631247022</td>\n",
       "      <td>pldqkn</td>\n",
       "      <td>I have a 30 year VA loan at 3.75% and my prope...</td>\n",
       "      <td>explainlikeimfive</td>\n",
       "      <td>ELI5: What does Refinancing a Mortgage Mean an...</td>\n",
       "    </tr>\n",
       "    <tr>\n",
       "      <th>2</th>\n",
       "      <td>80sKidCA</td>\n",
       "      <td>1631246964</td>\n",
       "      <td>pldq29</td>\n",
       "      <td>NaN</td>\n",
       "      <td>explainlikeimfive</td>\n",
       "      <td>ELI5: Why and how does your body store tension...</td>\n",
       "    </tr>\n",
       "    <tr>\n",
       "      <th>3</th>\n",
       "      <td>Chardington</td>\n",
       "      <td>1631244279</td>\n",
       "      <td>pld1sd</td>\n",
       "      <td>I’ve been getting into finance, stonks and cry...</td>\n",
       "      <td>explainlikeimfive</td>\n",
       "      <td>ELI5: What exactly is “liquidity”?</td>\n",
       "    </tr>\n",
       "    <tr>\n",
       "      <th>4</th>\n",
       "      <td>DentonJoe</td>\n",
       "      <td>1631244183</td>\n",
       "      <td>pld0wi</td>\n",
       "      <td>Always wondered why it doesn’t make sense to u...</td>\n",
       "      <td>explainlikeimfive</td>\n",
       "      <td>Eli5 why are diesel/electric powertrains econo...</td>\n",
       "    </tr>\n",
       "  </tbody>\n",
       "</table>\n",
       "</div>"
      ],
      "text/plain": [
       "           author  created_utc      id  \\\n",
       "0        j_d0tnet   1631248750  ple5nz   \n",
       "1  ImpossibleZero   1631247022  pldqkn   \n",
       "2        80sKidCA   1631246964  pldq29   \n",
       "3     Chardington   1631244279  pld1sd   \n",
       "4       DentonJoe   1631244183  pld0wi   \n",
       "\n",
       "                                            selftext          subreddit  \\\n",
       "0  Disclaimer: I did see a previous question touc...  explainlikeimfive   \n",
       "1  I have a 30 year VA loan at 3.75% and my prope...  explainlikeimfive   \n",
       "2                                                NaN  explainlikeimfive   \n",
       "3  I’ve been getting into finance, stonks and cry...  explainlikeimfive   \n",
       "4  Always wondered why it doesn’t make sense to u...  explainlikeimfive   \n",
       "\n",
       "                                               title  \n",
       "0  ELI5: Seriously, WTF is up with surface area a...  \n",
       "1  ELI5: What does Refinancing a Mortgage Mean an...  \n",
       "2  ELI5: Why and how does your body store tension...  \n",
       "3                 ELI5: What exactly is “liquidity”?  \n",
       "4  Eli5 why are diesel/electric powertrains econo...  "
      ]
     },
     "execution_count": 2,
     "metadata": {},
     "output_type": "execute_result"
    }
   ],
   "source": [
    "ex_df = pd.read_csv('../data/ex_df.csv')\n",
    "ex_df.head()"
   ]
  },
  {
   "cell_type": "code",
   "execution_count": 3,
   "id": "b88927d2",
   "metadata": {},
   "outputs": [
    {
     "data": {
      "text/html": [
       "<div>\n",
       "<style scoped>\n",
       "    .dataframe tbody tr th:only-of-type {\n",
       "        vertical-align: middle;\n",
       "    }\n",
       "\n",
       "    .dataframe tbody tr th {\n",
       "        vertical-align: top;\n",
       "    }\n",
       "\n",
       "    .dataframe thead th {\n",
       "        text-align: right;\n",
       "    }\n",
       "</style>\n",
       "<table border=\"1\" class=\"dataframe\">\n",
       "  <thead>\n",
       "    <tr style=\"text-align: right;\">\n",
       "      <th></th>\n",
       "      <th>author</th>\n",
       "      <th>created_utc</th>\n",
       "      <th>id</th>\n",
       "      <th>selftext</th>\n",
       "      <th>subreddit</th>\n",
       "      <th>title</th>\n",
       "    </tr>\n",
       "  </thead>\n",
       "  <tbody>\n",
       "    <tr>\n",
       "      <th>0</th>\n",
       "      <td>ChrisGnam</td>\n",
       "      <td>1630428742</td>\n",
       "      <td>pf9tvb</td>\n",
       "      <td>So most of my peers (26 y/o and older) don't h...</td>\n",
       "      <td>askscience</td>\n",
       "      <td>Are there physiological or psychological diffe...</td>\n",
       "    </tr>\n",
       "    <tr>\n",
       "      <th>1</th>\n",
       "      <td>MaoGo</td>\n",
       "      <td>1629571284</td>\n",
       "      <td>p8wued</td>\n",
       "      <td>Neutrinos are neutrally charged particles that...</td>\n",
       "      <td>askscience</td>\n",
       "      <td>How do we know that the neutrinos have spin?</td>\n",
       "    </tr>\n",
       "    <tr>\n",
       "      <th>2</th>\n",
       "      <td>the_protagonist</td>\n",
       "      <td>1629571059</td>\n",
       "      <td>p8ws1c</td>\n",
       "      <td>How does that “memory” work?  \\n\\nThis comes f...</td>\n",
       "      <td>askscience</td>\n",
       "      <td>If white blood cells are constantly dying and ...</td>\n",
       "    </tr>\n",
       "    <tr>\n",
       "      <th>3</th>\n",
       "      <td>CyKii</td>\n",
       "      <td>1629567841</td>\n",
       "      <td>p8vtoe</td>\n",
       "      <td>Obviously it's best to be careful about these ...</td>\n",
       "      <td>askscience</td>\n",
       "      <td>If mRNA vaccines remain proven safe, is it act...</td>\n",
       "    </tr>\n",
       "    <tr>\n",
       "      <th>4</th>\n",
       "      <td>hairycoo</td>\n",
       "      <td>1629566821</td>\n",
       "      <td>p8vinv</td>\n",
       "      <td>NaN</td>\n",
       "      <td>askscience</td>\n",
       "      <td>Can't we include multiple virus traits rather ...</td>\n",
       "    </tr>\n",
       "  </tbody>\n",
       "</table>\n",
       "</div>"
      ],
      "text/plain": [
       "            author  created_utc      id  \\\n",
       "0        ChrisGnam   1630428742  pf9tvb   \n",
       "1            MaoGo   1629571284  p8wued   \n",
       "2  the_protagonist   1629571059  p8ws1c   \n",
       "3            CyKii   1629567841  p8vtoe   \n",
       "4         hairycoo   1629566821  p8vinv   \n",
       "\n",
       "                                            selftext   subreddit  \\\n",
       "0  So most of my peers (26 y/o and older) don't h...  askscience   \n",
       "1  Neutrinos are neutrally charged particles that...  askscience   \n",
       "2  How does that “memory” work?  \\n\\nThis comes f...  askscience   \n",
       "3  Obviously it's best to be careful about these ...  askscience   \n",
       "4                                                NaN  askscience   \n",
       "\n",
       "                                               title  \n",
       "0  Are there physiological or psychological diffe...  \n",
       "1       How do we know that the neutrinos have spin?  \n",
       "2  If white blood cells are constantly dying and ...  \n",
       "3  If mRNA vaccines remain proven safe, is it act...  \n",
       "4  Can't we include multiple virus traits rather ...  "
      ]
     },
     "execution_count": 3,
     "metadata": {},
     "output_type": "execute_result"
    }
   ],
   "source": [
    "ask_df = pd.read_csv('../data/ask_df.csv')\n",
    "ask_df.head()"
   ]
  },
  {
   "cell_type": "markdown",
   "id": "3cb0dd78",
   "metadata": {},
   "source": [
    "**Data was read in successfully**\n",
    "\n",
    "Let's ensure we dont have any removed posts."
   ]
  },
  {
   "cell_type": "code",
   "execution_count": 4,
   "id": "b486efac",
   "metadata": {},
   "outputs": [
    {
     "data": {
      "text/plain": [
       "(10000, 6)"
      ]
     },
     "execution_count": 4,
     "metadata": {},
     "output_type": "execute_result"
    }
   ],
   "source": [
    "ex_df[ex_df['selftext']!= '[removed]'].shape"
   ]
  },
  {
   "cell_type": "code",
   "execution_count": 5,
   "id": "13fcd573",
   "metadata": {
    "scrolled": true
   },
   "outputs": [
    {
     "data": {
      "text/plain": [
       "(10095, 6)"
      ]
     },
     "execution_count": 5,
     "metadata": {},
     "output_type": "execute_result"
    }
   ],
   "source": [
    "ask_df[ask_df['selftext']!= '[removed]'].shape"
   ]
  },
  {
   "cell_type": "markdown",
   "id": "8fed62ff",
   "metadata": {},
   "source": [
    "## Data Cleaning\n",
    "\n",
    "**Check for Missing Values and Incorrect Datatypes**"
   ]
  },
  {
   "cell_type": "code",
   "execution_count": 6,
   "id": "2b37e5f7",
   "metadata": {
    "scrolled": true
   },
   "outputs": [
    {
     "name": "stdout",
     "output_type": "stream",
     "text": [
      "<class 'pandas.core.frame.DataFrame'>\n",
      "RangeIndex: 10000 entries, 0 to 9999\n",
      "Data columns (total 6 columns):\n",
      " #   Column       Non-Null Count  Dtype \n",
      "---  ------       --------------  ----- \n",
      " 0   author       10000 non-null  object\n",
      " 1   created_utc  10000 non-null  int64 \n",
      " 2   id           10000 non-null  object\n",
      " 3   selftext     5100 non-null   object\n",
      " 4   subreddit    10000 non-null  object\n",
      " 5   title        10000 non-null  object\n",
      "dtypes: int64(1), object(5)\n",
      "memory usage: 468.9+ KB\n"
     ]
    }
   ],
   "source": [
    "ex_df.info()"
   ]
  },
  {
   "cell_type": "code",
   "execution_count": 7,
   "id": "28499b95",
   "metadata": {},
   "outputs": [
    {
     "name": "stdout",
     "output_type": "stream",
     "text": [
      "<class 'pandas.core.frame.DataFrame'>\n",
      "RangeIndex: 10095 entries, 0 to 10094\n",
      "Data columns (total 6 columns):\n",
      " #   Column       Non-Null Count  Dtype \n",
      "---  ------       --------------  ----- \n",
      " 0   author       10095 non-null  object\n",
      " 1   created_utc  10095 non-null  int64 \n",
      " 2   id           10095 non-null  object\n",
      " 3   selftext     6802 non-null   object\n",
      " 4   subreddit    10095 non-null  object\n",
      " 5   title        10095 non-null  object\n",
      "dtypes: int64(1), object(5)\n",
      "memory usage: 473.3+ KB\n"
     ]
    }
   ],
   "source": [
    "ask_df.info()"
   ]
  },
  {
   "cell_type": "markdown",
   "id": "4fcb61e1",
   "metadata": {},
   "source": [
    "**We appear to have some empty selftext variables, which represent the body of the post. These posts without any selftext would only provide value through the title, and may be difficult for our model to analyze. \n",
    "> Since we still have a significant amount of data without these posts, we will remove posts without selftext.**"
   ]
  },
  {
   "cell_type": "code",
   "execution_count": 8,
   "id": "32eb355f",
   "metadata": {},
   "outputs": [],
   "source": [
    "ex_df.dropna(inplace=True)\n",
    "ask_df.dropna(inplace=True)"
   ]
  },
  {
   "cell_type": "code",
   "execution_count": 9,
   "id": "855ada93",
   "metadata": {},
   "outputs": [
    {
     "name": "stdout",
     "output_type": "stream",
     "text": [
      "<class 'pandas.core.frame.DataFrame'>\n",
      "Int64Index: 5100 entries, 0 to 9998\n",
      "Data columns (total 6 columns):\n",
      " #   Column       Non-Null Count  Dtype \n",
      "---  ------       --------------  ----- \n",
      " 0   author       5100 non-null   object\n",
      " 1   created_utc  5100 non-null   int64 \n",
      " 2   id           5100 non-null   object\n",
      " 3   selftext     5100 non-null   object\n",
      " 4   subreddit    5100 non-null   object\n",
      " 5   title        5100 non-null   object\n",
      "dtypes: int64(1), object(5)\n",
      "memory usage: 278.9+ KB\n"
     ]
    }
   ],
   "source": [
    "ex_df.info()"
   ]
  },
  {
   "cell_type": "code",
   "execution_count": 10,
   "id": "8aa21155",
   "metadata": {},
   "outputs": [
    {
     "name": "stdout",
     "output_type": "stream",
     "text": [
      "<class 'pandas.core.frame.DataFrame'>\n",
      "Int64Index: 6802 entries, 0 to 10091\n",
      "Data columns (total 6 columns):\n",
      " #   Column       Non-Null Count  Dtype \n",
      "---  ------       --------------  ----- \n",
      " 0   author       6802 non-null   object\n",
      " 1   created_utc  6802 non-null   int64 \n",
      " 2   id           6802 non-null   object\n",
      " 3   selftext     6802 non-null   object\n",
      " 4   subreddit    6802 non-null   object\n",
      " 5   title        6802 non-null   object\n",
      "dtypes: int64(1), object(5)\n",
      "memory usage: 372.0+ KB\n"
     ]
    }
   ],
   "source": [
    "ask_df.info()"
   ]
  },
  {
   "cell_type": "markdown",
   "id": "90bf6281",
   "metadata": {},
   "source": [
    "## Exploratory Data Analysis\n",
    "\n",
    "**Let's do some NLP exploration on our two datasets.**\n",
    "\n",
    "We will define 2 functions to perform our analysis for length of the Title and Body of the posts."
   ]
  },
  {
   "cell_type": "code",
   "execution_count": 11,
   "id": "120f8117",
   "metadata": {},
   "outputs": [],
   "source": [
    "def word_len(df, column):\n",
    "    '''\n",
    "    Takes the dataframe and column to be measured and adds a new column to that dataframe.\n",
    "    '''\n",
    "    words = []\n",
    "    for status in df[column]:\n",
    "        words.append(len(status.split(' ')))\n",
    "\n",
    "    df[column+'_words'] = words\n",
    "    \n",
    "    return df"
   ]
  },
  {
   "cell_type": "code",
   "execution_count": 12,
   "id": "74ae04dd",
   "metadata": {},
   "outputs": [],
   "source": [
    "def char_len(df, column):\n",
    "\n",
    "    status_length = []\n",
    "    for status in df[column]:\n",
    "        status_length.append(len(status))\n",
    "\n",
    "\n",
    "    df[column+'_len'] = status_length\n",
    "\n",
    "    return df"
   ]
  },
  {
   "cell_type": "markdown",
   "id": "4cbc31cd",
   "metadata": {},
   "source": [
    "---\n",
    "\n",
    "**How long are the titles on average?**"
   ]
  },
  {
   "cell_type": "code",
   "execution_count": 13,
   "id": "a4a79808",
   "metadata": {},
   "outputs": [
    {
     "name": "stdout",
     "output_type": "stream",
     "text": [
      "For the ELI5 SubReddit, Average length of Title is 13 words, or 71 characters.\n"
     ]
    }
   ],
   "source": [
    "ex_df = word_len(ex_df, 'title')\n",
    "ex_df = char_len(ex_df, 'title')\n",
    "print(f\"For the ELI5 SubReddit, Average length of Title is {round(ex_df['title_words'].mean())} words, or {round(ex_df['title_len'].mean())} characters.\")"
   ]
  },
  {
   "cell_type": "code",
   "execution_count": 14,
   "id": "1029ea85",
   "metadata": {},
   "outputs": [
    {
     "name": "stdout",
     "output_type": "stream",
     "text": [
      "For the AskScience SubReddit, Average length of Title is 14 words, or 81 characters.\n"
     ]
    }
   ],
   "source": [
    "ask_df = word_len(ask_df, 'title')\n",
    "ask_df = char_len(ask_df, 'title')\n",
    "print(f\"For the AskScience SubReddit, Average length of Title is {round(ask_df['title_words'].mean())} words, or {round(ask_df['title_len'].mean())} characters.\")"
   ]
  },
  {
   "cell_type": "markdown",
   "id": "925a2b49",
   "metadata": {},
   "source": [
    "**How long are the bodies (selftext) of the submission on average?**"
   ]
  },
  {
   "cell_type": "code",
   "execution_count": 15,
   "id": "210808a8",
   "metadata": {},
   "outputs": [
    {
     "name": "stdout",
     "output_type": "stream",
     "text": [
      "For the ELI5 SubReddit, Average length of Selftext is 46 words, or 252 characters.\n"
     ]
    }
   ],
   "source": [
    "ex_df = word_len(ex_df, 'selftext')\n",
    "ex_df = char_len(ex_df, 'selftext')\n",
    "print(f\"For the ELI5 SubReddit, Average length of Selftext is {round(ex_df['selftext_words'].mean())} words, or {round(ex_df['selftext_len'].mean())} characters.\")"
   ]
  },
  {
   "cell_type": "code",
   "execution_count": 16,
   "id": "bd0a835b",
   "metadata": {
    "scrolled": true
   },
   "outputs": [
    {
     "name": "stdout",
     "output_type": "stream",
     "text": [
      "For the AskScience SubReddit, Average length of Selftext is 62 words, or 361 characters.\n"
     ]
    }
   ],
   "source": [
    "ask_df = word_len(ask_df, 'selftext')\n",
    "ask_df = char_len(ask_df, 'selftext')\n",
    "print(f\"For the AskScience SubReddit, Average length of Selftext is {round(ask_df['selftext_words'].mean())} words, or {round(ask_df['selftext_len'].mean())} characters.\")"
   ]
  },
  {
   "cell_type": "markdown",
   "id": "10ab7491",
   "metadata": {},
   "source": [
    "**Let's see some additional numerical descriptions for these newly created columns.**"
   ]
  },
  {
   "cell_type": "code",
   "execution_count": 17,
   "id": "188fe270",
   "metadata": {
    "scrolled": true
   },
   "outputs": [
    {
     "data": {
      "text/html": [
       "<div>\n",
       "<style scoped>\n",
       "    .dataframe tbody tr th:only-of-type {\n",
       "        vertical-align: middle;\n",
       "    }\n",
       "\n",
       "    .dataframe tbody tr th {\n",
       "        vertical-align: top;\n",
       "    }\n",
       "\n",
       "    .dataframe thead th {\n",
       "        text-align: right;\n",
       "    }\n",
       "</style>\n",
       "<table border=\"1\" class=\"dataframe\">\n",
       "  <thead>\n",
       "    <tr style=\"text-align: right;\">\n",
       "      <th></th>\n",
       "      <th>created_utc</th>\n",
       "      <th>title_words</th>\n",
       "      <th>title_len</th>\n",
       "      <th>selftext_words</th>\n",
       "      <th>selftext_len</th>\n",
       "    </tr>\n",
       "  </thead>\n",
       "  <tbody>\n",
       "    <tr>\n",
       "      <th>count</th>\n",
       "      <td>6.802000e+03</td>\n",
       "      <td>6802.000000</td>\n",
       "      <td>6802.000000</td>\n",
       "      <td>6802.000000</td>\n",
       "      <td>6802.000000</td>\n",
       "    </tr>\n",
       "    <tr>\n",
       "      <th>mean</th>\n",
       "      <td>1.509692e+09</td>\n",
       "      <td>14.130550</td>\n",
       "      <td>81.276389</td>\n",
       "      <td>61.548662</td>\n",
       "      <td>361.237136</td>\n",
       "    </tr>\n",
       "    <tr>\n",
       "      <th>std</th>\n",
       "      <td>2.997119e+07</td>\n",
       "      <td>7.742759</td>\n",
       "      <td>43.499165</td>\n",
       "      <td>61.587431</td>\n",
       "      <td>373.724661</td>\n",
       "    </tr>\n",
       "    <tr>\n",
       "      <th>min</th>\n",
       "      <td>1.483134e+09</td>\n",
       "      <td>2.000000</td>\n",
       "      <td>13.000000</td>\n",
       "      <td>1.000000</td>\n",
       "      <td>1.000000</td>\n",
       "    </tr>\n",
       "    <tr>\n",
       "      <th>25%</th>\n",
       "      <td>1.492331e+09</td>\n",
       "      <td>9.000000</td>\n",
       "      <td>51.000000</td>\n",
       "      <td>26.000000</td>\n",
       "      <td>144.000000</td>\n",
       "    </tr>\n",
       "    <tr>\n",
       "      <th>50%</th>\n",
       "      <td>1.500948e+09</td>\n",
       "      <td>12.000000</td>\n",
       "      <td>71.000000</td>\n",
       "      <td>45.000000</td>\n",
       "      <td>260.000000</td>\n",
       "    </tr>\n",
       "    <tr>\n",
       "      <th>75%</th>\n",
       "      <td>1.515098e+09</td>\n",
       "      <td>18.000000</td>\n",
       "      <td>102.000000</td>\n",
       "      <td>77.000000</td>\n",
       "      <td>447.000000</td>\n",
       "    </tr>\n",
       "    <tr>\n",
       "      <th>max</th>\n",
       "      <td>1.630429e+09</td>\n",
       "      <td>60.000000</td>\n",
       "      <td>299.000000</td>\n",
       "      <td>1107.000000</td>\n",
       "      <td>6653.000000</td>\n",
       "    </tr>\n",
       "  </tbody>\n",
       "</table>\n",
       "</div>"
      ],
      "text/plain": [
       "        created_utc  title_words    title_len  selftext_words  selftext_len\n",
       "count  6.802000e+03  6802.000000  6802.000000     6802.000000   6802.000000\n",
       "mean   1.509692e+09    14.130550    81.276389       61.548662    361.237136\n",
       "std    2.997119e+07     7.742759    43.499165       61.587431    373.724661\n",
       "min    1.483134e+09     2.000000    13.000000        1.000000      1.000000\n",
       "25%    1.492331e+09     9.000000    51.000000       26.000000    144.000000\n",
       "50%    1.500948e+09    12.000000    71.000000       45.000000    260.000000\n",
       "75%    1.515098e+09    18.000000   102.000000       77.000000    447.000000\n",
       "max    1.630429e+09    60.000000   299.000000     1107.000000   6653.000000"
      ]
     },
     "execution_count": 17,
     "metadata": {},
     "output_type": "execute_result"
    }
   ],
   "source": [
    "ask_df.describe()"
   ]
  },
  {
   "cell_type": "code",
   "execution_count": 18,
   "id": "f526d4b0",
   "metadata": {
    "scrolled": true
   },
   "outputs": [
    {
     "data": {
      "text/html": [
       "<div>\n",
       "<style scoped>\n",
       "    .dataframe tbody tr th:only-of-type {\n",
       "        vertical-align: middle;\n",
       "    }\n",
       "\n",
       "    .dataframe tbody tr th {\n",
       "        vertical-align: top;\n",
       "    }\n",
       "\n",
       "    .dataframe thead th {\n",
       "        text-align: right;\n",
       "    }\n",
       "</style>\n",
       "<table border=\"1\" class=\"dataframe\">\n",
       "  <thead>\n",
       "    <tr style=\"text-align: right;\">\n",
       "      <th></th>\n",
       "      <th>created_utc</th>\n",
       "      <th>title_words</th>\n",
       "      <th>title_len</th>\n",
       "      <th>selftext_words</th>\n",
       "      <th>selftext_len</th>\n",
       "    </tr>\n",
       "  </thead>\n",
       "  <tbody>\n",
       "    <tr>\n",
       "      <th>count</th>\n",
       "      <td>5.100000e+03</td>\n",
       "      <td>5100.000000</td>\n",
       "      <td>5100.000000</td>\n",
       "      <td>5100.000000</td>\n",
       "      <td>5100.000000</td>\n",
       "    </tr>\n",
       "    <tr>\n",
       "      <th>mean</th>\n",
       "      <td>1.626993e+09</td>\n",
       "      <td>12.760392</td>\n",
       "      <td>71.155294</td>\n",
       "      <td>45.689412</td>\n",
       "      <td>252.258039</td>\n",
       "    </tr>\n",
       "    <tr>\n",
       "      <th>std</th>\n",
       "      <td>2.402123e+06</td>\n",
       "      <td>7.112896</td>\n",
       "      <td>39.127639</td>\n",
       "      <td>36.634624</td>\n",
       "      <td>205.534420</td>\n",
       "    </tr>\n",
       "    <tr>\n",
       "      <th>min</th>\n",
       "      <td>1.622887e+09</td>\n",
       "      <td>1.000000</td>\n",
       "      <td>11.000000</td>\n",
       "      <td>1.000000</td>\n",
       "      <td>1.000000</td>\n",
       "    </tr>\n",
       "    <tr>\n",
       "      <th>25%</th>\n",
       "      <td>1.624961e+09</td>\n",
       "      <td>8.000000</td>\n",
       "      <td>45.000000</td>\n",
       "      <td>22.000000</td>\n",
       "      <td>118.000000</td>\n",
       "    </tr>\n",
       "    <tr>\n",
       "      <th>50%</th>\n",
       "      <td>1.626889e+09</td>\n",
       "      <td>11.000000</td>\n",
       "      <td>62.000000</td>\n",
       "      <td>37.000000</td>\n",
       "      <td>198.000000</td>\n",
       "    </tr>\n",
       "    <tr>\n",
       "      <th>75%</th>\n",
       "      <td>1.629050e+09</td>\n",
       "      <td>16.000000</td>\n",
       "      <td>88.000000</td>\n",
       "      <td>59.000000</td>\n",
       "      <td>324.000000</td>\n",
       "    </tr>\n",
       "    <tr>\n",
       "      <th>max</th>\n",
       "      <td>1.631249e+09</td>\n",
       "      <td>54.000000</td>\n",
       "      <td>299.000000</td>\n",
       "      <td>440.000000</td>\n",
       "      <td>2341.000000</td>\n",
       "    </tr>\n",
       "  </tbody>\n",
       "</table>\n",
       "</div>"
      ],
      "text/plain": [
       "        created_utc  title_words    title_len  selftext_words  selftext_len\n",
       "count  5.100000e+03  5100.000000  5100.000000     5100.000000   5100.000000\n",
       "mean   1.626993e+09    12.760392    71.155294       45.689412    252.258039\n",
       "std    2.402123e+06     7.112896    39.127639       36.634624    205.534420\n",
       "min    1.622887e+09     1.000000    11.000000        1.000000      1.000000\n",
       "25%    1.624961e+09     8.000000    45.000000       22.000000    118.000000\n",
       "50%    1.626889e+09    11.000000    62.000000       37.000000    198.000000\n",
       "75%    1.629050e+09    16.000000    88.000000       59.000000    324.000000\n",
       "max    1.631249e+09    54.000000   299.000000      440.000000   2341.000000"
      ]
     },
     "execution_count": 18,
     "metadata": {},
     "output_type": "execute_result"
    }
   ],
   "source": [
    "ex_df.describe()"
   ]
  },
  {
   "cell_type": "markdown",
   "id": "2938f140",
   "metadata": {},
   "source": [
    "**Nothing too out of line here. We see at least 1 very long selftext and title, but nothing too worrisome.**\n",
    "\n",
    "---"
   ]
  },
  {
   "cell_type": "markdown",
   "id": "dde0f01c",
   "metadata": {},
   "source": [
    "**What is the distribution of title and selftext lengths and word counts?**"
   ]
  },
  {
   "cell_type": "code",
   "execution_count": 19,
   "id": "32cbfa13",
   "metadata": {
    "scrolled": false
   },
   "outputs": [
    {
     "data": {
      "image/png": "[encoded data removed]",
      "text/plain": [
       "<Figure size 1080x1080 with 4 Axes>"
      ]
     },
     "metadata": {
      "needs_background": "light"
     },
     "output_type": "display_data"
    }
   ],
   "source": [
    "fig, ax = plt.subplots(2, 2, figsize=(15,15))\n",
    "sns.histplot(ask_df['title_len'], ax=ax[0,0])\n",
    "sns.histplot(ex_df['title_len'], ax=ax[0,1])\n",
    "sns.histplot(ask_df['title_words'], ax=ax[1,0])\n",
    "sns.histplot(ex_df['title_words'], ax=ax[1,1])\n",
    "\n",
    "ax[0,0].set(xlabel='Length', xlim=[0,300], title='AskScience Title Length')\n",
    "ax[0,1].set(xlabel='Length', xlim=[0,300], title='ELI5 Title Length')\n",
    "ax[1,0].set(xlabel='Word Count', xlim=[0,60], title='AskScience Title Word Count')\n",
    "ax[1,1].set(xlabel='Word Count', xlim=[0,60], title='ELI5 Title Word Count')\n",
    "\n",
    "fig.suptitle('Title Character & Word Count Distributions', fontsize=20);"
   ]
  },
  {
   "cell_type": "code",
   "execution_count": 20,
   "id": "dbb9cb76",
   "metadata": {},
   "outputs": [
    {
     "data": {
      "image/png": "[encoded data removed]",
      "text/plain": [
       "<Figure size 1080x1080 with 4 Axes>"
      ]
     },
     "metadata": {
      "needs_background": "light"
     },
     "output_type": "display_data"
    }
   ],
   "source": [
    "fig, ax = plt.subplots(2, 2, figsize=(15,15))\n",
    "sns.histplot(ask_df['selftext_len'], ax=ax[0,0])\n",
    "sns.histplot(ex_df['selftext_len'], ax=ax[0,1])\n",
    "sns.histplot(ask_df['selftext_words'], ax=ax[1,0])\n",
    "sns.histplot(ex_df['selftext_words'], ax=ax[1,1])\n",
    "\n",
    "ax[0,0].set(xlabel='Length', xlim=[0,2000], title='AskScience Body Length')\n",
    "ax[0,1].set(xlabel='Length', xlim=[0,2000], title='ELI5 Body Length')\n",
    "ax[1,0].set(xlabel='Word Count', xlim=[0,250], title='AskScience Body Word Count')\n",
    "ax[1,1].set(xlabel='Word Count', xlim=[0,250], title='ELI5 Body Word Count')\n",
    "\n",
    "fig.suptitle('Body Character & Word Count Distributions', fontsize=20);"
   ]
  },
  {
   "cell_type": "markdown",
   "id": "ed2ca984",
   "metadata": {},
   "source": [
    "---\n",
    "\n",
    "### For our analysis, we would benefit from having title and selftext in the same field for our model to analyze. The combined distribution will also be interesting."
   ]
  },
  {
   "cell_type": "code",
   "execution_count": 21,
   "id": "984caeec",
   "metadata": {
    "scrolled": false
   },
   "outputs": [
    {
     "data": {
      "text/html": [
       "<div>\n",
       "<style scoped>\n",
       "    .dataframe tbody tr th:only-of-type {\n",
       "        vertical-align: middle;\n",
       "    }\n",
       "\n",
       "    .dataframe tbody tr th {\n",
       "        vertical-align: top;\n",
       "    }\n",
       "\n",
       "    .dataframe thead th {\n",
       "        text-align: right;\n",
       "    }\n",
       "</style>\n",
       "<table border=\"1\" class=\"dataframe\">\n",
       "  <thead>\n",
       "    <tr style=\"text-align: right;\">\n",
       "      <th></th>\n",
       "      <th>author</th>\n",
       "      <th>created_utc</th>\n",
       "      <th>id</th>\n",
       "      <th>selftext</th>\n",
       "      <th>subreddit</th>\n",
       "      <th>title</th>\n",
       "      <th>title_words</th>\n",
       "      <th>title_len</th>\n",
       "      <th>selftext_words</th>\n",
       "      <th>selftext_len</th>\n",
       "      <th>combo</th>\n",
       "    </tr>\n",
       "  </thead>\n",
       "  <tbody>\n",
       "    <tr>\n",
       "      <th>0</th>\n",
       "      <td>ChrisGnam</td>\n",
       "      <td>1630428742</td>\n",
       "      <td>pf9tvb</td>\n",
       "      <td>So most of my peers (26 y/o and older) don't h...</td>\n",
       "      <td>askscience</td>\n",
       "      <td>Are there physiological or psychological diffe...</td>\n",
       "      <td>15</td>\n",
       "      <td>111</td>\n",
       "      <td>227</td>\n",
       "      <td>1189</td>\n",
       "      <td>Are there physiological or psychological diffe...</td>\n",
       "    </tr>\n",
       "    <tr>\n",
       "      <th>1</th>\n",
       "      <td>MaoGo</td>\n",
       "      <td>1629571284</td>\n",
       "      <td>p8wued</td>\n",
       "      <td>Neutrinos are neutrally charged particles that...</td>\n",
       "      <td>askscience</td>\n",
       "      <td>How do we know that the neutrinos have spin?</td>\n",
       "      <td>9</td>\n",
       "      <td>44</td>\n",
       "      <td>31</td>\n",
       "      <td>202</td>\n",
       "      <td>How do we know that the neutrinos have spin? N...</td>\n",
       "    </tr>\n",
       "    <tr>\n",
       "      <th>2</th>\n",
       "      <td>the_protagonist</td>\n",
       "      <td>1629571059</td>\n",
       "      <td>p8ws1c</td>\n",
       "      <td>How does that “memory” work?  \\n\\nThis comes f...</td>\n",
       "      <td>askscience</td>\n",
       "      <td>If white blood cells are constantly dying and ...</td>\n",
       "      <td>19</td>\n",
       "      <td>115</td>\n",
       "      <td>31</td>\n",
       "      <td>187</td>\n",
       "      <td>If white blood cells are constantly dying and ...</td>\n",
       "    </tr>\n",
       "    <tr>\n",
       "      <th>3</th>\n",
       "      <td>CyKii</td>\n",
       "      <td>1629567841</td>\n",
       "      <td>p8vtoe</td>\n",
       "      <td>Obviously it's best to be careful about these ...</td>\n",
       "      <td>askscience</td>\n",
       "      <td>If mRNA vaccines remain proven safe, is it act...</td>\n",
       "      <td>26</td>\n",
       "      <td>150</td>\n",
       "      <td>64</td>\n",
       "      <td>366</td>\n",
       "      <td>If mRNA vaccines remain proven safe, is it act...</td>\n",
       "    </tr>\n",
       "    <tr>\n",
       "      <th>5</th>\n",
       "      <td>Comprehensive_Lead41</td>\n",
       "      <td>1629564364</td>\n",
       "      <td>p8ushd</td>\n",
       "      <td>Why does it look like this? https://images.app...</td>\n",
       "      <td>askscience</td>\n",
       "      <td>Why is the floor of the Uyuni salt desert part...</td>\n",
       "      <td>17</td>\n",
       "      <td>102</td>\n",
       "      <td>7</td>\n",
       "      <td>71</td>\n",
       "      <td>Why is the floor of the Uyuni salt desert part...</td>\n",
       "    </tr>\n",
       "  </tbody>\n",
       "</table>\n",
       "</div>"
      ],
      "text/plain": [
       "                 author  created_utc      id  \\\n",
       "0             ChrisGnam   1630428742  pf9tvb   \n",
       "1                 MaoGo   1629571284  p8wued   \n",
       "2       the_protagonist   1629571059  p8ws1c   \n",
       "3                 CyKii   1629567841  p8vtoe   \n",
       "5  Comprehensive_Lead41   1629564364  p8ushd   \n",
       "\n",
       "                                            selftext   subreddit  \\\n",
       "0  So most of my peers (26 y/o and older) don't h...  askscience   \n",
       "1  Neutrinos are neutrally charged particles that...  askscience   \n",
       "2  How does that “memory” work?  \\n\\nThis comes f...  askscience   \n",
       "3  Obviously it's best to be careful about these ...  askscience   \n",
       "5  Why does it look like this? https://images.app...  askscience   \n",
       "\n",
       "                                               title  title_words  title_len  \\\n",
       "0  Are there physiological or psychological diffe...           15        111   \n",
       "1       How do we know that the neutrinos have spin?            9         44   \n",
       "2  If white blood cells are constantly dying and ...           19        115   \n",
       "3  If mRNA vaccines remain proven safe, is it act...           26        150   \n",
       "5  Why is the floor of the Uyuni salt desert part...           17        102   \n",
       "\n",
       "   selftext_words  selftext_len  \\\n",
       "0             227          1189   \n",
       "1              31           202   \n",
       "2              31           187   \n",
       "3              64           366   \n",
       "5               7            71   \n",
       "\n",
       "                                               combo  \n",
       "0  Are there physiological or psychological diffe...  \n",
       "1  How do we know that the neutrinos have spin? N...  \n",
       "2  If white blood cells are constantly dying and ...  \n",
       "3  If mRNA vaccines remain proven safe, is it act...  \n",
       "5  Why is the floor of the Uyuni salt desert part...  "
      ]
     },
     "execution_count": 21,
     "metadata": {},
     "output_type": "execute_result"
    }
   ],
   "source": [
    "ask_df['combo'] = ask_df['title'] + ' ' + ask_df['selftext']\n",
    "ask_df.head()"
   ]
  },
  {
   "cell_type": "code",
   "execution_count": 22,
   "id": "6912688f",
   "metadata": {},
   "outputs": [
    {
     "data": {
      "text/plain": [
       "'Why is the floor of the Uyuni salt desert partitioned into specifically hexagons and no other pattern? Why does it look like this? https://images.app.goo.gl/8HscWWGJApbzKyGp7'"
      ]
     },
     "execution_count": 22,
     "metadata": {},
     "output_type": "execute_result"
    }
   ],
   "source": [
    "ask_df['combo'][5]"
   ]
  },
  {
   "cell_type": "code",
   "execution_count": 23,
   "id": "d7ea3c83",
   "metadata": {},
   "outputs": [
    {
     "data": {
      "text/html": [
       "<div>\n",
       "<style scoped>\n",
       "    .dataframe tbody tr th:only-of-type {\n",
       "        vertical-align: middle;\n",
       "    }\n",
       "\n",
       "    .dataframe tbody tr th {\n",
       "        vertical-align: top;\n",
       "    }\n",
       "\n",
       "    .dataframe thead th {\n",
       "        text-align: right;\n",
       "    }\n",
       "</style>\n",
       "<table border=\"1\" class=\"dataframe\">\n",
       "  <thead>\n",
       "    <tr style=\"text-align: right;\">\n",
       "      <th></th>\n",
       "      <th>author</th>\n",
       "      <th>created_utc</th>\n",
       "      <th>id</th>\n",
       "      <th>selftext</th>\n",
       "      <th>subreddit</th>\n",
       "      <th>title</th>\n",
       "      <th>title_words</th>\n",
       "      <th>title_len</th>\n",
       "      <th>selftext_words</th>\n",
       "      <th>selftext_len</th>\n",
       "      <th>combo</th>\n",
       "    </tr>\n",
       "  </thead>\n",
       "  <tbody>\n",
       "    <tr>\n",
       "      <th>0</th>\n",
       "      <td>j_d0tnet</td>\n",
       "      <td>1631248750</td>\n",
       "      <td>ple5nz</td>\n",
       "      <td>Disclaimer: I did see a previous question touc...</td>\n",
       "      <td>explainlikeimfive</td>\n",
       "      <td>ELI5: Seriously, WTF is up with surface area a...</td>\n",
       "      <td>16</td>\n",
       "      <td>90</td>\n",
       "      <td>205</td>\n",
       "      <td>1098</td>\n",
       "      <td>ELI5: Seriously, WTF is up with surface area a...</td>\n",
       "    </tr>\n",
       "    <tr>\n",
       "      <th>1</th>\n",
       "      <td>ImpossibleZero</td>\n",
       "      <td>1631247022</td>\n",
       "      <td>pldqkn</td>\n",
       "      <td>I have a 30 year VA loan at 3.75% and my prope...</td>\n",
       "      <td>explainlikeimfive</td>\n",
       "      <td>ELI5: What does Refinancing a Mortgage Mean an...</td>\n",
       "      <td>14</td>\n",
       "      <td>84</td>\n",
       "      <td>44</td>\n",
       "      <td>218</td>\n",
       "      <td>ELI5: What does Refinancing a Mortgage Mean an...</td>\n",
       "    </tr>\n",
       "    <tr>\n",
       "      <th>3</th>\n",
       "      <td>Chardington</td>\n",
       "      <td>1631244279</td>\n",
       "      <td>pld1sd</td>\n",
       "      <td>I’ve been getting into finance, stonks and cry...</td>\n",
       "      <td>explainlikeimfive</td>\n",
       "      <td>ELI5: What exactly is “liquidity”?</td>\n",
       "      <td>5</td>\n",
       "      <td>34</td>\n",
       "      <td>84</td>\n",
       "      <td>500</td>\n",
       "      <td>ELI5: What exactly is “liquidity”? I’ve been g...</td>\n",
       "    </tr>\n",
       "    <tr>\n",
       "      <th>4</th>\n",
       "      <td>DentonJoe</td>\n",
       "      <td>1631244183</td>\n",
       "      <td>pld0wi</td>\n",
       "      <td>Always wondered why it doesn’t make sense to u...</td>\n",
       "      <td>explainlikeimfive</td>\n",
       "      <td>Eli5 why are diesel/electric powertrains econo...</td>\n",
       "      <td>14</td>\n",
       "      <td>92</td>\n",
       "      <td>26</td>\n",
       "      <td>173</td>\n",
       "      <td>Eli5 why are diesel/electric powertrains econo...</td>\n",
       "    </tr>\n",
       "    <tr>\n",
       "      <th>5</th>\n",
       "      <td>Aleitei</td>\n",
       "      <td>1631243837</td>\n",
       "      <td>plcxn4</td>\n",
       "      <td>Having trouble grasping this, I know time and ...</td>\n",
       "      <td>explainlikeimfive</td>\n",
       "      <td>ELI5: Why does time slow down near stronger gr...</td>\n",
       "      <td>11</td>\n",
       "      <td>70</td>\n",
       "      <td>16</td>\n",
       "      <td>85</td>\n",
       "      <td>ELI5: Why does time slow down near stronger gr...</td>\n",
       "    </tr>\n",
       "  </tbody>\n",
       "</table>\n",
       "</div>"
      ],
      "text/plain": [
       "           author  created_utc      id  \\\n",
       "0        j_d0tnet   1631248750  ple5nz   \n",
       "1  ImpossibleZero   1631247022  pldqkn   \n",
       "3     Chardington   1631244279  pld1sd   \n",
       "4       DentonJoe   1631244183  pld0wi   \n",
       "5         Aleitei   1631243837  plcxn4   \n",
       "\n",
       "                                            selftext          subreddit  \\\n",
       "0  Disclaimer: I did see a previous question touc...  explainlikeimfive   \n",
       "1  I have a 30 year VA loan at 3.75% and my prope...  explainlikeimfive   \n",
       "3  I’ve been getting into finance, stonks and cry...  explainlikeimfive   \n",
       "4  Always wondered why it doesn’t make sense to u...  explainlikeimfive   \n",
       "5  Having trouble grasping this, I know time and ...  explainlikeimfive   \n",
       "\n",
       "                                               title  title_words  title_len  \\\n",
       "0  ELI5: Seriously, WTF is up with surface area a...           16         90   \n",
       "1  ELI5: What does Refinancing a Mortgage Mean an...           14         84   \n",
       "3                 ELI5: What exactly is “liquidity”?            5         34   \n",
       "4  Eli5 why are diesel/electric powertrains econo...           14         92   \n",
       "5  ELI5: Why does time slow down near stronger gr...           11         70   \n",
       "\n",
       "   selftext_words  selftext_len  \\\n",
       "0             205          1098   \n",
       "1              44           218   \n",
       "3              84           500   \n",
       "4              26           173   \n",
       "5              16            85   \n",
       "\n",
       "                                               combo  \n",
       "0  ELI5: Seriously, WTF is up with surface area a...  \n",
       "1  ELI5: What does Refinancing a Mortgage Mean an...  \n",
       "3  ELI5: What exactly is “liquidity”? I’ve been g...  \n",
       "4  Eli5 why are diesel/electric powertrains econo...  \n",
       "5  ELI5: Why does time slow down near stronger gr...  "
      ]
     },
     "execution_count": 23,
     "metadata": {},
     "output_type": "execute_result"
    }
   ],
   "source": [
    "ex_df['combo'] = ex_df['title'] + ' ' + ex_df['selftext']\n",
    "ex_df.head()"
   ]
  },
  {
   "cell_type": "code",
   "execution_count": 24,
   "id": "1d6257d8",
   "metadata": {
    "scrolled": true
   },
   "outputs": [
    {
     "data": {
      "text/plain": [
       "'ELI5: Why does time slow down near stronger gravity celestial objects? Having trouble grasping this, I know time and space is relative but how does it work?'"
      ]
     },
     "execution_count": 24,
     "metadata": {},
     "output_type": "execute_result"
    }
   ],
   "source": [
    "ex_df['combo'][5]"
   ]
  },
  {
   "cell_type": "markdown",
   "id": "19837a46",
   "metadata": {},
   "source": [
    "**We also want to see the word count and character length for this new combo column**"
   ]
  },
  {
   "cell_type": "code",
   "execution_count": 25,
   "id": "8e8dc1f3",
   "metadata": {},
   "outputs": [
    {
     "data": {
      "text/html": [
       "<div>\n",
       "<style scoped>\n",
       "    .dataframe tbody tr th:only-of-type {\n",
       "        vertical-align: middle;\n",
       "    }\n",
       "\n",
       "    .dataframe tbody tr th {\n",
       "        vertical-align: top;\n",
       "    }\n",
       "\n",
       "    .dataframe thead th {\n",
       "        text-align: right;\n",
       "    }\n",
       "</style>\n",
       "<table border=\"1\" class=\"dataframe\">\n",
       "  <thead>\n",
       "    <tr style=\"text-align: right;\">\n",
       "      <th></th>\n",
       "      <th>author</th>\n",
       "      <th>created_utc</th>\n",
       "      <th>id</th>\n",
       "      <th>selftext</th>\n",
       "      <th>subreddit</th>\n",
       "      <th>title</th>\n",
       "      <th>title_words</th>\n",
       "      <th>title_len</th>\n",
       "      <th>selftext_words</th>\n",
       "      <th>selftext_len</th>\n",
       "      <th>combo</th>\n",
       "      <th>combo_len</th>\n",
       "      <th>combo_words</th>\n",
       "    </tr>\n",
       "  </thead>\n",
       "  <tbody>\n",
       "    <tr>\n",
       "      <th>0</th>\n",
       "      <td>ChrisGnam</td>\n",
       "      <td>1630428742</td>\n",
       "      <td>pf9tvb</td>\n",
       "      <td>So most of my peers (26 y/o and older) don't h...</td>\n",
       "      <td>askscience</td>\n",
       "      <td>Are there physiological or psychological diffe...</td>\n",
       "      <td>15</td>\n",
       "      <td>111</td>\n",
       "      <td>227</td>\n",
       "      <td>1189</td>\n",
       "      <td>Are there physiological or psychological diffe...</td>\n",
       "      <td>1300</td>\n",
       "      <td>242</td>\n",
       "    </tr>\n",
       "    <tr>\n",
       "      <th>1</th>\n",
       "      <td>MaoGo</td>\n",
       "      <td>1629571284</td>\n",
       "      <td>p8wued</td>\n",
       "      <td>Neutrinos are neutrally charged particles that...</td>\n",
       "      <td>askscience</td>\n",
       "      <td>How do we know that the neutrinos have spin?</td>\n",
       "      <td>9</td>\n",
       "      <td>44</td>\n",
       "      <td>31</td>\n",
       "      <td>202</td>\n",
       "      <td>How do we know that the neutrinos have spin? N...</td>\n",
       "      <td>246</td>\n",
       "      <td>40</td>\n",
       "    </tr>\n",
       "    <tr>\n",
       "      <th>2</th>\n",
       "      <td>the_protagonist</td>\n",
       "      <td>1629571059</td>\n",
       "      <td>p8ws1c</td>\n",
       "      <td>How does that “memory” work?  \\n\\nThis comes f...</td>\n",
       "      <td>askscience</td>\n",
       "      <td>If white blood cells are constantly dying and ...</td>\n",
       "      <td>19</td>\n",
       "      <td>115</td>\n",
       "      <td>31</td>\n",
       "      <td>187</td>\n",
       "      <td>If white blood cells are constantly dying and ...</td>\n",
       "      <td>302</td>\n",
       "      <td>50</td>\n",
       "    </tr>\n",
       "    <tr>\n",
       "      <th>3</th>\n",
       "      <td>CyKii</td>\n",
       "      <td>1629567841</td>\n",
       "      <td>p8vtoe</td>\n",
       "      <td>Obviously it's best to be careful about these ...</td>\n",
       "      <td>askscience</td>\n",
       "      <td>If mRNA vaccines remain proven safe, is it act...</td>\n",
       "      <td>26</td>\n",
       "      <td>150</td>\n",
       "      <td>64</td>\n",
       "      <td>366</td>\n",
       "      <td>If mRNA vaccines remain proven safe, is it act...</td>\n",
       "      <td>516</td>\n",
       "      <td>90</td>\n",
       "    </tr>\n",
       "    <tr>\n",
       "      <th>5</th>\n",
       "      <td>Comprehensive_Lead41</td>\n",
       "      <td>1629564364</td>\n",
       "      <td>p8ushd</td>\n",
       "      <td>Why does it look like this? https://images.app...</td>\n",
       "      <td>askscience</td>\n",
       "      <td>Why is the floor of the Uyuni salt desert part...</td>\n",
       "      <td>17</td>\n",
       "      <td>102</td>\n",
       "      <td>7</td>\n",
       "      <td>71</td>\n",
       "      <td>Why is the floor of the Uyuni salt desert part...</td>\n",
       "      <td>173</td>\n",
       "      <td>24</td>\n",
       "    </tr>\n",
       "  </tbody>\n",
       "</table>\n",
       "</div>"
      ],
      "text/plain": [
       "                 author  created_utc      id  \\\n",
       "0             ChrisGnam   1630428742  pf9tvb   \n",
       "1                 MaoGo   1629571284  p8wued   \n",
       "2       the_protagonist   1629571059  p8ws1c   \n",
       "3                 CyKii   1629567841  p8vtoe   \n",
       "5  Comprehensive_Lead41   1629564364  p8ushd   \n",
       "\n",
       "                                            selftext   subreddit  \\\n",
       "0  So most of my peers (26 y/o and older) don't h...  askscience   \n",
       "1  Neutrinos are neutrally charged particles that...  askscience   \n",
       "2  How does that “memory” work?  \\n\\nThis comes f...  askscience   \n",
       "3  Obviously it's best to be careful about these ...  askscience   \n",
       "5  Why does it look like this? https://images.app...  askscience   \n",
       "\n",
       "                                               title  title_words  title_len  \\\n",
       "0  Are there physiological or psychological diffe...           15        111   \n",
       "1       How do we know that the neutrinos have spin?            9         44   \n",
       "2  If white blood cells are constantly dying and ...           19        115   \n",
       "3  If mRNA vaccines remain proven safe, is it act...           26        150   \n",
       "5  Why is the floor of the Uyuni salt desert part...           17        102   \n",
       "\n",
       "   selftext_words  selftext_len  \\\n",
       "0             227          1189   \n",
       "1              31           202   \n",
       "2              31           187   \n",
       "3              64           366   \n",
       "5               7            71   \n",
       "\n",
       "                                               combo  combo_len  combo_words  \n",
       "0  Are there physiological or psychological diffe...       1300          242  \n",
       "1  How do we know that the neutrinos have spin? N...        246           40  \n",
       "2  If white blood cells are constantly dying and ...        302           50  \n",
       "3  If mRNA vaccines remain proven safe, is it act...        516           90  \n",
       "5  Why is the floor of the Uyuni salt desert part...        173           24  "
      ]
     },
     "execution_count": 25,
     "metadata": {},
     "output_type": "execute_result"
    }
   ],
   "source": [
    "ask_df['combo_len'] = ask_df['title_len'] + ask_df['selftext_len']\n",
    "ask_df['combo_words'] = ask_df['title_words'] + ask_df['selftext_words']\n",
    "ask_df.head()"
   ]
  },
  {
   "cell_type": "code",
   "execution_count": 26,
   "id": "a09a0bfd",
   "metadata": {},
   "outputs": [
    {
     "data": {
      "text/html": [
       "<div>\n",
       "<style scoped>\n",
       "    .dataframe tbody tr th:only-of-type {\n",
       "        vertical-align: middle;\n",
       "    }\n",
       "\n",
       "    .dataframe tbody tr th {\n",
       "        vertical-align: top;\n",
       "    }\n",
       "\n",
       "    .dataframe thead th {\n",
       "        text-align: right;\n",
       "    }\n",
       "</style>\n",
       "<table border=\"1\" class=\"dataframe\">\n",
       "  <thead>\n",
       "    <tr style=\"text-align: right;\">\n",
       "      <th></th>\n",
       "      <th>author</th>\n",
       "      <th>created_utc</th>\n",
       "      <th>id</th>\n",
       "      <th>selftext</th>\n",
       "      <th>subreddit</th>\n",
       "      <th>title</th>\n",
       "      <th>title_words</th>\n",
       "      <th>title_len</th>\n",
       "      <th>selftext_words</th>\n",
       "      <th>selftext_len</th>\n",
       "      <th>combo</th>\n",
       "      <th>combo_len</th>\n",
       "      <th>combo_words</th>\n",
       "    </tr>\n",
       "  </thead>\n",
       "  <tbody>\n",
       "    <tr>\n",
       "      <th>0</th>\n",
       "      <td>j_d0tnet</td>\n",
       "      <td>1631248750</td>\n",
       "      <td>ple5nz</td>\n",
       "      <td>Disclaimer: I did see a previous question touc...</td>\n",
       "      <td>explainlikeimfive</td>\n",
       "      <td>ELI5: Seriously, WTF is up with surface area a...</td>\n",
       "      <td>16</td>\n",
       "      <td>90</td>\n",
       "      <td>205</td>\n",
       "      <td>1098</td>\n",
       "      <td>ELI5: Seriously, WTF is up with surface area a...</td>\n",
       "      <td>1188</td>\n",
       "      <td>221</td>\n",
       "    </tr>\n",
       "    <tr>\n",
       "      <th>1</th>\n",
       "      <td>ImpossibleZero</td>\n",
       "      <td>1631247022</td>\n",
       "      <td>pldqkn</td>\n",
       "      <td>I have a 30 year VA loan at 3.75% and my prope...</td>\n",
       "      <td>explainlikeimfive</td>\n",
       "      <td>ELI5: What does Refinancing a Mortgage Mean an...</td>\n",
       "      <td>14</td>\n",
       "      <td>84</td>\n",
       "      <td>44</td>\n",
       "      <td>218</td>\n",
       "      <td>ELI5: What does Refinancing a Mortgage Mean an...</td>\n",
       "      <td>302</td>\n",
       "      <td>58</td>\n",
       "    </tr>\n",
       "    <tr>\n",
       "      <th>3</th>\n",
       "      <td>Chardington</td>\n",
       "      <td>1631244279</td>\n",
       "      <td>pld1sd</td>\n",
       "      <td>I’ve been getting into finance, stonks and cry...</td>\n",
       "      <td>explainlikeimfive</td>\n",
       "      <td>ELI5: What exactly is “liquidity”?</td>\n",
       "      <td>5</td>\n",
       "      <td>34</td>\n",
       "      <td>84</td>\n",
       "      <td>500</td>\n",
       "      <td>ELI5: What exactly is “liquidity”? I’ve been g...</td>\n",
       "      <td>534</td>\n",
       "      <td>89</td>\n",
       "    </tr>\n",
       "    <tr>\n",
       "      <th>4</th>\n",
       "      <td>DentonJoe</td>\n",
       "      <td>1631244183</td>\n",
       "      <td>pld0wi</td>\n",
       "      <td>Always wondered why it doesn’t make sense to u...</td>\n",
       "      <td>explainlikeimfive</td>\n",
       "      <td>Eli5 why are diesel/electric powertrains econo...</td>\n",
       "      <td>14</td>\n",
       "      <td>92</td>\n",
       "      <td>26</td>\n",
       "      <td>173</td>\n",
       "      <td>Eli5 why are diesel/electric powertrains econo...</td>\n",
       "      <td>265</td>\n",
       "      <td>40</td>\n",
       "    </tr>\n",
       "    <tr>\n",
       "      <th>5</th>\n",
       "      <td>Aleitei</td>\n",
       "      <td>1631243837</td>\n",
       "      <td>plcxn4</td>\n",
       "      <td>Having trouble grasping this, I know time and ...</td>\n",
       "      <td>explainlikeimfive</td>\n",
       "      <td>ELI5: Why does time slow down near stronger gr...</td>\n",
       "      <td>11</td>\n",
       "      <td>70</td>\n",
       "      <td>16</td>\n",
       "      <td>85</td>\n",
       "      <td>ELI5: Why does time slow down near stronger gr...</td>\n",
       "      <td>155</td>\n",
       "      <td>27</td>\n",
       "    </tr>\n",
       "  </tbody>\n",
       "</table>\n",
       "</div>"
      ],
      "text/plain": [
       "           author  created_utc      id  \\\n",
       "0        j_d0tnet   1631248750  ple5nz   \n",
       "1  ImpossibleZero   1631247022  pldqkn   \n",
       "3     Chardington   1631244279  pld1sd   \n",
       "4       DentonJoe   1631244183  pld0wi   \n",
       "5         Aleitei   1631243837  plcxn4   \n",
       "\n",
       "                                            selftext          subreddit  \\\n",
       "0  Disclaimer: I did see a previous question touc...  explainlikeimfive   \n",
       "1  I have a 30 year VA loan at 3.75% and my prope...  explainlikeimfive   \n",
       "3  I’ve been getting into finance, stonks and cry...  explainlikeimfive   \n",
       "4  Always wondered why it doesn’t make sense to u...  explainlikeimfive   \n",
       "5  Having trouble grasping this, I know time and ...  explainlikeimfive   \n",
       "\n",
       "                                               title  title_words  title_len  \\\n",
       "0  ELI5: Seriously, WTF is up with surface area a...           16         90   \n",
       "1  ELI5: What does Refinancing a Mortgage Mean an...           14         84   \n",
       "3                 ELI5: What exactly is “liquidity”?            5         34   \n",
       "4  Eli5 why are diesel/electric powertrains econo...           14         92   \n",
       "5  ELI5: Why does time slow down near stronger gr...           11         70   \n",
       "\n",
       "   selftext_words  selftext_len  \\\n",
       "0             205          1098   \n",
       "1              44           218   \n",
       "3              84           500   \n",
       "4              26           173   \n",
       "5              16            85   \n",
       "\n",
       "                                               combo  combo_len  combo_words  \n",
       "0  ELI5: Seriously, WTF is up with surface area a...       1188          221  \n",
       "1  ELI5: What does Refinancing a Mortgage Mean an...        302           58  \n",
       "3  ELI5: What exactly is “liquidity”? I’ve been g...        534           89  \n",
       "4  Eli5 why are diesel/electric powertrains econo...        265           40  \n",
       "5  ELI5: Why does time slow down near stronger gr...        155           27  "
      ]
     },
     "execution_count": 26,
     "metadata": {},
     "output_type": "execute_result"
    }
   ],
   "source": [
    "ex_df['combo_len'] = ex_df['title_len'] + ex_df['selftext_len']\n",
    "ex_df['combo_words'] = ex_df['title_words'] + ex_df['selftext_words']\n",
    "ex_df.head()"
   ]
  },
  {
   "cell_type": "markdown",
   "id": "b572ed70",
   "metadata": {},
   "source": [
    "**Let's look at this new columns distribution**"
   ]
  },
  {
   "cell_type": "code",
   "execution_count": 27,
   "id": "6576a17f",
   "metadata": {},
   "outputs": [
    {
     "data": {
      "image/png": "[encoded data removed]",
      "text/plain": [
       "<Figure size 1080x1080 with 4 Axes>"
      ]
     },
     "metadata": {
      "needs_background": "light"
     },
     "output_type": "display_data"
    }
   ],
   "source": [
    "fig, ax = plt.subplots(2, 2, figsize=(15,15))\n",
    "sns.histplot(ask_df['combo_len'], ax=ax[0,0])\n",
    "sns.histplot(ex_df['combo_len'], ax=ax[0,1])\n",
    "sns.histplot(ask_df['combo_words'], ax=ax[1,0])\n",
    "sns.histplot(ex_df['combo_words'], ax=ax[1,1])\n",
    "\n",
    "ax[0,0].set(xlabel='Length', xlim=[0,2000], title='AskScience combo Character Length')\n",
    "ax[0,1].set(xlabel='Length', xlim=[0,2000], title='ELI5 combo Character Length')\n",
    "ax[1,0].set(xlabel='Word Count', xlim=[0,300], title='AskScience combo Word Count')\n",
    "ax[1,1].set(xlabel='Word Count', xlim=[0,300], title='ELI5 combo Word Count')\n",
    "\n",
    "fig.suptitle('Combo Character & Word Count Distributions', fontsize=20);"
   ]
  },
  {
   "cell_type": "code",
   "execution_count": 28,
   "id": "992d4fec",
   "metadata": {},
   "outputs": [
    {
     "data": {
      "text/html": [
       "<div>\n",
       "<style scoped>\n",
       "    .dataframe tbody tr th:only-of-type {\n",
       "        vertical-align: middle;\n",
       "    }\n",
       "\n",
       "    .dataframe tbody tr th {\n",
       "        vertical-align: top;\n",
       "    }\n",
       "\n",
       "    .dataframe thead th {\n",
       "        text-align: right;\n",
       "    }\n",
       "</style>\n",
       "<table border=\"1\" class=\"dataframe\">\n",
       "  <thead>\n",
       "    <tr style=\"text-align: right;\">\n",
       "      <th></th>\n",
       "      <th>created_utc</th>\n",
       "      <th>title_words</th>\n",
       "      <th>title_len</th>\n",
       "      <th>selftext_words</th>\n",
       "      <th>selftext_len</th>\n",
       "      <th>combo_len</th>\n",
       "      <th>combo_words</th>\n",
       "    </tr>\n",
       "  </thead>\n",
       "  <tbody>\n",
       "    <tr>\n",
       "      <th>count</th>\n",
       "      <td>6.802000e+03</td>\n",
       "      <td>6802.000000</td>\n",
       "      <td>6802.000000</td>\n",
       "      <td>6802.000000</td>\n",
       "      <td>6802.000000</td>\n",
       "      <td>6802.000000</td>\n",
       "      <td>6802.000000</td>\n",
       "    </tr>\n",
       "    <tr>\n",
       "      <th>mean</th>\n",
       "      <td>1.509692e+09</td>\n",
       "      <td>14.130550</td>\n",
       "      <td>81.276389</td>\n",
       "      <td>61.548662</td>\n",
       "      <td>361.237136</td>\n",
       "      <td>442.513525</td>\n",
       "      <td>75.679212</td>\n",
       "    </tr>\n",
       "    <tr>\n",
       "      <th>std</th>\n",
       "      <td>2.997119e+07</td>\n",
       "      <td>7.742759</td>\n",
       "      <td>43.499165</td>\n",
       "      <td>61.587431</td>\n",
       "      <td>373.724661</td>\n",
       "      <td>378.239904</td>\n",
       "      <td>62.100203</td>\n",
       "    </tr>\n",
       "    <tr>\n",
       "      <th>min</th>\n",
       "      <td>1.483134e+09</td>\n",
       "      <td>2.000000</td>\n",
       "      <td>13.000000</td>\n",
       "      <td>1.000000</td>\n",
       "      <td>1.000000</td>\n",
       "      <td>32.000000</td>\n",
       "      <td>5.000000</td>\n",
       "    </tr>\n",
       "    <tr>\n",
       "      <th>25%</th>\n",
       "      <td>1.492331e+09</td>\n",
       "      <td>9.000000</td>\n",
       "      <td>51.000000</td>\n",
       "      <td>26.000000</td>\n",
       "      <td>144.000000</td>\n",
       "      <td>222.000000</td>\n",
       "      <td>39.000000</td>\n",
       "    </tr>\n",
       "    <tr>\n",
       "      <th>50%</th>\n",
       "      <td>1.500948e+09</td>\n",
       "      <td>12.000000</td>\n",
       "      <td>71.000000</td>\n",
       "      <td>45.000000</td>\n",
       "      <td>260.000000</td>\n",
       "      <td>341.000000</td>\n",
       "      <td>59.000000</td>\n",
       "    </tr>\n",
       "    <tr>\n",
       "      <th>75%</th>\n",
       "      <td>1.515098e+09</td>\n",
       "      <td>18.000000</td>\n",
       "      <td>102.000000</td>\n",
       "      <td>77.000000</td>\n",
       "      <td>447.000000</td>\n",
       "      <td>534.750000</td>\n",
       "      <td>91.000000</td>\n",
       "    </tr>\n",
       "    <tr>\n",
       "      <th>max</th>\n",
       "      <td>1.630429e+09</td>\n",
       "      <td>60.000000</td>\n",
       "      <td>299.000000</td>\n",
       "      <td>1107.000000</td>\n",
       "      <td>6653.000000</td>\n",
       "      <td>6806.000000</td>\n",
       "      <td>1130.000000</td>\n",
       "    </tr>\n",
       "  </tbody>\n",
       "</table>\n",
       "</div>"
      ],
      "text/plain": [
       "        created_utc  title_words    title_len  selftext_words  selftext_len  \\\n",
       "count  6.802000e+03  6802.000000  6802.000000     6802.000000   6802.000000   \n",
       "mean   1.509692e+09    14.130550    81.276389       61.548662    361.237136   \n",
       "std    2.997119e+07     7.742759    43.499165       61.587431    373.724661   \n",
       "min    1.483134e+09     2.000000    13.000000        1.000000      1.000000   \n",
       "25%    1.492331e+09     9.000000    51.000000       26.000000    144.000000   \n",
       "50%    1.500948e+09    12.000000    71.000000       45.000000    260.000000   \n",
       "75%    1.515098e+09    18.000000   102.000000       77.000000    447.000000   \n",
       "max    1.630429e+09    60.000000   299.000000     1107.000000   6653.000000   \n",
       "\n",
       "         combo_len  combo_words  \n",
       "count  6802.000000  6802.000000  \n",
       "mean    442.513525    75.679212  \n",
       "std     378.239904    62.100203  \n",
       "min      32.000000     5.000000  \n",
       "25%     222.000000    39.000000  \n",
       "50%     341.000000    59.000000  \n",
       "75%     534.750000    91.000000  \n",
       "max    6806.000000  1130.000000  "
      ]
     },
     "execution_count": 28,
     "metadata": {},
     "output_type": "execute_result"
    }
   ],
   "source": [
    "ask_df.describe()"
   ]
  },
  {
   "cell_type": "code",
   "execution_count": 29,
   "id": "350cfeb5",
   "metadata": {},
   "outputs": [
    {
     "data": {
      "text/html": [
       "<div>\n",
       "<style scoped>\n",
       "    .dataframe tbody tr th:only-of-type {\n",
       "        vertical-align: middle;\n",
       "    }\n",
       "\n",
       "    .dataframe tbody tr th {\n",
       "        vertical-align: top;\n",
       "    }\n",
       "\n",
       "    .dataframe thead th {\n",
       "        text-align: right;\n",
       "    }\n",
       "</style>\n",
       "<table border=\"1\" class=\"dataframe\">\n",
       "  <thead>\n",
       "    <tr style=\"text-align: right;\">\n",
       "      <th></th>\n",
       "      <th>created_utc</th>\n",
       "      <th>title_words</th>\n",
       "      <th>title_len</th>\n",
       "      <th>selftext_words</th>\n",
       "      <th>selftext_len</th>\n",
       "      <th>combo_len</th>\n",
       "      <th>combo_words</th>\n",
       "    </tr>\n",
       "  </thead>\n",
       "  <tbody>\n",
       "    <tr>\n",
       "      <th>count</th>\n",
       "      <td>5.100000e+03</td>\n",
       "      <td>5100.000000</td>\n",
       "      <td>5100.000000</td>\n",
       "      <td>5100.000000</td>\n",
       "      <td>5100.000000</td>\n",
       "      <td>5100.000000</td>\n",
       "      <td>5100.000000</td>\n",
       "    </tr>\n",
       "    <tr>\n",
       "      <th>mean</th>\n",
       "      <td>1.626993e+09</td>\n",
       "      <td>12.760392</td>\n",
       "      <td>71.155294</td>\n",
       "      <td>45.689412</td>\n",
       "      <td>252.258039</td>\n",
       "      <td>323.413333</td>\n",
       "      <td>58.449804</td>\n",
       "    </tr>\n",
       "    <tr>\n",
       "      <th>std</th>\n",
       "      <td>2.402123e+06</td>\n",
       "      <td>7.112896</td>\n",
       "      <td>39.127639</td>\n",
       "      <td>36.634624</td>\n",
       "      <td>205.534420</td>\n",
       "      <td>211.108356</td>\n",
       "      <td>37.465419</td>\n",
       "    </tr>\n",
       "    <tr>\n",
       "      <th>min</th>\n",
       "      <td>1.622887e+09</td>\n",
       "      <td>1.000000</td>\n",
       "      <td>11.000000</td>\n",
       "      <td>1.000000</td>\n",
       "      <td>1.000000</td>\n",
       "      <td>26.000000</td>\n",
       "      <td>3.000000</td>\n",
       "    </tr>\n",
       "    <tr>\n",
       "      <th>25%</th>\n",
       "      <td>1.624961e+09</td>\n",
       "      <td>8.000000</td>\n",
       "      <td>45.000000</td>\n",
       "      <td>22.000000</td>\n",
       "      <td>118.000000</td>\n",
       "      <td>186.000000</td>\n",
       "      <td>34.000000</td>\n",
       "    </tr>\n",
       "    <tr>\n",
       "      <th>50%</th>\n",
       "      <td>1.626889e+09</td>\n",
       "      <td>11.000000</td>\n",
       "      <td>62.000000</td>\n",
       "      <td>37.000000</td>\n",
       "      <td>198.000000</td>\n",
       "      <td>270.000000</td>\n",
       "      <td>49.000000</td>\n",
       "    </tr>\n",
       "    <tr>\n",
       "      <th>75%</th>\n",
       "      <td>1.629050e+09</td>\n",
       "      <td>16.000000</td>\n",
       "      <td>88.000000</td>\n",
       "      <td>59.000000</td>\n",
       "      <td>324.000000</td>\n",
       "      <td>400.250000</td>\n",
       "      <td>72.000000</td>\n",
       "    </tr>\n",
       "    <tr>\n",
       "      <th>max</th>\n",
       "      <td>1.631249e+09</td>\n",
       "      <td>54.000000</td>\n",
       "      <td>299.000000</td>\n",
       "      <td>440.000000</td>\n",
       "      <td>2341.000000</td>\n",
       "      <td>2378.000000</td>\n",
       "      <td>445.000000</td>\n",
       "    </tr>\n",
       "  </tbody>\n",
       "</table>\n",
       "</div>"
      ],
      "text/plain": [
       "        created_utc  title_words    title_len  selftext_words  selftext_len  \\\n",
       "count  5.100000e+03  5100.000000  5100.000000     5100.000000   5100.000000   \n",
       "mean   1.626993e+09    12.760392    71.155294       45.689412    252.258039   \n",
       "std    2.402123e+06     7.112896    39.127639       36.634624    205.534420   \n",
       "min    1.622887e+09     1.000000    11.000000        1.000000      1.000000   \n",
       "25%    1.624961e+09     8.000000    45.000000       22.000000    118.000000   \n",
       "50%    1.626889e+09    11.000000    62.000000       37.000000    198.000000   \n",
       "75%    1.629050e+09    16.000000    88.000000       59.000000    324.000000   \n",
       "max    1.631249e+09    54.000000   299.000000      440.000000   2341.000000   \n",
       "\n",
       "         combo_len  combo_words  \n",
       "count  5100.000000  5100.000000  \n",
       "mean    323.413333    58.449804  \n",
       "std     211.108356    37.465419  \n",
       "min      26.000000     3.000000  \n",
       "25%     186.000000    34.000000  \n",
       "50%     270.000000    49.000000  \n",
       "75%     400.250000    72.000000  \n",
       "max    2378.000000   445.000000  "
      ]
     },
     "execution_count": 29,
     "metadata": {},
     "output_type": "execute_result"
    }
   ],
   "source": [
    "ex_df.describe()"
   ]
  },
  {
   "cell_type": "markdown",
   "id": "6d0a508a",
   "metadata": {},
   "source": [
    "## Let's initialize a Count Vectorizer to further perform some data analysis"
   ]
  },
  {
   "cell_type": "code",
   "execution_count": 30,
   "id": "93507128",
   "metadata": {},
   "outputs": [],
   "source": [
    "#We want to use the standard stopwords\n",
    "en_stopwords = stopwords.words('english')\n",
    "\n",
    "#We also want to remove the ELI5, otherwise it would be a (nearly) 100% indicator\n",
    "en_stopwords.append('eli5')\n",
    "\n",
    "#From our analysis we also found some other words that would be beneficial to remove\n",
    "en_stopwords.append('https')\n",
    "en_stopwords.append('www')\n",
    "en_stopwords.append('like')\n",
    "en_stopwords.append('would')\n",
    "en_stopwords.append('imgur')\n",
    "en_stopwords.append('com')\n",
    "en_stopwords.append('en')\n",
    "en_stopwords.append('wikipedia')\n",
    "en_stopwords.append('org')\n",
    "en_stopwords.append('wiki')\n",
    "en_stopwords.append('x200b')\n",
    "\n",
    "cvec = CountVectorizer(stop_words=en_stopwords)\n",
    "\n",
    "ask_vect = cvec.fit_transform(ask_df['combo'])\n",
    "ask_vect_df = pd.DataFrame(ask_vect.todense(), columns=cvec.get_feature_names())\n",
    "\n",
    "ex_vect = cvec.fit_transform(ex_df['combo'])\n",
    "ex_vect_df = pd.DataFrame(ex_vect.todense(), columns=cvec.get_feature_names())"
   ]
  },
  {
   "cell_type": "code",
   "execution_count": 31,
   "id": "8b8f8dec",
   "metadata": {},
   "outputs": [
    {
     "name": "stdout",
     "output_type": "stream",
     "text": [
      "AskScience dataset has a shape of:  (6802, 21735)\n",
      "ELI5 dataset has a shape of:  (5100, 16747)\n"
     ]
    }
   ],
   "source": [
    "print('AskScience dataset has a shape of: ', ask_vect_df.shape)\n",
    "print('ELI5 dataset has a shape of: ', ex_vect_df.shape)"
   ]
  },
  {
   "cell_type": "code",
   "execution_count": 32,
   "id": "981dc2c1",
   "metadata": {},
   "outputs": [
    {
     "data": {
      "image/png": "[encoded data removed]",
      "text/plain": [
       "<Figure size 1152x432 with 2 Axes>"
      ]
     },
     "metadata": {
      "needs_background": "light"
     },
     "output_type": "display_data"
    }
   ],
   "source": [
    "fig, ax = plt.subplots(1,2,figsize=(16,6))\n",
    "ask_vect_df.sum().sort_values(ascending=False).head(10).plot(kind='barh', ax=ax[0], fontsize=14)\n",
    "ex_vect_df.sum().sort_values(ascending=False).head(10).plot(kind='barh', ax=ax[1], fontsize=14)\n",
    "\n",
    "ax[0].set_title('AskScience', fontsize=18)\n",
    "ax[1].set_title('ELI5', fontsize=18)\n",
    "ax[0].invert_yaxis()\n",
    "ax[1].invert_yaxis()\n",
    "\n",
    "fig.suptitle('Top 10 Words', fontsize=24)\n",
    "fig.text(0.5,0.04, 'Number of Occurances', ha='center', fontsize=18);"
   ]
  },
  {
   "cell_type": "markdown",
   "id": "e781a364",
   "metadata": {},
   "source": [
    "**Interesting. There appears to still be some 'stop words', but they may add value by defining the average author's vocabulary**\n",
    "\n",
    "---\n",
    "\n",
    "**How about if we use 2 word phrases via ngram?**"
   ]
  },
  {
   "cell_type": "code",
   "execution_count": 33,
   "id": "d7692484",
   "metadata": {},
   "outputs": [],
   "source": [
    "cvec2 = CountVectorizer(stop_words=en_stopwords, ngram_range=(2,2))\n",
    "\n",
    "ask_vect = cvec2.fit_transform(ask_df['combo'])\n",
    "ask_vect_df = pd.DataFrame(ask_vect.todense(), columns=cvec2.get_feature_names())\n",
    "\n",
    "ex_vect = cvec2.fit_transform(ex_df['combo'])\n",
    "ex_vect_df = pd.DataFrame(ex_vect.todense(), columns=cvec2.get_feature_names())"
   ]
  },
  {
   "cell_type": "code",
   "execution_count": 34,
   "id": "5f71bf58",
   "metadata": {},
   "outputs": [
    {
     "name": "stdout",
     "output_type": "stream",
     "text": [
      "AskScience dataset has a shape of:  (6802, 200627)\n",
      "ELI5 dataset has a shape of:  (5100, 115997)\n"
     ]
    }
   ],
   "source": [
    "print('AskScience dataset has a shape of: ', ask_vect_df.shape)\n",
    "print('ELI5 dataset has a shape of: ', ex_vect_df.shape)"
   ]
  },
  {
   "cell_type": "code",
   "execution_count": 35,
   "id": "a38ad7da",
   "metadata": {
    "scrolled": false
   },
   "outputs": [
    {
     "data": {
      "image/png": "[encoded data removed]",
      "text/plain": [
       "<Figure size 1152x432 with 2 Axes>"
      ]
     },
     "metadata": {
      "needs_background": "light"
     },
     "output_type": "display_data"
    }
   ],
   "source": [
    "fig2, ax2 = plt.subplots(1,2,figsize=(16,6))\n",
    "ask_vect_df.sum().sort_values(ascending=False).head(10).plot(kind='barh', ax=ax2[0], fontsize=14)\n",
    "ex_vect_df.sum().sort_values(ascending=False).head(10).plot(kind='barh', ax=ax2[1], fontsize=14)\n",
    "\n",
    "ax2[0].set_title('AskScience', fontsize=18)\n",
    "ax2[1].set_title('ELI5', fontsize=18)\n",
    "ax2[0].invert_yaxis()\n",
    "ax2[1].invert_yaxis()\n",
    "\n",
    "fig2.suptitle('Top 10 2-Word Ngrams', fontsize=24)\n",
    "fig2.text(0.5,0.04, 'Number of Occurances', ha='center', fontsize=18);"
   ]
  },
  {
   "cell_type": "markdown",
   "id": "40bca2dd",
   "metadata": {},
   "source": [
    "**This seems much more useful than when we only used 1-word ngrams**"
   ]
  }
 ],
 "metadata": {
  "kernelspec": {
   "display_name": "Python 3",
   "language": "python",
   "name": "python3"
  },
  "language_info": {
   "codemirror_mode": {
    "name": "ipython",
    "version": 3
   },
   "file_extension": ".py",
   "mimetype": "text/x-python",
   "name": "python",
   "nbconvert_exporter": "python",
   "pygments_lexer": "ipython3",
   "version": "3.8.8"
  }
 },
 "nbformat": 4,
 "nbformat_minor": 5
}
